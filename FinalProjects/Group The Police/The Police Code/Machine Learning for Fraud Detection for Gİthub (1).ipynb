{
 "cells": [
  {
   "cell_type": "markdown",
   "metadata": {},
   "source": [
    "# I. INTRODUCTION"
   ]
  },
  {
   "cell_type": "markdown",
   "metadata": {},
   "source": [
    "# I.I LIBRARIES "
   ]
  },
  {
   "cell_type": "code",
   "execution_count": 1,
   "metadata": {},
   "outputs": [],
   "source": [
    "#importing packages\n",
    "%matplotlib inline\n",
    "import scipy.stats as stats\n",
    "import numpy as np\n",
    "import pandas as pd\n",
    "import matplotlib.pyplot as plt\n",
    "import seaborn as sns\n",
    "plt.style.use('ggplot')\n",
    "import pickle"
   ]
  },
  {
   "cell_type": "markdown",
   "metadata": {},
   "source": [
    "# I.II PULLING OF DATA "
   ]
  },
  {
   "cell_type": "markdown",
   "metadata": {},
   "source": [
    "### Pull Data from Csv File"
   ]
  },
  {
   "cell_type": "code",
   "execution_count": 2,
   "metadata": {},
   "outputs": [],
   "source": [
    "# df = pd.read_csv('creditcard.csv')"
   ]
  },
  {
   "cell_type": "markdown",
   "metadata": {},
   "source": [
    "### Pull Data from Zip File "
   ]
  },
  {
   "cell_type": "code",
   "execution_count": 3,
   "metadata": {},
   "outputs": [],
   "source": [
    "df = pd.read_csv('creditcard_csv.zip', compression='zip',header=0,sep=',')"
   ]
  },
  {
   "cell_type": "code",
   "execution_count": 4,
   "metadata": {},
   "outputs": [
    {
     "data": {
      "text/html": [
       "<div>\n",
       "<style scoped>\n",
       "    .dataframe tbody tr th:only-of-type {\n",
       "        vertical-align: middle;\n",
       "    }\n",
       "\n",
       "    .dataframe tbody tr th {\n",
       "        vertical-align: top;\n",
       "    }\n",
       "\n",
       "    .dataframe thead th {\n",
       "        text-align: right;\n",
       "    }\n",
       "</style>\n",
       "<table border=\"1\" class=\"dataframe\">\n",
       "  <thead>\n",
       "    <tr style=\"text-align: right;\">\n",
       "      <th></th>\n",
       "      <th>Time</th>\n",
       "      <th>V1</th>\n",
       "      <th>V2</th>\n",
       "      <th>V3</th>\n",
       "      <th>V4</th>\n",
       "      <th>V5</th>\n",
       "      <th>V6</th>\n",
       "      <th>V7</th>\n",
       "      <th>V8</th>\n",
       "      <th>V9</th>\n",
       "      <th>...</th>\n",
       "      <th>V21</th>\n",
       "      <th>V22</th>\n",
       "      <th>V23</th>\n",
       "      <th>V24</th>\n",
       "      <th>V25</th>\n",
       "      <th>V26</th>\n",
       "      <th>V27</th>\n",
       "      <th>V28</th>\n",
       "      <th>Amount</th>\n",
       "      <th>Class</th>\n",
       "    </tr>\n",
       "  </thead>\n",
       "  <tbody>\n",
       "    <tr>\n",
       "      <th>0</th>\n",
       "      <td>0.0</td>\n",
       "      <td>-1.359807</td>\n",
       "      <td>-0.072781</td>\n",
       "      <td>2.536347</td>\n",
       "      <td>1.378155</td>\n",
       "      <td>-0.338321</td>\n",
       "      <td>0.462388</td>\n",
       "      <td>0.239599</td>\n",
       "      <td>0.098698</td>\n",
       "      <td>0.363787</td>\n",
       "      <td>...</td>\n",
       "      <td>-0.018307</td>\n",
       "      <td>0.277838</td>\n",
       "      <td>-0.110474</td>\n",
       "      <td>0.066928</td>\n",
       "      <td>0.128539</td>\n",
       "      <td>-0.189115</td>\n",
       "      <td>0.133558</td>\n",
       "      <td>-0.021053</td>\n",
       "      <td>149.62</td>\n",
       "      <td>0</td>\n",
       "    </tr>\n",
       "    <tr>\n",
       "      <th>1</th>\n",
       "      <td>0.0</td>\n",
       "      <td>1.191857</td>\n",
       "      <td>0.266151</td>\n",
       "      <td>0.166480</td>\n",
       "      <td>0.448154</td>\n",
       "      <td>0.060018</td>\n",
       "      <td>-0.082361</td>\n",
       "      <td>-0.078803</td>\n",
       "      <td>0.085102</td>\n",
       "      <td>-0.255425</td>\n",
       "      <td>...</td>\n",
       "      <td>-0.225775</td>\n",
       "      <td>-0.638672</td>\n",
       "      <td>0.101288</td>\n",
       "      <td>-0.339846</td>\n",
       "      <td>0.167170</td>\n",
       "      <td>0.125895</td>\n",
       "      <td>-0.008983</td>\n",
       "      <td>0.014724</td>\n",
       "      <td>2.69</td>\n",
       "      <td>0</td>\n",
       "    </tr>\n",
       "    <tr>\n",
       "      <th>2</th>\n",
       "      <td>1.0</td>\n",
       "      <td>-1.358354</td>\n",
       "      <td>-1.340163</td>\n",
       "      <td>1.773209</td>\n",
       "      <td>0.379780</td>\n",
       "      <td>-0.503198</td>\n",
       "      <td>1.800499</td>\n",
       "      <td>0.791461</td>\n",
       "      <td>0.247676</td>\n",
       "      <td>-1.514654</td>\n",
       "      <td>...</td>\n",
       "      <td>0.247998</td>\n",
       "      <td>0.771679</td>\n",
       "      <td>0.909412</td>\n",
       "      <td>-0.689281</td>\n",
       "      <td>-0.327642</td>\n",
       "      <td>-0.139097</td>\n",
       "      <td>-0.055353</td>\n",
       "      <td>-0.059752</td>\n",
       "      <td>378.66</td>\n",
       "      <td>0</td>\n",
       "    </tr>\n",
       "    <tr>\n",
       "      <th>3</th>\n",
       "      <td>1.0</td>\n",
       "      <td>-0.966272</td>\n",
       "      <td>-0.185226</td>\n",
       "      <td>1.792993</td>\n",
       "      <td>-0.863291</td>\n",
       "      <td>-0.010309</td>\n",
       "      <td>1.247203</td>\n",
       "      <td>0.237609</td>\n",
       "      <td>0.377436</td>\n",
       "      <td>-1.387024</td>\n",
       "      <td>...</td>\n",
       "      <td>-0.108300</td>\n",
       "      <td>0.005274</td>\n",
       "      <td>-0.190321</td>\n",
       "      <td>-1.175575</td>\n",
       "      <td>0.647376</td>\n",
       "      <td>-0.221929</td>\n",
       "      <td>0.062723</td>\n",
       "      <td>0.061458</td>\n",
       "      <td>123.50</td>\n",
       "      <td>0</td>\n",
       "    </tr>\n",
       "    <tr>\n",
       "      <th>4</th>\n",
       "      <td>2.0</td>\n",
       "      <td>-1.158233</td>\n",
       "      <td>0.877737</td>\n",
       "      <td>1.548718</td>\n",
       "      <td>0.403034</td>\n",
       "      <td>-0.407193</td>\n",
       "      <td>0.095921</td>\n",
       "      <td>0.592941</td>\n",
       "      <td>-0.270533</td>\n",
       "      <td>0.817739</td>\n",
       "      <td>...</td>\n",
       "      <td>-0.009431</td>\n",
       "      <td>0.798278</td>\n",
       "      <td>-0.137458</td>\n",
       "      <td>0.141267</td>\n",
       "      <td>-0.206010</td>\n",
       "      <td>0.502292</td>\n",
       "      <td>0.219422</td>\n",
       "      <td>0.215153</td>\n",
       "      <td>69.99</td>\n",
       "      <td>0</td>\n",
       "    </tr>\n",
       "  </tbody>\n",
       "</table>\n",
       "<p>5 rows × 31 columns</p>\n",
       "</div>"
      ],
      "text/plain": [
       "   Time        V1        V2        V3        V4        V5        V6        V7  \\\n",
       "0   0.0 -1.359807 -0.072781  2.536347  1.378155 -0.338321  0.462388  0.239599   \n",
       "1   0.0  1.191857  0.266151  0.166480  0.448154  0.060018 -0.082361 -0.078803   \n",
       "2   1.0 -1.358354 -1.340163  1.773209  0.379780 -0.503198  1.800499  0.791461   \n",
       "3   1.0 -0.966272 -0.185226  1.792993 -0.863291 -0.010309  1.247203  0.237609   \n",
       "4   2.0 -1.158233  0.877737  1.548718  0.403034 -0.407193  0.095921  0.592941   \n",
       "\n",
       "         V8        V9  ...       V21       V22       V23       V24       V25  \\\n",
       "0  0.098698  0.363787  ... -0.018307  0.277838 -0.110474  0.066928  0.128539   \n",
       "1  0.085102 -0.255425  ... -0.225775 -0.638672  0.101288 -0.339846  0.167170   \n",
       "2  0.247676 -1.514654  ...  0.247998  0.771679  0.909412 -0.689281 -0.327642   \n",
       "3  0.377436 -1.387024  ... -0.108300  0.005274 -0.190321 -1.175575  0.647376   \n",
       "4 -0.270533  0.817739  ... -0.009431  0.798278 -0.137458  0.141267 -0.206010   \n",
       "\n",
       "        V26       V27       V28  Amount  Class  \n",
       "0 -0.189115  0.133558 -0.021053  149.62      0  \n",
       "1  0.125895 -0.008983  0.014724    2.69      0  \n",
       "2 -0.139097 -0.055353 -0.059752  378.66      0  \n",
       "3 -0.221929  0.062723  0.061458  123.50      0  \n",
       "4  0.502292  0.219422  0.215153   69.99      0  \n",
       "\n",
       "[5 rows x 31 columns]"
      ]
     },
     "execution_count": 4,
     "metadata": {},
     "output_type": "execute_result"
    }
   ],
   "source": [
    "df.head()"
   ]
  },
  {
   "cell_type": "markdown",
   "metadata": {},
   "source": [
    "## I.III PROPERTIES OF DATA"
   ]
  },
  {
   "cell_type": "code",
   "execution_count": 5,
   "metadata": {},
   "outputs": [
    {
     "name": "stdout",
     "output_type": "stream",
     "text": [
      "This data frame has 284807 rows and 31 columns.\n"
     ]
    }
   ],
   "source": [
    "print('This data frame has {} rows and {} columns.'.format(df.shape[0], df.shape[1]))"
   ]
  },
  {
   "cell_type": "code",
   "execution_count": 6,
   "metadata": {},
   "outputs": [
    {
     "data": {
      "text/html": [
       "<div>\n",
       "<style scoped>\n",
       "    .dataframe tbody tr th:only-of-type {\n",
       "        vertical-align: middle;\n",
       "    }\n",
       "\n",
       "    .dataframe tbody tr th {\n",
       "        vertical-align: top;\n",
       "    }\n",
       "\n",
       "    .dataframe thead th {\n",
       "        text-align: right;\n",
       "    }\n",
       "</style>\n",
       "<table border=\"1\" class=\"dataframe\">\n",
       "  <thead>\n",
       "    <tr style=\"text-align: right;\">\n",
       "      <th></th>\n",
       "      <th>Time</th>\n",
       "      <th>V1</th>\n",
       "      <th>V2</th>\n",
       "      <th>V3</th>\n",
       "      <th>V4</th>\n",
       "      <th>V5</th>\n",
       "      <th>V6</th>\n",
       "      <th>V7</th>\n",
       "      <th>V8</th>\n",
       "      <th>V9</th>\n",
       "      <th>...</th>\n",
       "      <th>V21</th>\n",
       "      <th>V22</th>\n",
       "      <th>V23</th>\n",
       "      <th>V24</th>\n",
       "      <th>V25</th>\n",
       "      <th>V26</th>\n",
       "      <th>V27</th>\n",
       "      <th>V28</th>\n",
       "      <th>Amount</th>\n",
       "      <th>Class</th>\n",
       "    </tr>\n",
       "  </thead>\n",
       "  <tbody>\n",
       "    <tr>\n",
       "      <th>27404</th>\n",
       "      <td>34537.0</td>\n",
       "      <td>-3.026980</td>\n",
       "      <td>-0.285706</td>\n",
       "      <td>-0.594639</td>\n",
       "      <td>-0.980714</td>\n",
       "      <td>-0.501552</td>\n",
       "      <td>-0.770961</td>\n",
       "      <td>0.664072</td>\n",
       "      <td>0.656816</td>\n",
       "      <td>-0.214901</td>\n",
       "      <td>...</td>\n",
       "      <td>0.033747</td>\n",
       "      <td>-0.909404</td>\n",
       "      <td>-0.386549</td>\n",
       "      <td>-0.518349</td>\n",
       "      <td>-0.206760</td>\n",
       "      <td>0.621038</td>\n",
       "      <td>-0.488529</td>\n",
       "      <td>0.164390</td>\n",
       "      <td>29.00</td>\n",
       "      <td>0</td>\n",
       "    </tr>\n",
       "    <tr>\n",
       "      <th>150280</th>\n",
       "      <td>92956.0</td>\n",
       "      <td>-0.031976</td>\n",
       "      <td>0.836769</td>\n",
       "      <td>0.479674</td>\n",
       "      <td>-0.457776</td>\n",
       "      <td>0.460146</td>\n",
       "      <td>-0.843789</td>\n",
       "      <td>0.754156</td>\n",
       "      <td>-0.105462</td>\n",
       "      <td>1.080677</td>\n",
       "      <td>...</td>\n",
       "      <td>-0.356787</td>\n",
       "      <td>-0.686601</td>\n",
       "      <td>0.101034</td>\n",
       "      <td>-0.009689</td>\n",
       "      <td>-0.575656</td>\n",
       "      <td>0.078693</td>\n",
       "      <td>0.210167</td>\n",
       "      <td>0.081194</td>\n",
       "      <td>5.36</td>\n",
       "      <td>0</td>\n",
       "    </tr>\n",
       "    <tr>\n",
       "      <th>39872</th>\n",
       "      <td>40001.0</td>\n",
       "      <td>1.189199</td>\n",
       "      <td>0.250249</td>\n",
       "      <td>0.395744</td>\n",
       "      <td>0.728801</td>\n",
       "      <td>-0.422491</td>\n",
       "      <td>-0.810259</td>\n",
       "      <td>-0.043666</td>\n",
       "      <td>-0.036020</td>\n",
       "      <td>0.139985</td>\n",
       "      <td>...</td>\n",
       "      <td>-0.248601</td>\n",
       "      <td>-0.727914</td>\n",
       "      <td>0.209525</td>\n",
       "      <td>0.335911</td>\n",
       "      <td>0.069914</td>\n",
       "      <td>0.106861</td>\n",
       "      <td>-0.011965</td>\n",
       "      <td>0.028852</td>\n",
       "      <td>1.98</td>\n",
       "      <td>0</td>\n",
       "    </tr>\n",
       "    <tr>\n",
       "      <th>111501</th>\n",
       "      <td>72249.0</td>\n",
       "      <td>-0.675034</td>\n",
       "      <td>1.209240</td>\n",
       "      <td>1.601979</td>\n",
       "      <td>-0.004827</td>\n",
       "      <td>-0.245757</td>\n",
       "      <td>-1.122692</td>\n",
       "      <td>0.675291</td>\n",
       "      <td>-0.075128</td>\n",
       "      <td>-0.223819</td>\n",
       "      <td>...</td>\n",
       "      <td>-0.238462</td>\n",
       "      <td>-0.557614</td>\n",
       "      <td>0.021156</td>\n",
       "      <td>0.689480</td>\n",
       "      <td>-0.187822</td>\n",
       "      <td>0.055834</td>\n",
       "      <td>0.375467</td>\n",
       "      <td>0.183507</td>\n",
       "      <td>0.99</td>\n",
       "      <td>0</td>\n",
       "    </tr>\n",
       "    <tr>\n",
       "      <th>144980</th>\n",
       "      <td>86533.0</td>\n",
       "      <td>-0.470865</td>\n",
       "      <td>1.155204</td>\n",
       "      <td>0.153041</td>\n",
       "      <td>-0.785518</td>\n",
       "      <td>0.379862</td>\n",
       "      <td>-0.905819</td>\n",
       "      <td>0.876535</td>\n",
       "      <td>-0.054438</td>\n",
       "      <td>0.042820</td>\n",
       "      <td>...</td>\n",
       "      <td>-0.261545</td>\n",
       "      <td>-0.469979</td>\n",
       "      <td>0.083415</td>\n",
       "      <td>0.068958</td>\n",
       "      <td>-0.422659</td>\n",
       "      <td>0.123591</td>\n",
       "      <td>0.455159</td>\n",
       "      <td>0.216720</td>\n",
       "      <td>0.99</td>\n",
       "      <td>0</td>\n",
       "    </tr>\n",
       "  </tbody>\n",
       "</table>\n",
       "<p>5 rows × 31 columns</p>\n",
       "</div>"
      ],
      "text/plain": [
       "           Time        V1        V2        V3        V4        V5        V6  \\\n",
       "27404   34537.0 -3.026980 -0.285706 -0.594639 -0.980714 -0.501552 -0.770961   \n",
       "150280  92956.0 -0.031976  0.836769  0.479674 -0.457776  0.460146 -0.843789   \n",
       "39872   40001.0  1.189199  0.250249  0.395744  0.728801 -0.422491 -0.810259   \n",
       "111501  72249.0 -0.675034  1.209240  1.601979 -0.004827 -0.245757 -1.122692   \n",
       "144980  86533.0 -0.470865  1.155204  0.153041 -0.785518  0.379862 -0.905819   \n",
       "\n",
       "              V7        V8        V9  ...       V21       V22       V23  \\\n",
       "27404   0.664072  0.656816 -0.214901  ...  0.033747 -0.909404 -0.386549   \n",
       "150280  0.754156 -0.105462  1.080677  ... -0.356787 -0.686601  0.101034   \n",
       "39872  -0.043666 -0.036020  0.139985  ... -0.248601 -0.727914  0.209525   \n",
       "111501  0.675291 -0.075128 -0.223819  ... -0.238462 -0.557614  0.021156   \n",
       "144980  0.876535 -0.054438  0.042820  ... -0.261545 -0.469979  0.083415   \n",
       "\n",
       "             V24       V25       V26       V27       V28  Amount  Class  \n",
       "27404  -0.518349 -0.206760  0.621038 -0.488529  0.164390   29.00      0  \n",
       "150280 -0.009689 -0.575656  0.078693  0.210167  0.081194    5.36      0  \n",
       "39872   0.335911  0.069914  0.106861 -0.011965  0.028852    1.98      0  \n",
       "111501  0.689480 -0.187822  0.055834  0.375467  0.183507    0.99      0  \n",
       "144980  0.068958 -0.422659  0.123591  0.455159  0.216720    0.99      0  \n",
       "\n",
       "[5 rows x 31 columns]"
      ]
     },
     "execution_count": 6,
     "metadata": {},
     "output_type": "execute_result"
    }
   ],
   "source": [
    "df.sample(5)"
   ]
  },
  {
   "cell_type": "code",
   "execution_count": 7,
   "metadata": {},
   "outputs": [
    {
     "name": "stdout",
     "output_type": "stream",
     "text": [
      "<class 'pandas.core.frame.DataFrame'>\n",
      "RangeIndex: 284807 entries, 0 to 284806\n",
      "Data columns (total 31 columns):\n",
      "Time      284807 non-null float64\n",
      "V1        284807 non-null float64\n",
      "V2        284807 non-null float64\n",
      "V3        284807 non-null float64\n",
      "V4        284807 non-null float64\n",
      "V5        284807 non-null float64\n",
      "V6        284807 non-null float64\n",
      "V7        284807 non-null float64\n",
      "V8        284807 non-null float64\n",
      "V9        284807 non-null float64\n",
      "V10       284807 non-null float64\n",
      "V11       284807 non-null float64\n",
      "V12       284807 non-null float64\n",
      "V13       284807 non-null float64\n",
      "V14       284807 non-null float64\n",
      "V15       284807 non-null float64\n",
      "V16       284807 non-null float64\n",
      "V17       284807 non-null float64\n",
      "V18       284807 non-null float64\n",
      "V19       284807 non-null float64\n",
      "V20       284807 non-null float64\n",
      "V21       284807 non-null float64\n",
      "V22       284807 non-null float64\n",
      "V23       284807 non-null float64\n",
      "V24       284807 non-null float64\n",
      "V25       284807 non-null float64\n",
      "V26       284807 non-null float64\n",
      "V27       284807 non-null float64\n",
      "V28       284807 non-null float64\n",
      "Amount    284807 non-null float64\n",
      "Class     284807 non-null int64\n",
      "dtypes: float64(30), int64(1)\n",
      "memory usage: 67.4 MB\n"
     ]
    }
   ],
   "source": [
    "df.info()"
   ]
  },
  {
   "cell_type": "code",
   "execution_count": 8,
   "metadata": {},
   "outputs": [
    {
     "data": {
      "text/html": [
       "<div>\n",
       "<style scoped>\n",
       "    .dataframe tbody tr th:only-of-type {\n",
       "        vertical-align: middle;\n",
       "    }\n",
       "\n",
       "    .dataframe tbody tr th {\n",
       "        vertical-align: top;\n",
       "    }\n",
       "\n",
       "    .dataframe thead th {\n",
       "        text-align: right;\n",
       "    }\n",
       "</style>\n",
       "<table border=\"1\" class=\"dataframe\">\n",
       "  <thead>\n",
       "    <tr style=\"text-align: right;\">\n",
       "      <th></th>\n",
       "      <th>Time</th>\n",
       "      <th>Amount</th>\n",
       "    </tr>\n",
       "  </thead>\n",
       "  <tbody>\n",
       "    <tr>\n",
       "      <th>count</th>\n",
       "      <td>284807.000</td>\n",
       "      <td>284807.000</td>\n",
       "    </tr>\n",
       "    <tr>\n",
       "      <th>mean</th>\n",
       "      <td>94813.860</td>\n",
       "      <td>88.350</td>\n",
       "    </tr>\n",
       "    <tr>\n",
       "      <th>std</th>\n",
       "      <td>47488.146</td>\n",
       "      <td>250.120</td>\n",
       "    </tr>\n",
       "    <tr>\n",
       "      <th>min</th>\n",
       "      <td>0.000</td>\n",
       "      <td>0.000</td>\n",
       "    </tr>\n",
       "    <tr>\n",
       "      <th>25%</th>\n",
       "      <td>54201.500</td>\n",
       "      <td>5.600</td>\n",
       "    </tr>\n",
       "    <tr>\n",
       "      <th>50%</th>\n",
       "      <td>84692.000</td>\n",
       "      <td>22.000</td>\n",
       "    </tr>\n",
       "    <tr>\n",
       "      <th>75%</th>\n",
       "      <td>139320.500</td>\n",
       "      <td>77.165</td>\n",
       "    </tr>\n",
       "    <tr>\n",
       "      <th>max</th>\n",
       "      <td>172792.000</td>\n",
       "      <td>25691.160</td>\n",
       "    </tr>\n",
       "  </tbody>\n",
       "</table>\n",
       "</div>"
      ],
      "text/plain": [
       "             Time      Amount\n",
       "count  284807.000  284807.000\n",
       "mean    94813.860      88.350\n",
       "std     47488.146     250.120\n",
       "min         0.000       0.000\n",
       "25%     54201.500       5.600\n",
       "50%     84692.000      22.000\n",
       "75%    139320.500      77.165\n",
       "max    172792.000   25691.160"
      ]
     },
     "execution_count": 8,
     "metadata": {},
     "output_type": "execute_result"
    }
   ],
   "source": [
    "pd.set_option('precision', 3)\n",
    "df.loc[:, ['Time', 'Amount']].describe()"
   ]
  },
  {
   "cell_type": "code",
   "execution_count": 9,
   "metadata": {},
   "outputs": [
    {
     "data": {
      "text/plain": [
       "<matplotlib.axes._subplots.AxesSubplot at 0x7f93e9d45d30>"
      ]
     },
     "execution_count": 9,
     "metadata": {},
     "output_type": "execute_result"
    },
    {
     "data": {
      "image/png": "[encoded data removed]",
      "text/plain": [
       "<Figure size 720x576 with 1 Axes>"
      ]
     },
     "metadata": {
      "needs_background": "light"
     },
     "output_type": "display_data"
    }
   ],
   "source": [
    "plt.figure(figsize=(10,8))\n",
    "plt.title('Distribution of Time Feature')\n",
    "sns.distplot(df.Time)"
   ]
  },
  {
   "cell_type": "code",
   "execution_count": 10,
   "metadata": {},
   "outputs": [
    {
     "data": {
      "text/plain": [
       "<matplotlib.axes._subplots.AxesSubplot at 0x7f94205f2828>"
      ]
     },
     "execution_count": 10,
     "metadata": {},
     "output_type": "execute_result"
    },
    {
     "data": {
      "image/png": "[encoded data removed]",
      "text/plain": [
       "<Figure size 720x576 with 1 Axes>"
      ]
     },
     "metadata": {
      "needs_background": "light"
     },
     "output_type": "display_data"
    }
   ],
   "source": [
    "plt.figure(figsize=(10,8))\n",
    "plt.title('Distribution of Monetary Value Feature')\n",
    "sns.distplot(df.Amount)"
   ]
  },
  {
   "cell_type": "code",
   "execution_count": 11,
   "metadata": {},
   "outputs": [
    {
     "name": "stdout",
     "output_type": "stream",
     "text": [
      "There were 284315 non-fraudulent transactions (99.827%) and 492 fraudulent transactions (0.173%).\n"
     ]
    }
   ],
   "source": [
    "counts = df.Class.value_counts()\n",
    "\n",
    "normal = counts[0]\n",
    "\n",
    "fraudulent = counts[1]\n",
    "\n",
    "perc_normal = (normal/(normal+fraudulent))*100\n",
    "\n",
    "perc_fraudulent = (fraudulent/(normal+fraudulent))*100\n",
    "print('There were {} non-fraudulent transactions ({:.3f}%) and {} fraudulent transactions ({:.3f}%).'.format(normal, perc_normal, fraudulent, perc_fraudulent))"
   ]
  },
  {
   "cell_type": "code",
   "execution_count": 12,
   "metadata": {},
   "outputs": [
    {
     "data": {
      "text/plain": [
       "Text(0.5, 0, 'Class (0:Non-Fraudulent, 1:Fraudulent)')"
      ]
     },
     "execution_count": 12,
     "metadata": {},
     "output_type": "execute_result"
    },
    {
     "data": {
      "image/png": "[encoded data removed]",
      "text/plain": [
       "<Figure size 576x432 with 1 Axes>"
      ]
     },
     "metadata": {
      "needs_background": "light"
     },
     "output_type": "display_data"
    }
   ],
   "source": [
    "plt.figure(figsize=(8,6))\n",
    "sns.barplot(x=counts.index, y=counts)\n",
    "plt.title('Count of Fraudulent vs. Non-Fraudulent Transactions')\n",
    "plt.ylabel('Count')\n",
    "plt.xlabel('Class (0:Non-Fraudulent, 1:Fraudulent)')"
   ]
  },
  {
   "cell_type": "code",
   "execution_count": 13,
   "metadata": {},
   "outputs": [
    {
     "data": {
      "text/plain": [
       "Int64Index([0, 1], dtype='int64')"
      ]
     },
     "execution_count": 13,
     "metadata": {},
     "output_type": "execute_result"
    }
   ],
   "source": [
    "counts.index"
   ]
  },
  {
   "cell_type": "code",
   "execution_count": 14,
   "metadata": {},
   "outputs": [
    {
     "data": {
      "text/html": [
       "<div>\n",
       "<style scoped>\n",
       "    .dataframe tbody tr th:only-of-type {\n",
       "        vertical-align: middle;\n",
       "    }\n",
       "\n",
       "    .dataframe tbody tr th {\n",
       "        vertical-align: top;\n",
       "    }\n",
       "\n",
       "    .dataframe thead th {\n",
       "        text-align: right;\n",
       "    }\n",
       "</style>\n",
       "<table border=\"1\" class=\"dataframe\">\n",
       "  <thead>\n",
       "    <tr style=\"text-align: right;\">\n",
       "      <th></th>\n",
       "      <th>Time</th>\n",
       "      <th>V1</th>\n",
       "      <th>V2</th>\n",
       "      <th>V3</th>\n",
       "      <th>V4</th>\n",
       "      <th>V5</th>\n",
       "      <th>V6</th>\n",
       "      <th>V7</th>\n",
       "      <th>V8</th>\n",
       "      <th>V9</th>\n",
       "      <th>...</th>\n",
       "      <th>V21</th>\n",
       "      <th>V22</th>\n",
       "      <th>V23</th>\n",
       "      <th>V24</th>\n",
       "      <th>V25</th>\n",
       "      <th>V26</th>\n",
       "      <th>V27</th>\n",
       "      <th>V28</th>\n",
       "      <th>Amount</th>\n",
       "      <th>Class</th>\n",
       "    </tr>\n",
       "  </thead>\n",
       "  <tbody>\n",
       "    <tr>\n",
       "      <th>Time</th>\n",
       "      <td>1.000</td>\n",
       "      <td>1.174e-01</td>\n",
       "      <td>-1.059e-02</td>\n",
       "      <td>-4.196e-01</td>\n",
       "      <td>-1.053e-01</td>\n",
       "      <td>1.731e-01</td>\n",
       "      <td>-6.302e-02</td>\n",
       "      <td>8.471e-02</td>\n",
       "      <td>-3.695e-02</td>\n",
       "      <td>-8.660e-03</td>\n",
       "      <td>...</td>\n",
       "      <td>4.474e-02</td>\n",
       "      <td>1.441e-01</td>\n",
       "      <td>5.114e-02</td>\n",
       "      <td>-1.618e-02</td>\n",
       "      <td>-2.331e-01</td>\n",
       "      <td>-4.141e-02</td>\n",
       "      <td>-5.135e-03</td>\n",
       "      <td>-9.413e-03</td>\n",
       "      <td>-1.060e-02</td>\n",
       "      <td>-1.232e-02</td>\n",
       "    </tr>\n",
       "    <tr>\n",
       "      <th>V1</th>\n",
       "      <td>0.117</td>\n",
       "      <td>1.000e+00</td>\n",
       "      <td>4.697e-17</td>\n",
       "      <td>-1.424e-15</td>\n",
       "      <td>1.755e-17</td>\n",
       "      <td>6.391e-17</td>\n",
       "      <td>2.398e-16</td>\n",
       "      <td>1.992e-15</td>\n",
       "      <td>-9.491e-17</td>\n",
       "      <td>2.170e-16</td>\n",
       "      <td>...</td>\n",
       "      <td>-1.755e-16</td>\n",
       "      <td>7.477e-17</td>\n",
       "      <td>9.809e-16</td>\n",
       "      <td>7.354e-17</td>\n",
       "      <td>-9.805e-16</td>\n",
       "      <td>-8.622e-17</td>\n",
       "      <td>3.208e-17</td>\n",
       "      <td>9.821e-16</td>\n",
       "      <td>-2.277e-01</td>\n",
       "      <td>-1.013e-01</td>\n",
       "    </tr>\n",
       "    <tr>\n",
       "      <th>V2</th>\n",
       "      <td>-0.011</td>\n",
       "      <td>4.697e-17</td>\n",
       "      <td>1.000e+00</td>\n",
       "      <td>2.512e-16</td>\n",
       "      <td>-1.126e-16</td>\n",
       "      <td>-2.040e-16</td>\n",
       "      <td>5.025e-16</td>\n",
       "      <td>3.966e-16</td>\n",
       "      <td>-4.414e-17</td>\n",
       "      <td>-5.729e-17</td>\n",
       "      <td>...</td>\n",
       "      <td>8.444e-17</td>\n",
       "      <td>2.501e-16</td>\n",
       "      <td>1.060e-16</td>\n",
       "      <td>-8.142e-18</td>\n",
       "      <td>-4.262e-17</td>\n",
       "      <td>2.602e-16</td>\n",
       "      <td>-4.478e-16</td>\n",
       "      <td>-3.676e-16</td>\n",
       "      <td>-5.314e-01</td>\n",
       "      <td>9.129e-02</td>\n",
       "    </tr>\n",
       "    <tr>\n",
       "      <th>V3</th>\n",
       "      <td>-0.420</td>\n",
       "      <td>-1.424e-15</td>\n",
       "      <td>2.512e-16</td>\n",
       "      <td>1.000e+00</td>\n",
       "      <td>-3.417e-16</td>\n",
       "      <td>-1.437e-15</td>\n",
       "      <td>1.432e-15</td>\n",
       "      <td>2.169e-15</td>\n",
       "      <td>3.433e-16</td>\n",
       "      <td>-4.234e-16</td>\n",
       "      <td>...</td>\n",
       "      <td>-2.972e-17</td>\n",
       "      <td>4.648e-16</td>\n",
       "      <td>2.115e-17</td>\n",
       "      <td>-9.352e-17</td>\n",
       "      <td>4.771e-16</td>\n",
       "      <td>6.522e-16</td>\n",
       "      <td>6.240e-16</td>\n",
       "      <td>7.727e-16</td>\n",
       "      <td>-2.109e-01</td>\n",
       "      <td>-1.930e-01</td>\n",
       "    </tr>\n",
       "    <tr>\n",
       "      <th>V4</th>\n",
       "      <td>-0.105</td>\n",
       "      <td>1.755e-17</td>\n",
       "      <td>-1.126e-16</td>\n",
       "      <td>-3.417e-16</td>\n",
       "      <td>1.000e+00</td>\n",
       "      <td>-1.941e-15</td>\n",
       "      <td>-2.713e-16</td>\n",
       "      <td>1.556e-16</td>\n",
       "      <td>5.196e-16</td>\n",
       "      <td>3.860e-16</td>\n",
       "      <td>...</td>\n",
       "      <td>-9.977e-17</td>\n",
       "      <td>2.100e-16</td>\n",
       "      <td>6.003e-17</td>\n",
       "      <td>2.230e-16</td>\n",
       "      <td>5.395e-16</td>\n",
       "      <td>-6.180e-16</td>\n",
       "      <td>-6.403e-17</td>\n",
       "      <td>-5.864e-17</td>\n",
       "      <td>9.873e-02</td>\n",
       "      <td>1.334e-01</td>\n",
       "    </tr>\n",
       "    <tr>\n",
       "      <th>V5</th>\n",
       "      <td>0.173</td>\n",
       "      <td>6.391e-17</td>\n",
       "      <td>-2.040e-16</td>\n",
       "      <td>-1.437e-15</td>\n",
       "      <td>-1.941e-15</td>\n",
       "      <td>1.000e+00</td>\n",
       "      <td>7.926e-16</td>\n",
       "      <td>-4.210e-16</td>\n",
       "      <td>7.589e-16</td>\n",
       "      <td>4.205e-16</td>\n",
       "      <td>...</td>\n",
       "      <td>-1.369e-16</td>\n",
       "      <td>5.060e-16</td>\n",
       "      <td>1.638e-16</td>\n",
       "      <td>-9.286e-16</td>\n",
       "      <td>5.625e-16</td>\n",
       "      <td>9.145e-16</td>\n",
       "      <td>4.466e-16</td>\n",
       "      <td>-3.299e-16</td>\n",
       "      <td>-3.864e-01</td>\n",
       "      <td>-9.497e-02</td>\n",
       "    </tr>\n",
       "    <tr>\n",
       "      <th>V6</th>\n",
       "      <td>-0.063</td>\n",
       "      <td>2.398e-16</td>\n",
       "      <td>5.025e-16</td>\n",
       "      <td>1.432e-15</td>\n",
       "      <td>-2.713e-16</td>\n",
       "      <td>7.926e-16</td>\n",
       "      <td>1.000e+00</td>\n",
       "      <td>1.429e-16</td>\n",
       "      <td>-1.707e-16</td>\n",
       "      <td>1.114e-16</td>\n",
       "      <td>...</td>\n",
       "      <td>-1.576e-16</td>\n",
       "      <td>-3.363e-16</td>\n",
       "      <td>-7.232e-17</td>\n",
       "      <td>-1.262e-15</td>\n",
       "      <td>1.082e-15</td>\n",
       "      <td>-2.378e-16</td>\n",
       "      <td>-2.624e-16</td>\n",
       "      <td>4.813e-16</td>\n",
       "      <td>2.160e-01</td>\n",
       "      <td>-4.364e-02</td>\n",
       "    </tr>\n",
       "    <tr>\n",
       "      <th>V7</th>\n",
       "      <td>0.085</td>\n",
       "      <td>1.992e-15</td>\n",
       "      <td>3.966e-16</td>\n",
       "      <td>2.169e-15</td>\n",
       "      <td>1.556e-16</td>\n",
       "      <td>-4.210e-16</td>\n",
       "      <td>1.429e-16</td>\n",
       "      <td>1.000e+00</td>\n",
       "      <td>-8.692e-17</td>\n",
       "      <td>7.933e-16</td>\n",
       "      <td>...</td>\n",
       "      <td>1.939e-16</td>\n",
       "      <td>-1.058e-15</td>\n",
       "      <td>2.328e-16</td>\n",
       "      <td>-2.590e-17</td>\n",
       "      <td>1.174e-15</td>\n",
       "      <td>-7.335e-16</td>\n",
       "      <td>-5.887e-16</td>\n",
       "      <td>-6.837e-17</td>\n",
       "      <td>3.973e-01</td>\n",
       "      <td>-1.873e-01</td>\n",
       "    </tr>\n",
       "    <tr>\n",
       "      <th>V8</th>\n",
       "      <td>-0.037</td>\n",
       "      <td>-9.491e-17</td>\n",
       "      <td>-4.414e-17</td>\n",
       "      <td>3.433e-16</td>\n",
       "      <td>5.196e-16</td>\n",
       "      <td>7.589e-16</td>\n",
       "      <td>-1.707e-16</td>\n",
       "      <td>-8.692e-17</td>\n",
       "      <td>1.000e+00</td>\n",
       "      <td>2.901e-16</td>\n",
       "      <td>...</td>\n",
       "      <td>-2.412e-16</td>\n",
       "      <td>5.476e-16</td>\n",
       "      <td>3.897e-16</td>\n",
       "      <td>-1.803e-16</td>\n",
       "      <td>-1.391e-16</td>\n",
       "      <td>-1.210e-16</td>\n",
       "      <td>1.734e-16</td>\n",
       "      <td>-4.484e-16</td>\n",
       "      <td>-1.031e-01</td>\n",
       "      <td>1.988e-02</td>\n",
       "    </tr>\n",
       "    <tr>\n",
       "      <th>V9</th>\n",
       "      <td>-0.009</td>\n",
       "      <td>2.170e-16</td>\n",
       "      <td>-5.729e-17</td>\n",
       "      <td>-4.234e-16</td>\n",
       "      <td>3.860e-16</td>\n",
       "      <td>4.205e-16</td>\n",
       "      <td>1.114e-16</td>\n",
       "      <td>7.933e-16</td>\n",
       "      <td>2.901e-16</td>\n",
       "      <td>1.000e+00</td>\n",
       "      <td>...</td>\n",
       "      <td>4.578e-17</td>\n",
       "      <td>2.872e-17</td>\n",
       "      <td>5.929e-16</td>\n",
       "      <td>-2.346e-16</td>\n",
       "      <td>1.100e-15</td>\n",
       "      <td>-1.389e-15</td>\n",
       "      <td>-2.287e-16</td>\n",
       "      <td>9.147e-16</td>\n",
       "      <td>-4.425e-02</td>\n",
       "      <td>-9.773e-02</td>\n",
       "    </tr>\n",
       "    <tr>\n",
       "      <th>V10</th>\n",
       "      <td>0.031</td>\n",
       "      <td>7.434e-17</td>\n",
       "      <td>-4.782e-16</td>\n",
       "      <td>6.289e-16</td>\n",
       "      <td>6.055e-16</td>\n",
       "      <td>-6.602e-16</td>\n",
       "      <td>2.851e-16</td>\n",
       "      <td>3.043e-17</td>\n",
       "      <td>9.052e-17</td>\n",
       "      <td>-2.772e-16</td>\n",
       "      <td>...</td>\n",
       "      <td>8.090e-16</td>\n",
       "      <td>-6.708e-16</td>\n",
       "      <td>3.810e-16</td>\n",
       "      <td>-4.033e-17</td>\n",
       "      <td>-2.864e-16</td>\n",
       "      <td>-2.554e-16</td>\n",
       "      <td>-3.103e-16</td>\n",
       "      <td>-1.516e-16</td>\n",
       "      <td>-1.015e-01</td>\n",
       "      <td>-2.169e-01</td>\n",
       "    </tr>\n",
       "    <tr>\n",
       "      <th>V11</th>\n",
       "      <td>-0.248</td>\n",
       "      <td>2.439e-16</td>\n",
       "      <td>9.469e-16</td>\n",
       "      <td>-5.502e-17</td>\n",
       "      <td>-2.084e-16</td>\n",
       "      <td>7.343e-16</td>\n",
       "      <td>4.866e-16</td>\n",
       "      <td>-1.084e-15</td>\n",
       "      <td>1.955e-16</td>\n",
       "      <td>4.682e-16</td>\n",
       "      <td>...</td>\n",
       "      <td>-3.912e-16</td>\n",
       "      <td>-3.812e-17</td>\n",
       "      <td>2.232e-16</td>\n",
       "      <td>1.220e-15</td>\n",
       "      <td>-4.568e-16</td>\n",
       "      <td>-1.111e-16</td>\n",
       "      <td>-2.636e-16</td>\n",
       "      <td>-3.092e-16</td>\n",
       "      <td>1.040e-04</td>\n",
       "      <td>1.549e-01</td>\n",
       "    </tr>\n",
       "    <tr>\n",
       "      <th>V12</th>\n",
       "      <td>0.124</td>\n",
       "      <td>2.422e-16</td>\n",
       "      <td>-6.588e-16</td>\n",
       "      <td>2.207e-16</td>\n",
       "      <td>-5.658e-16</td>\n",
       "      <td>3.761e-16</td>\n",
       "      <td>2.141e-16</td>\n",
       "      <td>1.510e-15</td>\n",
       "      <td>-6.266e-17</td>\n",
       "      <td>-2.445e-15</td>\n",
       "      <td>...</td>\n",
       "      <td>3.230e-16</td>\n",
       "      <td>-5.904e-16</td>\n",
       "      <td>1.392e-16</td>\n",
       "      <td>4.902e-16</td>\n",
       "      <td>5.054e-16</td>\n",
       "      <td>-5.759e-16</td>\n",
       "      <td>-2.313e-16</td>\n",
       "      <td>7.327e-16</td>\n",
       "      <td>-9.542e-03</td>\n",
       "      <td>-2.606e-01</td>\n",
       "    </tr>\n",
       "    <tr>\n",
       "      <th>V13</th>\n",
       "      <td>-0.066</td>\n",
       "      <td>-2.115e-16</td>\n",
       "      <td>3.855e-16</td>\n",
       "      <td>-6.883e-16</td>\n",
       "      <td>-1.506e-16</td>\n",
       "      <td>-9.579e-16</td>\n",
       "      <td>-2.268e-16</td>\n",
       "      <td>-9.892e-17</td>\n",
       "      <td>-2.383e-16</td>\n",
       "      <td>-2.650e-16</td>\n",
       "      <td>...</td>\n",
       "      <td>9.499e-17</td>\n",
       "      <td>-2.660e-17</td>\n",
       "      <td>-5.884e-16</td>\n",
       "      <td>-5.471e-16</td>\n",
       "      <td>8.067e-17</td>\n",
       "      <td>-2.122e-16</td>\n",
       "      <td>-4.520e-16</td>\n",
       "      <td>1.050e-15</td>\n",
       "      <td>5.293e-03</td>\n",
       "      <td>-4.570e-03</td>\n",
       "    </tr>\n",
       "    <tr>\n",
       "      <th>V14</th>\n",
       "      <td>-0.099</td>\n",
       "      <td>9.353e-16</td>\n",
       "      <td>-2.541e-16</td>\n",
       "      <td>4.271e-16</td>\n",
       "      <td>-8.522e-17</td>\n",
       "      <td>-3.635e-16</td>\n",
       "      <td>3.453e-16</td>\n",
       "      <td>-1.729e-16</td>\n",
       "      <td>-1.131e-16</td>\n",
       "      <td>2.343e-16</td>\n",
       "      <td>...</td>\n",
       "      <td>1.634e-17</td>\n",
       "      <td>3.440e-16</td>\n",
       "      <td>7.621e-17</td>\n",
       "      <td>2.336e-16</td>\n",
       "      <td>-2.607e-16</td>\n",
       "      <td>-6.580e-18</td>\n",
       "      <td>1.286e-16</td>\n",
       "      <td>2.503e-15</td>\n",
       "      <td>3.375e-02</td>\n",
       "      <td>-3.025e-01</td>\n",
       "    </tr>\n",
       "    <tr>\n",
       "      <th>V15</th>\n",
       "      <td>-0.183</td>\n",
       "      <td>-3.252e-16</td>\n",
       "      <td>2.831e-16</td>\n",
       "      <td>1.123e-16</td>\n",
       "      <td>-1.508e-16</td>\n",
       "      <td>-5.133e-16</td>\n",
       "      <td>-6.368e-18</td>\n",
       "      <td>1.937e-17</td>\n",
       "      <td>2.021e-16</td>\n",
       "      <td>-1.588e-15</td>\n",
       "      <td>...</td>\n",
       "      <td>1.947e-17</td>\n",
       "      <td>-8.937e-16</td>\n",
       "      <td>1.120e-16</td>\n",
       "      <td>-4.590e-16</td>\n",
       "      <td>3.870e-16</td>\n",
       "      <td>3.761e-16</td>\n",
       "      <td>-1.265e-15</td>\n",
       "      <td>-1.063e-15</td>\n",
       "      <td>-2.986e-03</td>\n",
       "      <td>-4.223e-03</td>\n",
       "    </tr>\n",
       "    <tr>\n",
       "      <th>V16</th>\n",
       "      <td>0.012</td>\n",
       "      <td>6.309e-16</td>\n",
       "      <td>4.934e-17</td>\n",
       "      <td>1.183e-15</td>\n",
       "      <td>-6.939e-16</td>\n",
       "      <td>-3.517e-16</td>\n",
       "      <td>-2.478e-16</td>\n",
       "      <td>2.894e-16</td>\n",
       "      <td>5.027e-16</td>\n",
       "      <td>-3.252e-16</td>\n",
       "      <td>...</td>\n",
       "      <td>-3.927e-16</td>\n",
       "      <td>3.878e-17</td>\n",
       "      <td>8.520e-16</td>\n",
       "      <td>-4.289e-16</td>\n",
       "      <td>-6.644e-16</td>\n",
       "      <td>-5.187e-16</td>\n",
       "      <td>7.820e-16</td>\n",
       "      <td>8.637e-16</td>\n",
       "      <td>-3.910e-03</td>\n",
       "      <td>-1.965e-01</td>\n",
       "    </tr>\n",
       "    <tr>\n",
       "      <th>V17</th>\n",
       "      <td>-0.073</td>\n",
       "      <td>-5.012e-16</td>\n",
       "      <td>-9.883e-16</td>\n",
       "      <td>4.577e-17</td>\n",
       "      <td>-4.398e-16</td>\n",
       "      <td>1.426e-16</td>\n",
       "      <td>3.568e-16</td>\n",
       "      <td>1.150e-15</td>\n",
       "      <td>-3.509e-16</td>\n",
       "      <td>6.536e-16</td>\n",
       "      <td>...</td>\n",
       "      <td>-7.754e-16</td>\n",
       "      <td>-8.390e-16</td>\n",
       "      <td>5.368e-16</td>\n",
       "      <td>-5.544e-17</td>\n",
       "      <td>4.822e-16</td>\n",
       "      <td>4.870e-16</td>\n",
       "      <td>8.844e-16</td>\n",
       "      <td>-2.183e-16</td>\n",
       "      <td>7.309e-03</td>\n",
       "      <td>-3.265e-01</td>\n",
       "    </tr>\n",
       "    <tr>\n",
       "      <th>V18</th>\n",
       "      <td>0.090</td>\n",
       "      <td>2.870e-16</td>\n",
       "      <td>2.637e-16</td>\n",
       "      <td>5.428e-16</td>\n",
       "      <td>1.494e-16</td>\n",
       "      <td>1.110e-15</td>\n",
       "      <td>2.811e-16</td>\n",
       "      <td>-1.117e-16</td>\n",
       "      <td>-4.094e-16</td>\n",
       "      <td>1.204e-16</td>\n",
       "      <td>...</td>\n",
       "      <td>-1.141e-15</td>\n",
       "      <td>-8.663e-17</td>\n",
       "      <td>-3.624e-16</td>\n",
       "      <td>-1.126e-16</td>\n",
       "      <td>-2.311e-16</td>\n",
       "      <td>3.184e-16</td>\n",
       "      <td>2.435e-16</td>\n",
       "      <td>8.845e-16</td>\n",
       "      <td>3.565e-02</td>\n",
       "      <td>-1.115e-01</td>\n",
       "    </tr>\n",
       "    <tr>\n",
       "      <th>V19</th>\n",
       "      <td>0.029</td>\n",
       "      <td>1.818e-16</td>\n",
       "      <td>9.528e-17</td>\n",
       "      <td>2.577e-16</td>\n",
       "      <td>-2.657e-16</td>\n",
       "      <td>-3.138e-16</td>\n",
       "      <td>2.717e-16</td>\n",
       "      <td>-2.874e-16</td>\n",
       "      <td>-5.340e-16</td>\n",
       "      <td>1.121e-16</td>\n",
       "      <td>...</td>\n",
       "      <td>4.033e-16</td>\n",
       "      <td>-9.690e-16</td>\n",
       "      <td>5.734e-16</td>\n",
       "      <td>3.127e-17</td>\n",
       "      <td>7.415e-16</td>\n",
       "      <td>5.614e-16</td>\n",
       "      <td>-1.113e-16</td>\n",
       "      <td>-1.376e-15</td>\n",
       "      <td>-5.615e-02</td>\n",
       "      <td>3.478e-02</td>\n",
       "    </tr>\n",
       "    <tr>\n",
       "      <th>V20</th>\n",
       "      <td>-0.051</td>\n",
       "      <td>1.037e-16</td>\n",
       "      <td>-9.310e-16</td>\n",
       "      <td>-9.429e-16</td>\n",
       "      <td>-3.223e-16</td>\n",
       "      <td>2.076e-16</td>\n",
       "      <td>1.899e-16</td>\n",
       "      <td>1.744e-16</td>\n",
       "      <td>-1.096e-16</td>\n",
       "      <td>-4.341e-16</td>\n",
       "      <td>...</td>\n",
       "      <td>-1.121e-15</td>\n",
       "      <td>1.106e-15</td>\n",
       "      <td>4.987e-16</td>\n",
       "      <td>1.637e-16</td>\n",
       "      <td>-1.518e-16</td>\n",
       "      <td>-2.975e-16</td>\n",
       "      <td>-1.446e-15</td>\n",
       "      <td>-1.134e-16</td>\n",
       "      <td>3.394e-01</td>\n",
       "      <td>2.009e-02</td>\n",
       "    </tr>\n",
       "    <tr>\n",
       "      <th>V21</th>\n",
       "      <td>0.045</td>\n",
       "      <td>-1.755e-16</td>\n",
       "      <td>8.444e-17</td>\n",
       "      <td>-2.972e-17</td>\n",
       "      <td>-9.977e-17</td>\n",
       "      <td>-1.369e-16</td>\n",
       "      <td>-1.576e-16</td>\n",
       "      <td>1.939e-16</td>\n",
       "      <td>-2.412e-16</td>\n",
       "      <td>4.578e-17</td>\n",
       "      <td>...</td>\n",
       "      <td>1.000e+00</td>\n",
       "      <td>3.906e-15</td>\n",
       "      <td>6.127e-16</td>\n",
       "      <td>1.298e-16</td>\n",
       "      <td>-2.826e-16</td>\n",
       "      <td>-4.907e-16</td>\n",
       "      <td>-1.033e-15</td>\n",
       "      <td>5.132e-16</td>\n",
       "      <td>1.060e-01</td>\n",
       "      <td>4.041e-02</td>\n",
       "    </tr>\n",
       "    <tr>\n",
       "      <th>V22</th>\n",
       "      <td>0.144</td>\n",
       "      <td>7.477e-17</td>\n",
       "      <td>2.501e-16</td>\n",
       "      <td>4.648e-16</td>\n",
       "      <td>2.100e-16</td>\n",
       "      <td>5.060e-16</td>\n",
       "      <td>-3.363e-16</td>\n",
       "      <td>-1.058e-15</td>\n",
       "      <td>5.476e-16</td>\n",
       "      <td>2.872e-17</td>\n",
       "      <td>...</td>\n",
       "      <td>3.906e-15</td>\n",
       "      <td>1.000e+00</td>\n",
       "      <td>3.131e-16</td>\n",
       "      <td>1.151e-17</td>\n",
       "      <td>-6.079e-16</td>\n",
       "      <td>-8.477e-16</td>\n",
       "      <td>-1.295e-16</td>\n",
       "      <td>-3.021e-16</td>\n",
       "      <td>-6.480e-02</td>\n",
       "      <td>8.053e-04</td>\n",
       "    </tr>\n",
       "    <tr>\n",
       "      <th>V23</th>\n",
       "      <td>0.051</td>\n",
       "      <td>9.809e-16</td>\n",
       "      <td>1.060e-16</td>\n",
       "      <td>2.115e-17</td>\n",
       "      <td>6.003e-17</td>\n",
       "      <td>1.638e-16</td>\n",
       "      <td>-7.232e-17</td>\n",
       "      <td>2.328e-16</td>\n",
       "      <td>3.897e-16</td>\n",
       "      <td>5.929e-16</td>\n",
       "      <td>...</td>\n",
       "      <td>6.127e-16</td>\n",
       "      <td>3.131e-16</td>\n",
       "      <td>1.000e+00</td>\n",
       "      <td>-4.411e-17</td>\n",
       "      <td>-9.938e-16</td>\n",
       "      <td>8.849e-16</td>\n",
       "      <td>5.524e-16</td>\n",
       "      <td>9.030e-16</td>\n",
       "      <td>-1.126e-01</td>\n",
       "      <td>-2.685e-03</td>\n",
       "    </tr>\n",
       "    <tr>\n",
       "      <th>V24</th>\n",
       "      <td>-0.016</td>\n",
       "      <td>7.354e-17</td>\n",
       "      <td>-8.142e-18</td>\n",
       "      <td>-9.352e-17</td>\n",
       "      <td>2.230e-16</td>\n",
       "      <td>-9.286e-16</td>\n",
       "      <td>-1.262e-15</td>\n",
       "      <td>-2.590e-17</td>\n",
       "      <td>-1.803e-16</td>\n",
       "      <td>-2.346e-16</td>\n",
       "      <td>...</td>\n",
       "      <td>1.298e-16</td>\n",
       "      <td>1.151e-17</td>\n",
       "      <td>-4.411e-17</td>\n",
       "      <td>1.000e+00</td>\n",
       "      <td>1.557e-15</td>\n",
       "      <td>3.129e-16</td>\n",
       "      <td>-3.737e-16</td>\n",
       "      <td>-2.259e-16</td>\n",
       "      <td>5.146e-03</td>\n",
       "      <td>-7.221e-03</td>\n",
       "    </tr>\n",
       "    <tr>\n",
       "      <th>V25</th>\n",
       "      <td>-0.233</td>\n",
       "      <td>-9.805e-16</td>\n",
       "      <td>-4.262e-17</td>\n",
       "      <td>4.771e-16</td>\n",
       "      <td>5.395e-16</td>\n",
       "      <td>5.625e-16</td>\n",
       "      <td>1.082e-15</td>\n",
       "      <td>1.174e-15</td>\n",
       "      <td>-1.391e-16</td>\n",
       "      <td>1.100e-15</td>\n",
       "      <td>...</td>\n",
       "      <td>-2.826e-16</td>\n",
       "      <td>-6.079e-16</td>\n",
       "      <td>-9.938e-16</td>\n",
       "      <td>1.557e-15</td>\n",
       "      <td>1.000e+00</td>\n",
       "      <td>2.811e-15</td>\n",
       "      <td>-6.107e-16</td>\n",
       "      <td>3.399e-16</td>\n",
       "      <td>-4.784e-02</td>\n",
       "      <td>3.308e-03</td>\n",
       "    </tr>\n",
       "    <tr>\n",
       "      <th>V26</th>\n",
       "      <td>-0.041</td>\n",
       "      <td>-8.622e-17</td>\n",
       "      <td>2.602e-16</td>\n",
       "      <td>6.522e-16</td>\n",
       "      <td>-6.180e-16</td>\n",
       "      <td>9.145e-16</td>\n",
       "      <td>-2.378e-16</td>\n",
       "      <td>-7.335e-16</td>\n",
       "      <td>-1.210e-16</td>\n",
       "      <td>-1.389e-15</td>\n",
       "      <td>...</td>\n",
       "      <td>-4.907e-16</td>\n",
       "      <td>-8.477e-16</td>\n",
       "      <td>8.849e-16</td>\n",
       "      <td>3.129e-16</td>\n",
       "      <td>2.811e-15</td>\n",
       "      <td>1.000e+00</td>\n",
       "      <td>-3.384e-16</td>\n",
       "      <td>-3.751e-16</td>\n",
       "      <td>-3.208e-03</td>\n",
       "      <td>4.455e-03</td>\n",
       "    </tr>\n",
       "    <tr>\n",
       "      <th>V27</th>\n",
       "      <td>-0.005</td>\n",
       "      <td>3.208e-17</td>\n",
       "      <td>-4.478e-16</td>\n",
       "      <td>6.240e-16</td>\n",
       "      <td>-6.403e-17</td>\n",
       "      <td>4.466e-16</td>\n",
       "      <td>-2.624e-16</td>\n",
       "      <td>-5.887e-16</td>\n",
       "      <td>1.734e-16</td>\n",
       "      <td>-2.287e-16</td>\n",
       "      <td>...</td>\n",
       "      <td>-1.033e-15</td>\n",
       "      <td>-1.295e-16</td>\n",
       "      <td>5.524e-16</td>\n",
       "      <td>-3.737e-16</td>\n",
       "      <td>-6.107e-16</td>\n",
       "      <td>-3.384e-16</td>\n",
       "      <td>1.000e+00</td>\n",
       "      <td>-3.770e-16</td>\n",
       "      <td>2.883e-02</td>\n",
       "      <td>1.758e-02</td>\n",
       "    </tr>\n",
       "    <tr>\n",
       "      <th>V28</th>\n",
       "      <td>-0.009</td>\n",
       "      <td>9.821e-16</td>\n",
       "      <td>-3.676e-16</td>\n",
       "      <td>7.727e-16</td>\n",
       "      <td>-5.864e-17</td>\n",
       "      <td>-3.299e-16</td>\n",
       "      <td>4.813e-16</td>\n",
       "      <td>-6.837e-17</td>\n",
       "      <td>-4.484e-16</td>\n",
       "      <td>9.147e-16</td>\n",
       "      <td>...</td>\n",
       "      <td>5.132e-16</td>\n",
       "      <td>-3.021e-16</td>\n",
       "      <td>9.030e-16</td>\n",
       "      <td>-2.259e-16</td>\n",
       "      <td>3.399e-16</td>\n",
       "      <td>-3.751e-16</td>\n",
       "      <td>-3.770e-16</td>\n",
       "      <td>1.000e+00</td>\n",
       "      <td>1.026e-02</td>\n",
       "      <td>9.536e-03</td>\n",
       "    </tr>\n",
       "    <tr>\n",
       "      <th>Amount</th>\n",
       "      <td>-0.011</td>\n",
       "      <td>-2.277e-01</td>\n",
       "      <td>-5.314e-01</td>\n",
       "      <td>-2.109e-01</td>\n",
       "      <td>9.873e-02</td>\n",
       "      <td>-3.864e-01</td>\n",
       "      <td>2.160e-01</td>\n",
       "      <td>3.973e-01</td>\n",
       "      <td>-1.031e-01</td>\n",
       "      <td>-4.425e-02</td>\n",
       "      <td>...</td>\n",
       "      <td>1.060e-01</td>\n",
       "      <td>-6.480e-02</td>\n",
       "      <td>-1.126e-01</td>\n",
       "      <td>5.146e-03</td>\n",
       "      <td>-4.784e-02</td>\n",
       "      <td>-3.208e-03</td>\n",
       "      <td>2.883e-02</td>\n",
       "      <td>1.026e-02</td>\n",
       "      <td>1.000e+00</td>\n",
       "      <td>5.632e-03</td>\n",
       "    </tr>\n",
       "    <tr>\n",
       "      <th>Class</th>\n",
       "      <td>-0.012</td>\n",
       "      <td>-1.013e-01</td>\n",
       "      <td>9.129e-02</td>\n",
       "      <td>-1.930e-01</td>\n",
       "      <td>1.334e-01</td>\n",
       "      <td>-9.497e-02</td>\n",
       "      <td>-4.364e-02</td>\n",
       "      <td>-1.873e-01</td>\n",
       "      <td>1.988e-02</td>\n",
       "      <td>-9.773e-02</td>\n",
       "      <td>...</td>\n",
       "      <td>4.041e-02</td>\n",
       "      <td>8.053e-04</td>\n",
       "      <td>-2.685e-03</td>\n",
       "      <td>-7.221e-03</td>\n",
       "      <td>3.308e-03</td>\n",
       "      <td>4.455e-03</td>\n",
       "      <td>1.758e-02</td>\n",
       "      <td>9.536e-03</td>\n",
       "      <td>5.632e-03</td>\n",
       "      <td>1.000e+00</td>\n",
       "    </tr>\n",
       "  </tbody>\n",
       "</table>\n",
       "<p>31 rows × 31 columns</p>\n",
       "</div>"
      ],
      "text/plain": [
       "         Time         V1         V2         V3         V4         V5  \\\n",
       "Time    1.000  1.174e-01 -1.059e-02 -4.196e-01 -1.053e-01  1.731e-01   \n",
       "V1      0.117  1.000e+00  4.697e-17 -1.424e-15  1.755e-17  6.391e-17   \n",
       "V2     -0.011  4.697e-17  1.000e+00  2.512e-16 -1.126e-16 -2.040e-16   \n",
       "V3     -0.420 -1.424e-15  2.512e-16  1.000e+00 -3.417e-16 -1.437e-15   \n",
       "V4     -0.105  1.755e-17 -1.126e-16 -3.417e-16  1.000e+00 -1.941e-15   \n",
       "V5      0.173  6.391e-17 -2.040e-16 -1.437e-15 -1.941e-15  1.000e+00   \n",
       "V6     -0.063  2.398e-16  5.025e-16  1.432e-15 -2.713e-16  7.926e-16   \n",
       "V7      0.085  1.992e-15  3.966e-16  2.169e-15  1.556e-16 -4.210e-16   \n",
       "V8     -0.037 -9.491e-17 -4.414e-17  3.433e-16  5.196e-16  7.589e-16   \n",
       "V9     -0.009  2.170e-16 -5.729e-17 -4.234e-16  3.860e-16  4.205e-16   \n",
       "V10     0.031  7.434e-17 -4.782e-16  6.289e-16  6.055e-16 -6.602e-16   \n",
       "V11    -0.248  2.439e-16  9.469e-16 -5.502e-17 -2.084e-16  7.343e-16   \n",
       "V12     0.124  2.422e-16 -6.588e-16  2.207e-16 -5.658e-16  3.761e-16   \n",
       "V13    -0.066 -2.115e-16  3.855e-16 -6.883e-16 -1.506e-16 -9.579e-16   \n",
       "V14    -0.099  9.353e-16 -2.541e-16  4.271e-16 -8.522e-17 -3.635e-16   \n",
       "V15    -0.183 -3.252e-16  2.831e-16  1.123e-16 -1.508e-16 -5.133e-16   \n",
       "V16     0.012  6.309e-16  4.934e-17  1.183e-15 -6.939e-16 -3.517e-16   \n",
       "V17    -0.073 -5.012e-16 -9.883e-16  4.577e-17 -4.398e-16  1.426e-16   \n",
       "V18     0.090  2.870e-16  2.637e-16  5.428e-16  1.494e-16  1.110e-15   \n",
       "V19     0.029  1.818e-16  9.528e-17  2.577e-16 -2.657e-16 -3.138e-16   \n",
       "V20    -0.051  1.037e-16 -9.310e-16 -9.429e-16 -3.223e-16  2.076e-16   \n",
       "V21     0.045 -1.755e-16  8.444e-17 -2.972e-17 -9.977e-17 -1.369e-16   \n",
       "V22     0.144  7.477e-17  2.501e-16  4.648e-16  2.100e-16  5.060e-16   \n",
       "V23     0.051  9.809e-16  1.060e-16  2.115e-17  6.003e-17  1.638e-16   \n",
       "V24    -0.016  7.354e-17 -8.142e-18 -9.352e-17  2.230e-16 -9.286e-16   \n",
       "V25    -0.233 -9.805e-16 -4.262e-17  4.771e-16  5.395e-16  5.625e-16   \n",
       "V26    -0.041 -8.622e-17  2.602e-16  6.522e-16 -6.180e-16  9.145e-16   \n",
       "V27    -0.005  3.208e-17 -4.478e-16  6.240e-16 -6.403e-17  4.466e-16   \n",
       "V28    -0.009  9.821e-16 -3.676e-16  7.727e-16 -5.864e-17 -3.299e-16   \n",
       "Amount -0.011 -2.277e-01 -5.314e-01 -2.109e-01  9.873e-02 -3.864e-01   \n",
       "Class  -0.012 -1.013e-01  9.129e-02 -1.930e-01  1.334e-01 -9.497e-02   \n",
       "\n",
       "               V6         V7         V8         V9  ...        V21        V22  \\\n",
       "Time   -6.302e-02  8.471e-02 -3.695e-02 -8.660e-03  ...  4.474e-02  1.441e-01   \n",
       "V1      2.398e-16  1.992e-15 -9.491e-17  2.170e-16  ... -1.755e-16  7.477e-17   \n",
       "V2      5.025e-16  3.966e-16 -4.414e-17 -5.729e-17  ...  8.444e-17  2.501e-16   \n",
       "V3      1.432e-15  2.169e-15  3.433e-16 -4.234e-16  ... -2.972e-17  4.648e-16   \n",
       "V4     -2.713e-16  1.556e-16  5.196e-16  3.860e-16  ... -9.977e-17  2.100e-16   \n",
       "V5      7.926e-16 -4.210e-16  7.589e-16  4.205e-16  ... -1.369e-16  5.060e-16   \n",
       "V6      1.000e+00  1.429e-16 -1.707e-16  1.114e-16  ... -1.576e-16 -3.363e-16   \n",
       "V7      1.429e-16  1.000e+00 -8.692e-17  7.933e-16  ...  1.939e-16 -1.058e-15   \n",
       "V8     -1.707e-16 -8.692e-17  1.000e+00  2.901e-16  ... -2.412e-16  5.476e-16   \n",
       "V9      1.114e-16  7.933e-16  2.901e-16  1.000e+00  ...  4.578e-17  2.872e-17   \n",
       "V10     2.851e-16  3.043e-17  9.052e-17 -2.772e-16  ...  8.090e-16 -6.708e-16   \n",
       "V11     4.866e-16 -1.084e-15  1.955e-16  4.682e-16  ... -3.912e-16 -3.812e-17   \n",
       "V12     2.141e-16  1.510e-15 -6.266e-17 -2.445e-15  ...  3.230e-16 -5.904e-16   \n",
       "V13    -2.268e-16 -9.892e-17 -2.383e-16 -2.650e-16  ...  9.499e-17 -2.660e-17   \n",
       "V14     3.453e-16 -1.729e-16 -1.131e-16  2.343e-16  ...  1.634e-17  3.440e-16   \n",
       "V15    -6.368e-18  1.937e-17  2.021e-16 -1.588e-15  ...  1.947e-17 -8.937e-16   \n",
       "V16    -2.478e-16  2.894e-16  5.027e-16 -3.252e-16  ... -3.927e-16  3.878e-17   \n",
       "V17     3.568e-16  1.150e-15 -3.509e-16  6.536e-16  ... -7.754e-16 -8.390e-16   \n",
       "V18     2.811e-16 -1.117e-16 -4.094e-16  1.204e-16  ... -1.141e-15 -8.663e-17   \n",
       "V19     2.717e-16 -2.874e-16 -5.340e-16  1.121e-16  ...  4.033e-16 -9.690e-16   \n",
       "V20     1.899e-16  1.744e-16 -1.096e-16 -4.341e-16  ... -1.121e-15  1.106e-15   \n",
       "V21    -1.576e-16  1.939e-16 -2.412e-16  4.578e-17  ...  1.000e+00  3.906e-15   \n",
       "V22    -3.363e-16 -1.058e-15  5.476e-16  2.872e-17  ...  3.906e-15  1.000e+00   \n",
       "V23    -7.232e-17  2.328e-16  3.897e-16  5.929e-16  ...  6.127e-16  3.131e-16   \n",
       "V24    -1.262e-15 -2.590e-17 -1.803e-16 -2.346e-16  ...  1.298e-16  1.151e-17   \n",
       "V25     1.082e-15  1.174e-15 -1.391e-16  1.100e-15  ... -2.826e-16 -6.079e-16   \n",
       "V26    -2.378e-16 -7.335e-16 -1.210e-16 -1.389e-15  ... -4.907e-16 -8.477e-16   \n",
       "V27    -2.624e-16 -5.887e-16  1.734e-16 -2.287e-16  ... -1.033e-15 -1.295e-16   \n",
       "V28     4.813e-16 -6.837e-17 -4.484e-16  9.147e-16  ...  5.132e-16 -3.021e-16   \n",
       "Amount  2.160e-01  3.973e-01 -1.031e-01 -4.425e-02  ...  1.060e-01 -6.480e-02   \n",
       "Class  -4.364e-02 -1.873e-01  1.988e-02 -9.773e-02  ...  4.041e-02  8.053e-04   \n",
       "\n",
       "              V23        V24        V25        V26        V27        V28  \\\n",
       "Time    5.114e-02 -1.618e-02 -2.331e-01 -4.141e-02 -5.135e-03 -9.413e-03   \n",
       "V1      9.809e-16  7.354e-17 -9.805e-16 -8.622e-17  3.208e-17  9.821e-16   \n",
       "V2      1.060e-16 -8.142e-18 -4.262e-17  2.602e-16 -4.478e-16 -3.676e-16   \n",
       "V3      2.115e-17 -9.352e-17  4.771e-16  6.522e-16  6.240e-16  7.727e-16   \n",
       "V4      6.003e-17  2.230e-16  5.395e-16 -6.180e-16 -6.403e-17 -5.864e-17   \n",
       "V5      1.638e-16 -9.286e-16  5.625e-16  9.145e-16  4.466e-16 -3.299e-16   \n",
       "V6     -7.232e-17 -1.262e-15  1.082e-15 -2.378e-16 -2.624e-16  4.813e-16   \n",
       "V7      2.328e-16 -2.590e-17  1.174e-15 -7.335e-16 -5.887e-16 -6.837e-17   \n",
       "V8      3.897e-16 -1.803e-16 -1.391e-16 -1.210e-16  1.734e-16 -4.484e-16   \n",
       "V9      5.929e-16 -2.346e-16  1.100e-15 -1.389e-15 -2.287e-16  9.147e-16   \n",
       "V10     3.810e-16 -4.033e-17 -2.864e-16 -2.554e-16 -3.103e-16 -1.516e-16   \n",
       "V11     2.232e-16  1.220e-15 -4.568e-16 -1.111e-16 -2.636e-16 -3.092e-16   \n",
       "V12     1.392e-16  4.902e-16  5.054e-16 -5.759e-16 -2.313e-16  7.327e-16   \n",
       "V13    -5.884e-16 -5.471e-16  8.067e-17 -2.122e-16 -4.520e-16  1.050e-15   \n",
       "V14     7.621e-17  2.336e-16 -2.607e-16 -6.580e-18  1.286e-16  2.503e-15   \n",
       "V15     1.120e-16 -4.590e-16  3.870e-16  3.761e-16 -1.265e-15 -1.063e-15   \n",
       "V16     8.520e-16 -4.289e-16 -6.644e-16 -5.187e-16  7.820e-16  8.637e-16   \n",
       "V17     5.368e-16 -5.544e-17  4.822e-16  4.870e-16  8.844e-16 -2.183e-16   \n",
       "V18    -3.624e-16 -1.126e-16 -2.311e-16  3.184e-16  2.435e-16  8.845e-16   \n",
       "V19     5.734e-16  3.127e-17  7.415e-16  5.614e-16 -1.113e-16 -1.376e-15   \n",
       "V20     4.987e-16  1.637e-16 -1.518e-16 -2.975e-16 -1.446e-15 -1.134e-16   \n",
       "V21     6.127e-16  1.298e-16 -2.826e-16 -4.907e-16 -1.033e-15  5.132e-16   \n",
       "V22     3.131e-16  1.151e-17 -6.079e-16 -8.477e-16 -1.295e-16 -3.021e-16   \n",
       "V23     1.000e+00 -4.411e-17 -9.938e-16  8.849e-16  5.524e-16  9.030e-16   \n",
       "V24    -4.411e-17  1.000e+00  1.557e-15  3.129e-16 -3.737e-16 -2.259e-16   \n",
       "V25    -9.938e-16  1.557e-15  1.000e+00  2.811e-15 -6.107e-16  3.399e-16   \n",
       "V26     8.849e-16  3.129e-16  2.811e-15  1.000e+00 -3.384e-16 -3.751e-16   \n",
       "V27     5.524e-16 -3.737e-16 -6.107e-16 -3.384e-16  1.000e+00 -3.770e-16   \n",
       "V28     9.030e-16 -2.259e-16  3.399e-16 -3.751e-16 -3.770e-16  1.000e+00   \n",
       "Amount -1.126e-01  5.146e-03 -4.784e-02 -3.208e-03  2.883e-02  1.026e-02   \n",
       "Class  -2.685e-03 -7.221e-03  3.308e-03  4.455e-03  1.758e-02  9.536e-03   \n",
       "\n",
       "           Amount      Class  \n",
       "Time   -1.060e-02 -1.232e-02  \n",
       "V1     -2.277e-01 -1.013e-01  \n",
       "V2     -5.314e-01  9.129e-02  \n",
       "V3     -2.109e-01 -1.930e-01  \n",
       "V4      9.873e-02  1.334e-01  \n",
       "V5     -3.864e-01 -9.497e-02  \n",
       "V6      2.160e-01 -4.364e-02  \n",
       "V7      3.973e-01 -1.873e-01  \n",
       "V8     -1.031e-01  1.988e-02  \n",
       "V9     -4.425e-02 -9.773e-02  \n",
       "V10    -1.015e-01 -2.169e-01  \n",
       "V11     1.040e-04  1.549e-01  \n",
       "V12    -9.542e-03 -2.606e-01  \n",
       "V13     5.293e-03 -4.570e-03  \n",
       "V14     3.375e-02 -3.025e-01  \n",
       "V15    -2.986e-03 -4.223e-03  \n",
       "V16    -3.910e-03 -1.965e-01  \n",
       "V17     7.309e-03 -3.265e-01  \n",
       "V18     3.565e-02 -1.115e-01  \n",
       "V19    -5.615e-02  3.478e-02  \n",
       "V20     3.394e-01  2.009e-02  \n",
       "V21     1.060e-01  4.041e-02  \n",
       "V22    -6.480e-02  8.053e-04  \n",
       "V23    -1.126e-01 -2.685e-03  \n",
       "V24     5.146e-03 -7.221e-03  \n",
       "V25    -4.784e-02  3.308e-03  \n",
       "V26    -3.208e-03  4.455e-03  \n",
       "V27     2.883e-02  1.758e-02  \n",
       "V28     1.026e-02  9.536e-03  \n",
       "Amount  1.000e+00  5.632e-03  \n",
       "Class   5.632e-03  1.000e+00  \n",
       "\n",
       "[31 rows x 31 columns]"
      ]
     },
     "execution_count": 14,
     "metadata": {},
     "output_type": "execute_result"
    }
   ],
   "source": [
    "corr = df.corr()\n",
    "corr"
   ]
  },
  {
   "cell_type": "code",
   "execution_count": 15,
   "metadata": {},
   "outputs": [
    {
     "data": {
      "text/plain": [
       "Text(0.5, 1.0, 'Heatmap of Correlation')"
      ]
     },
     "execution_count": 15,
     "metadata": {},
     "output_type": "execute_result"
    },
    {
     "data": {
      "image/png": "[encoded data removed]",
      "text/plain": [
       "<Figure size 864x720 with 2 Axes>"
      ]
     },
     "metadata": {
      "needs_background": "light"
     },
     "output_type": "display_data"
    }
   ],
   "source": [
    "corr = df.corr()\n",
    "plt.figure(figsize=(12,10))\n",
    "heat = sns.heatmap(data=corr)\n",
    "plt.title('Heatmap of Correlation')"
   ]
  },
  {
   "cell_type": "code",
   "execution_count": 16,
   "metadata": {},
   "outputs": [
    {
     "data": {
      "text/plain": [
       "Time      -0.036\n",
       "V1        -3.281\n",
       "V2        -4.625\n",
       "V3        -2.240\n",
       "V4         0.676\n",
       "V5        -2.426\n",
       "V6         1.827\n",
       "V7         2.554\n",
       "V8        -8.522\n",
       "V9         0.555\n",
       "V10        1.187\n",
       "V11        0.357\n",
       "V12       -2.278\n",
       "V13        0.065\n",
       "V14       -1.995\n",
       "V15       -0.308\n",
       "V16       -1.101\n",
       "V17       -3.845\n",
       "V18       -0.260\n",
       "V19        0.109\n",
       "V20       -2.037\n",
       "V21        3.593\n",
       "V22       -0.213\n",
       "V23       -5.875\n",
       "V24       -0.552\n",
       "V25       -0.416\n",
       "V26        0.577\n",
       "V27       -1.170\n",
       "V28       11.192\n",
       "Amount    16.978\n",
       "Class     23.998\n",
       "dtype: float64"
      ]
     },
     "execution_count": 16,
     "metadata": {},
     "output_type": "execute_result"
    }
   ],
   "source": [
    "skew_ = df.skew()\n",
    "skew_"
   ]
  },
  {
   "cell_type": "markdown",
   "metadata": {},
   "source": [
    "# II. MACHINE LEARNING PROCESSING"
   ]
  },
  {
   "cell_type": "markdown",
   "metadata": {},
   "source": [
    "## II.I. STANDARDIZATION"
   ]
  },
  {
   "cell_type": "code",
   "execution_count": 17,
   "metadata": {},
   "outputs": [],
   "source": [
    "from sklearn.preprocessing import StandardScaler\n",
    "scaler = StandardScaler()\n",
    "scaler2 = StandardScaler()"
   ]
  },
  {
   "cell_type": "markdown",
   "metadata": {},
   "source": [
    "### Scaling Time"
   ]
  },
  {
   "cell_type": "code",
   "execution_count": 18,
   "metadata": {},
   "outputs": [],
   "source": [
    "scaled_time = scaler.fit_transform(df[['Time']])\n",
    "flat_list1 = [item for sublist in scaled_time.tolist() for item in sublist]\n",
    "scaled_time = pd.Series(flat_list1)"
   ]
  },
  {
   "cell_type": "markdown",
   "metadata": {},
   "source": [
    "### Scaling Amount"
   ]
  },
  {
   "cell_type": "code",
   "execution_count": 19,
   "metadata": {},
   "outputs": [],
   "source": [
    "scaled_amount = scaler2.fit_transform(df[['Amount']])\n",
    "flat_list2 = [item for sublist in scaled_amount.tolist() for item in sublist]\n",
    "scaled_amount = pd.Series(flat_list2)"
   ]
  },
  {
   "cell_type": "code",
   "execution_count": 20,
   "metadata": {},
   "outputs": [],
   "source": [
    "# flat_list1 = []\n",
    "\n",
    "# for sublıst ın scaledtıme.tolıst():\n",
    "    #for item in sublist:\n",
    "        #flat_list1.append(item)     "
   ]
  },
  {
   "cell_type": "markdown",
   "metadata": {},
   "source": [
    "### DataFrame Processing After Standardization"
   ]
  },
  {
   "cell_type": "code",
   "execution_count": 21,
   "metadata": {},
   "outputs": [
    {
     "data": {
      "text/html": [
       "<div>\n",
       "<style scoped>\n",
       "    .dataframe tbody tr th:only-of-type {\n",
       "        vertical-align: middle;\n",
       "    }\n",
       "\n",
       "    .dataframe tbody tr th {\n",
       "        vertical-align: top;\n",
       "    }\n",
       "\n",
       "    .dataframe thead th {\n",
       "        text-align: right;\n",
       "    }\n",
       "</style>\n",
       "<table border=\"1\" class=\"dataframe\">\n",
       "  <thead>\n",
       "    <tr style=\"text-align: right;\">\n",
       "      <th></th>\n",
       "      <th>Time</th>\n",
       "      <th>V1</th>\n",
       "      <th>V2</th>\n",
       "      <th>V3</th>\n",
       "      <th>V4</th>\n",
       "      <th>V5</th>\n",
       "      <th>V6</th>\n",
       "      <th>V7</th>\n",
       "      <th>V8</th>\n",
       "      <th>V9</th>\n",
       "      <th>...</th>\n",
       "      <th>V23</th>\n",
       "      <th>V24</th>\n",
       "      <th>V25</th>\n",
       "      <th>V26</th>\n",
       "      <th>V27</th>\n",
       "      <th>V28</th>\n",
       "      <th>Amount</th>\n",
       "      <th>Class</th>\n",
       "      <th>scaled_amount</th>\n",
       "      <th>scaled_time</th>\n",
       "    </tr>\n",
       "  </thead>\n",
       "  <tbody>\n",
       "    <tr>\n",
       "      <th>210544</th>\n",
       "      <td>138029.0</td>\n",
       "      <td>2.017</td>\n",
       "      <td>-0.785</td>\n",
       "      <td>-1.465</td>\n",
       "      <td>-0.373</td>\n",
       "      <td>-0.584</td>\n",
       "      <td>-1.429</td>\n",
       "      <td>0.086</td>\n",
       "      <td>-0.467</td>\n",
       "      <td>-0.775</td>\n",
       "      <td>...</td>\n",
       "      <td>2.784e-01</td>\n",
       "      <td>0.014</td>\n",
       "      <td>-0.369</td>\n",
       "      <td>0.393</td>\n",
       "      <td>-0.093</td>\n",
       "      <td>-0.046</td>\n",
       "      <td>100.00</td>\n",
       "      <td>0</td>\n",
       "      <td>0.047</td>\n",
       "      <td>0.910</td>\n",
       "    </tr>\n",
       "    <tr>\n",
       "      <th>46635</th>\n",
       "      <td>42867.0</td>\n",
       "      <td>1.235</td>\n",
       "      <td>0.334</td>\n",
       "      <td>0.200</td>\n",
       "      <td>0.495</td>\n",
       "      <td>-0.103</td>\n",
       "      <td>-0.546</td>\n",
       "      <td>0.017</td>\n",
       "      <td>-0.069</td>\n",
       "      <td>-0.293</td>\n",
       "      <td>...</td>\n",
       "      <td>6.854e-02</td>\n",
       "      <td>-0.021</td>\n",
       "      <td>0.249</td>\n",
       "      <td>0.095</td>\n",
       "      <td>-0.024</td>\n",
       "      <td>0.019</td>\n",
       "      <td>2.69</td>\n",
       "      <td>0</td>\n",
       "      <td>-0.342</td>\n",
       "      <td>-1.094</td>\n",
       "    </tr>\n",
       "    <tr>\n",
       "      <th>81743</th>\n",
       "      <td>59069.0</td>\n",
       "      <td>1.344</td>\n",
       "      <td>-1.348</td>\n",
       "      <td>0.286</td>\n",
       "      <td>-1.637</td>\n",
       "      <td>-1.169</td>\n",
       "      <td>0.361</td>\n",
       "      <td>-1.209</td>\n",
       "      <td>0.163</td>\n",
       "      <td>-1.901</td>\n",
       "      <td>...</td>\n",
       "      <td>3.868e-02</td>\n",
       "      <td>-0.873</td>\n",
       "      <td>0.102</td>\n",
       "      <td>-0.352</td>\n",
       "      <td>0.040</td>\n",
       "      <td>0.019</td>\n",
       "      <td>80.65</td>\n",
       "      <td>0</td>\n",
       "      <td>-0.031</td>\n",
       "      <td>-0.753</td>\n",
       "    </tr>\n",
       "    <tr>\n",
       "      <th>129021</th>\n",
       "      <td>78924.0</td>\n",
       "      <td>1.205</td>\n",
       "      <td>0.221</td>\n",
       "      <td>0.624</td>\n",
       "      <td>0.551</td>\n",
       "      <td>-0.505</td>\n",
       "      <td>-0.781</td>\n",
       "      <td>-0.026</td>\n",
       "      <td>-0.082</td>\n",
       "      <td>-0.256</td>\n",
       "      <td>...</td>\n",
       "      <td>1.480e-01</td>\n",
       "      <td>0.535</td>\n",
       "      <td>0.166</td>\n",
       "      <td>0.064</td>\n",
       "      <td>-0.031</td>\n",
       "      <td>0.011</td>\n",
       "      <td>0.89</td>\n",
       "      <td>0</td>\n",
       "      <td>-0.350</td>\n",
       "      <td>-0.335</td>\n",
       "    </tr>\n",
       "    <tr>\n",
       "      <th>192150</th>\n",
       "      <td>129565.0</td>\n",
       "      <td>1.800</td>\n",
       "      <td>-0.944</td>\n",
       "      <td>-0.800</td>\n",
       "      <td>0.120</td>\n",
       "      <td>-0.479</td>\n",
       "      <td>0.353</td>\n",
       "      <td>-0.728</td>\n",
       "      <td>0.224</td>\n",
       "      <td>1.127</td>\n",
       "      <td>...</td>\n",
       "      <td>8.310e-04</td>\n",
       "      <td>0.239</td>\n",
       "      <td>-0.262</td>\n",
       "      <td>0.728</td>\n",
       "      <td>-0.070</td>\n",
       "      <td>-0.043</td>\n",
       "      <td>115.95</td>\n",
       "      <td>0</td>\n",
       "      <td>0.110</td>\n",
       "      <td>0.732</td>\n",
       "    </tr>\n",
       "  </tbody>\n",
       "</table>\n",
       "<p>5 rows × 33 columns</p>\n",
       "</div>"
      ],
      "text/plain": [
       "            Time     V1     V2     V3     V4     V5     V6     V7     V8  \\\n",
       "210544  138029.0  2.017 -0.785 -1.465 -0.373 -0.584 -1.429  0.086 -0.467   \n",
       "46635    42867.0  1.235  0.334  0.200  0.495 -0.103 -0.546  0.017 -0.069   \n",
       "81743    59069.0  1.344 -1.348  0.286 -1.637 -1.169  0.361 -1.209  0.163   \n",
       "129021   78924.0  1.205  0.221  0.624  0.551 -0.505 -0.781 -0.026 -0.082   \n",
       "192150  129565.0  1.800 -0.944 -0.800  0.120 -0.479  0.353 -0.728  0.224   \n",
       "\n",
       "           V9  ...        V23    V24    V25    V26    V27    V28  Amount  \\\n",
       "210544 -0.775  ...  2.784e-01  0.014 -0.369  0.393 -0.093 -0.046  100.00   \n",
       "46635  -0.293  ...  6.854e-02 -0.021  0.249  0.095 -0.024  0.019    2.69   \n",
       "81743  -1.901  ...  3.868e-02 -0.873  0.102 -0.352  0.040  0.019   80.65   \n",
       "129021 -0.256  ...  1.480e-01  0.535  0.166  0.064 -0.031  0.011    0.89   \n",
       "192150  1.127  ...  8.310e-04  0.239 -0.262  0.728 -0.070 -0.043  115.95   \n",
       "\n",
       "        Class  scaled_amount  scaled_time  \n",
       "210544      0          0.047        0.910  \n",
       "46635       0         -0.342       -1.094  \n",
       "81743       0         -0.031       -0.753  \n",
       "129021      0         -0.350       -0.335  \n",
       "192150      0          0.110        0.732  \n",
       "\n",
       "[5 rows x 33 columns]"
      ]
     },
     "execution_count": 21,
     "metadata": {},
     "output_type": "execute_result"
    }
   ],
   "source": [
    "df = pd.concat([df, scaled_amount.rename('scaled_amount'), scaled_time.rename('scaled_time')], axis=1)\n",
    "df.sample(5)"
   ]
  },
  {
   "cell_type": "code",
   "execution_count": 22,
   "metadata": {},
   "outputs": [],
   "source": [
    "df.drop(['Amount', 'Time'], axis=1, inplace=True)"
   ]
  },
  {
   "cell_type": "code",
   "execution_count": 23,
   "metadata": {},
   "outputs": [],
   "source": [
    "data = df.copy()\n",
    "# data ANN de kullanilmak uzere kopyalandi"
   ]
  },
  {
   "cell_type": "markdown",
   "metadata": {},
   "source": [
    "## II.II. HANDLING OF IMBALANCE PROBLEM"
   ]
  },
  {
   "cell_type": "markdown",
   "metadata": {},
   "source": [
    "### Getting Train and Test Data Manually"
   ]
  },
  {
   "cell_type": "code",
   "execution_count": 24,
   "metadata": {},
   "outputs": [
    {
     "name": "stdout",
     "output_type": "stream",
     "text": [
      "Train Shape: (256607, 31)\n",
      "Test Shape: (28200, 31)\n"
     ]
    }
   ],
   "source": [
    "#manual train test split using numpy's random.rand\n",
    "mask = np.random.rand(len(df)) < 0.9 \n",
    "\n",
    "# Create an array of the given shape and populate it with random samples from a uniform distribution over [0, 1).\n",
    "# 0.9'dan küçük olanların true büyük olanların false olarak değiştirilip mask değişkenine atanacak.\n",
    "\n",
    "train = df[mask] \n",
    "\n",
    "# Yalnızca true ve falselardan oluşan ve halihazırdaki dataframe'in uzunluğundaki mask arrayini kullnarak dataframeden \n",
    "# elde edilmiştir. Dataframe içindeki trueları aldı. \n",
    "\n",
    "test = df[~mask]\n",
    "print('Train Shape: {}\\nTest Shape: {}'.format(train.shape, test.shape))\n"
   ]
  },
  {
   "cell_type": "code",
   "execution_count": 25,
   "metadata": {},
   "outputs": [],
   "source": [
    "train.reset_index(drop=True, inplace=True)\n",
    "test.reset_index(drop=True, inplace=True)\n",
    "\n",
    "# Train ve test datanın indexini yenileidk. Drop ile eski indexi gönderiyoruz dataframe içinde bir sütun olarak kalmıyor\n",
    "# INplace ile yer değiştirmeyi yaptık. "
   ]
  },
  {
   "cell_type": "markdown",
   "metadata": {},
   "source": [
    "### How many Fraudulent Examples do We have in our Train data?"
   ]
  },
  {
   "cell_type": "code",
   "execution_count": 26,
   "metadata": {},
   "outputs": [
    {
     "name": "stdout",
     "output_type": "stream",
     "text": [
      "There are 440 fraudulent transactions in the train data.\n"
     ]
    }
   ],
   "source": [
    "#how many random samples from normal transactions do we need?\n",
    "no_of_frauds = train.Class.value_counts()[1]\n",
    "print('There are {} fraudulent transactions in the train data.'.format(no_of_frauds))"
   ]
  },
  {
   "cell_type": "code",
   "execution_count": 27,
   "metadata": {},
   "outputs": [],
   "source": [
    "#randomly selecting 440 random non-fraudulent transactions\n",
    "non_fraud = train[train['Class'] == 0]\n",
    "fraud = train[train['Class'] == 1]\n",
    "\n",
    "# class serisinde 0'a eşit olanları al "
   ]
  },
  {
   "cell_type": "markdown",
   "metadata": {},
   "source": [
    "### Randomly Choosing Same Number of Data from non-Fraudulent examples"
   ]
  },
  {
   "cell_type": "code",
   "execution_count": 28,
   "metadata": {},
   "outputs": [
    {
     "data": {
      "text/html": [
       "<div>\n",
       "<style scoped>\n",
       "    .dataframe tbody tr th:only-of-type {\n",
       "        vertical-align: middle;\n",
       "    }\n",
       "\n",
       "    .dataframe tbody tr th {\n",
       "        vertical-align: top;\n",
       "    }\n",
       "\n",
       "    .dataframe thead th {\n",
       "        text-align: right;\n",
       "    }\n",
       "</style>\n",
       "<table border=\"1\" class=\"dataframe\">\n",
       "  <thead>\n",
       "    <tr style=\"text-align: right;\">\n",
       "      <th></th>\n",
       "      <th>V1</th>\n",
       "      <th>V2</th>\n",
       "      <th>V3</th>\n",
       "      <th>V4</th>\n",
       "      <th>V5</th>\n",
       "      <th>V6</th>\n",
       "      <th>V7</th>\n",
       "      <th>V8</th>\n",
       "      <th>V9</th>\n",
       "      <th>V10</th>\n",
       "      <th>...</th>\n",
       "      <th>V22</th>\n",
       "      <th>V23</th>\n",
       "      <th>V24</th>\n",
       "      <th>V25</th>\n",
       "      <th>V26</th>\n",
       "      <th>V27</th>\n",
       "      <th>V28</th>\n",
       "      <th>Class</th>\n",
       "      <th>scaled_amount</th>\n",
       "      <th>scaled_time</th>\n",
       "    </tr>\n",
       "  </thead>\n",
       "  <tbody>\n",
       "    <tr>\n",
       "      <th>133337</th>\n",
       "      <td>1.953</td>\n",
       "      <td>0.395</td>\n",
       "      <td>-0.198</td>\n",
       "      <td>3.528</td>\n",
       "      <td>0.347</td>\n",
       "      <td>0.773</td>\n",
       "      <td>-0.416</td>\n",
       "      <td>0.099</td>\n",
       "      <td>-0.542</td>\n",
       "      <td>1.406</td>\n",
       "      <td>...</td>\n",
       "      <td>0.510</td>\n",
       "      <td>0.078</td>\n",
       "      <td>-1.071</td>\n",
       "      <td>-0.123</td>\n",
       "      <td>0.063</td>\n",
       "      <td>0.017</td>\n",
       "      <td>-0.040</td>\n",
       "      <td>0</td>\n",
       "      <td>-0.349</td>\n",
       "      <td>-0.116</td>\n",
       "    </tr>\n",
       "    <tr>\n",
       "      <th>115337</th>\n",
       "      <td>1.437</td>\n",
       "      <td>-1.474</td>\n",
       "      <td>1.085</td>\n",
       "      <td>-1.284</td>\n",
       "      <td>-2.085</td>\n",
       "      <td>0.105</td>\n",
       "      <td>-1.811</td>\n",
       "      <td>0.303</td>\n",
       "      <td>-0.976</td>\n",
       "      <td>1.480</td>\n",
       "      <td>...</td>\n",
       "      <td>-0.231</td>\n",
       "      <td>0.040</td>\n",
       "      <td>-0.049</td>\n",
       "      <td>0.197</td>\n",
       "      <td>-0.186</td>\n",
       "      <td>0.063</td>\n",
       "      <td>0.014</td>\n",
       "      <td>0</td>\n",
       "      <td>-0.313</td>\n",
       "      <td>-0.341</td>\n",
       "    </tr>\n",
       "    <tr>\n",
       "      <th>14700</th>\n",
       "      <td>1.126</td>\n",
       "      <td>0.080</td>\n",
       "      <td>1.130</td>\n",
       "      <td>2.666</td>\n",
       "      <td>-0.201</td>\n",
       "      <td>1.340</td>\n",
       "      <td>-0.676</td>\n",
       "      <td>0.374</td>\n",
       "      <td>0.459</td>\n",
       "      <td>0.330</td>\n",
       "      <td>...</td>\n",
       "      <td>0.412</td>\n",
       "      <td>-0.209</td>\n",
       "      <td>-0.713</td>\n",
       "      <td>0.668</td>\n",
       "      <td>0.294</td>\n",
       "      <td>0.066</td>\n",
       "      <td>0.016</td>\n",
       "      <td>0</td>\n",
       "      <td>-0.347</td>\n",
       "      <td>-1.413</td>\n",
       "    </tr>\n",
       "    <tr>\n",
       "      <th>215332</th>\n",
       "      <td>1.497</td>\n",
       "      <td>-0.692</td>\n",
       "      <td>1.082</td>\n",
       "      <td>4.181</td>\n",
       "      <td>-0.940</td>\n",
       "      <td>1.932</td>\n",
       "      <td>-1.314</td>\n",
       "      <td>0.611</td>\n",
       "      <td>0.704</td>\n",
       "      <td>1.123</td>\n",
       "      <td>...</td>\n",
       "      <td>0.732</td>\n",
       "      <td>-0.002</td>\n",
       "      <td>-0.460</td>\n",
       "      <td>-0.315</td>\n",
       "      <td>0.079</td>\n",
       "      <td>0.062</td>\n",
       "      <td>-0.009</td>\n",
       "      <td>0</td>\n",
       "      <td>0.199</td>\n",
       "      <td>1.160</td>\n",
       "    </tr>\n",
       "    <tr>\n",
       "      <th>40973</th>\n",
       "      <td>0.835</td>\n",
       "      <td>-1.004</td>\n",
       "      <td>0.764</td>\n",
       "      <td>0.331</td>\n",
       "      <td>-1.200</td>\n",
       "      <td>-0.098</td>\n",
       "      <td>-0.362</td>\n",
       "      <td>0.005</td>\n",
       "      <td>1.157</td>\n",
       "      <td>-0.558</td>\n",
       "      <td>...</td>\n",
       "      <td>-0.562</td>\n",
       "      <td>-0.151</td>\n",
       "      <td>0.132</td>\n",
       "      <td>0.119</td>\n",
       "      <td>0.941</td>\n",
       "      <td>-0.071</td>\n",
       "      <td>0.048</td>\n",
       "      <td>0</td>\n",
       "      <td>0.512</td>\n",
       "      <td>-1.103</td>\n",
       "    </tr>\n",
       "  </tbody>\n",
       "</table>\n",
       "<p>5 rows × 31 columns</p>\n",
       "</div>"
      ],
      "text/plain": [
       "           V1     V2     V3     V4     V5     V6     V7     V8     V9    V10  \\\n",
       "133337  1.953  0.395 -0.198  3.528  0.347  0.773 -0.416  0.099 -0.542  1.406   \n",
       "115337  1.437 -1.474  1.085 -1.284 -2.085  0.105 -1.811  0.303 -0.976  1.480   \n",
       "14700   1.126  0.080  1.130  2.666 -0.201  1.340 -0.676  0.374  0.459  0.330   \n",
       "215332  1.497 -0.692  1.082  4.181 -0.940  1.932 -1.314  0.611  0.704  1.123   \n",
       "40973   0.835 -1.004  0.764  0.331 -1.200 -0.098 -0.362  0.005  1.157 -0.558   \n",
       "\n",
       "        ...    V22    V23    V24    V25    V26    V27    V28  Class  \\\n",
       "133337  ...  0.510  0.078 -1.071 -0.123  0.063  0.017 -0.040      0   \n",
       "115337  ... -0.231  0.040 -0.049  0.197 -0.186  0.063  0.014      0   \n",
       "14700   ...  0.412 -0.209 -0.713  0.668  0.294  0.066  0.016      0   \n",
       "215332  ...  0.732 -0.002 -0.460 -0.315  0.079  0.062 -0.009      0   \n",
       "40973   ... -0.562 -0.151  0.132  0.119  0.941 -0.071  0.048      0   \n",
       "\n",
       "        scaled_amount  scaled_time  \n",
       "133337         -0.349       -0.116  \n",
       "115337         -0.313       -0.341  \n",
       "14700          -0.347       -1.413  \n",
       "215332          0.199        1.160  \n",
       "40973           0.512       -1.103  \n",
       "\n",
       "[5 rows x 31 columns]"
      ]
     },
     "execution_count": 28,
     "metadata": {},
     "output_type": "execute_result"
    }
   ],
   "source": [
    "selected = non_fraud.sample(no_of_frauds)\n",
    "selected.head()"
   ]
  },
  {
   "cell_type": "code",
   "execution_count": 29,
   "metadata": {},
   "outputs": [],
   "source": [
    "#concatenating both into a subsample data set with equal class distribution\n",
    "selected.reset_index(drop=True, inplace=True)\n",
    "fraud.reset_index(drop=True, inplace=True)"
   ]
  },
  {
   "cell_type": "code",
   "execution_count": 30,
   "metadata": {},
   "outputs": [
    {
     "data": {
      "text/plain": [
       "880"
      ]
     },
     "execution_count": 30,
     "metadata": {},
     "output_type": "execute_result"
    }
   ],
   "source": [
    "subsample = pd.concat([selected, fraud])\n",
    "len(subsample)"
   ]
  },
  {
   "cell_type": "code",
   "execution_count": 31,
   "metadata": {},
   "outputs": [
    {
     "data": {
      "text/html": [
       "<div>\n",
       "<style scoped>\n",
       "    .dataframe tbody tr th:only-of-type {\n",
       "        vertical-align: middle;\n",
       "    }\n",
       "\n",
       "    .dataframe tbody tr th {\n",
       "        vertical-align: top;\n",
       "    }\n",
       "\n",
       "    .dataframe thead th {\n",
       "        text-align: right;\n",
       "    }\n",
       "</style>\n",
       "<table border=\"1\" class=\"dataframe\">\n",
       "  <thead>\n",
       "    <tr style=\"text-align: right;\">\n",
       "      <th></th>\n",
       "      <th>V1</th>\n",
       "      <th>V2</th>\n",
       "      <th>V3</th>\n",
       "      <th>V4</th>\n",
       "      <th>V5</th>\n",
       "      <th>V6</th>\n",
       "      <th>V7</th>\n",
       "      <th>V8</th>\n",
       "      <th>V9</th>\n",
       "      <th>V10</th>\n",
       "      <th>...</th>\n",
       "      <th>V22</th>\n",
       "      <th>V23</th>\n",
       "      <th>V24</th>\n",
       "      <th>V25</th>\n",
       "      <th>V26</th>\n",
       "      <th>V27</th>\n",
       "      <th>V28</th>\n",
       "      <th>Class</th>\n",
       "      <th>scaled_amount</th>\n",
       "      <th>scaled_time</th>\n",
       "    </tr>\n",
       "  </thead>\n",
       "  <tbody>\n",
       "    <tr>\n",
       "      <th>0</th>\n",
       "      <td>2.194</td>\n",
       "      <td>-0.610</td>\n",
       "      <td>-1.613</td>\n",
       "      <td>-0.910</td>\n",
       "      <td>-0.101</td>\n",
       "      <td>-0.403</td>\n",
       "      <td>-0.620</td>\n",
       "      <td>-0.077</td>\n",
       "      <td>-0.166</td>\n",
       "      <td>0.207</td>\n",
       "      <td>...</td>\n",
       "      <td>-1.177</td>\n",
       "      <td>0.406</td>\n",
       "      <td>-0.145</td>\n",
       "      <td>-0.450</td>\n",
       "      <td>-0.663</td>\n",
       "      <td>-1.039e-04</td>\n",
       "      <td>-0.016</td>\n",
       "      <td>0</td>\n",
       "      <td>-0.253</td>\n",
       "      <td>0.538</td>\n",
       "    </tr>\n",
       "    <tr>\n",
       "      <th>1</th>\n",
       "      <td>-1.040</td>\n",
       "      <td>3.107</td>\n",
       "      <td>-5.409</td>\n",
       "      <td>3.110</td>\n",
       "      <td>-0.887</td>\n",
       "      <td>-2.498</td>\n",
       "      <td>-2.073</td>\n",
       "      <td>0.640</td>\n",
       "      <td>-3.013</td>\n",
       "      <td>-5.955</td>\n",
       "      <td>...</td>\n",
       "      <td>0.215</td>\n",
       "      <td>-0.184</td>\n",
       "      <td>-0.284</td>\n",
       "      <td>0.493</td>\n",
       "      <td>0.732</td>\n",
       "      <td>6.751e-01</td>\n",
       "      <td>0.337</td>\n",
       "      <td>1</td>\n",
       "      <td>0.026</td>\n",
       "      <td>1.279</td>\n",
       "    </tr>\n",
       "    <tr>\n",
       "      <th>2</th>\n",
       "      <td>1.020</td>\n",
       "      <td>-0.038</td>\n",
       "      <td>0.362</td>\n",
       "      <td>1.325</td>\n",
       "      <td>-0.179</td>\n",
       "      <td>0.148</td>\n",
       "      <td>0.010</td>\n",
       "      <td>0.139</td>\n",
       "      <td>0.084</td>\n",
       "      <td>0.031</td>\n",
       "      <td>...</td>\n",
       "      <td>-0.003</td>\n",
       "      <td>-0.117</td>\n",
       "      <td>0.018</td>\n",
       "      <td>0.601</td>\n",
       "      <td>-0.334</td>\n",
       "      <td>2.370e-02</td>\n",
       "      <td>0.014</td>\n",
       "      <td>0</td>\n",
       "      <td>-0.110</td>\n",
       "      <td>-1.311</td>\n",
       "    </tr>\n",
       "    <tr>\n",
       "      <th>3</th>\n",
       "      <td>0.168</td>\n",
       "      <td>-0.201</td>\n",
       "      <td>0.405</td>\n",
       "      <td>-2.109</td>\n",
       "      <td>0.241</td>\n",
       "      <td>0.031</td>\n",
       "      <td>-0.242</td>\n",
       "      <td>0.220</td>\n",
       "      <td>3.120</td>\n",
       "      <td>-1.692</td>\n",
       "      <td>...</td>\n",
       "      <td>0.970</td>\n",
       "      <td>0.358</td>\n",
       "      <td>0.079</td>\n",
       "      <td>-2.005</td>\n",
       "      <td>-1.575</td>\n",
       "      <td>4.239e-01</td>\n",
       "      <td>0.375</td>\n",
       "      <td>0</td>\n",
       "      <td>-0.237</td>\n",
       "      <td>0.230</td>\n",
       "    </tr>\n",
       "    <tr>\n",
       "      <th>4</th>\n",
       "      <td>-0.890</td>\n",
       "      <td>1.497</td>\n",
       "      <td>-0.574</td>\n",
       "      <td>1.022</td>\n",
       "      <td>0.378</td>\n",
       "      <td>-0.750</td>\n",
       "      <td>1.407</td>\n",
       "      <td>0.038</td>\n",
       "      <td>-0.779</td>\n",
       "      <td>0.004</td>\n",
       "      <td>...</td>\n",
       "      <td>0.689</td>\n",
       "      <td>-0.229</td>\n",
       "      <td>0.032</td>\n",
       "      <td>0.132</td>\n",
       "      <td>-0.371</td>\n",
       "      <td>4.870e-01</td>\n",
       "      <td>0.186</td>\n",
       "      <td>0</td>\n",
       "      <td>0.034</td>\n",
       "      <td>-0.172</td>\n",
       "    </tr>\n",
       "    <tr>\n",
       "      <th>5</th>\n",
       "      <td>-0.451</td>\n",
       "      <td>2.225</td>\n",
       "      <td>-4.953</td>\n",
       "      <td>4.342</td>\n",
       "      <td>-3.656</td>\n",
       "      <td>-0.020</td>\n",
       "      <td>-5.408</td>\n",
       "      <td>-0.748</td>\n",
       "      <td>-1.362</td>\n",
       "      <td>-4.171</td>\n",
       "      <td>...</td>\n",
       "      <td>0.496</td>\n",
       "      <td>1.154</td>\n",
       "      <td>-0.016</td>\n",
       "      <td>-2.080</td>\n",
       "      <td>-0.554</td>\n",
       "      <td>4.552e-01</td>\n",
       "      <td>0.001</td>\n",
       "      <td>1</td>\n",
       "      <td>0.102</td>\n",
       "      <td>-0.762</td>\n",
       "    </tr>\n",
       "    <tr>\n",
       "      <th>6</th>\n",
       "      <td>-0.138</td>\n",
       "      <td>0.422</td>\n",
       "      <td>0.723</td>\n",
       "      <td>-2.151</td>\n",
       "      <td>0.682</td>\n",
       "      <td>-0.908</td>\n",
       "      <td>1.135</td>\n",
       "      <td>-0.604</td>\n",
       "      <td>-1.672</td>\n",
       "      <td>0.121</td>\n",
       "      <td>...</td>\n",
       "      <td>0.734</td>\n",
       "      <td>-0.429</td>\n",
       "      <td>-0.387</td>\n",
       "      <td>0.287</td>\n",
       "      <td>-0.319</td>\n",
       "      <td>-8.426e-02</td>\n",
       "      <td>-0.108</td>\n",
       "      <td>0</td>\n",
       "      <td>-0.293</td>\n",
       "      <td>-0.912</td>\n",
       "    </tr>\n",
       "    <tr>\n",
       "      <th>7</th>\n",
       "      <td>-5.314</td>\n",
       "      <td>2.664</td>\n",
       "      <td>-4.251</td>\n",
       "      <td>0.395</td>\n",
       "      <td>-0.391</td>\n",
       "      <td>0.684</td>\n",
       "      <td>-5.134</td>\n",
       "      <td>-7.908</td>\n",
       "      <td>0.215</td>\n",
       "      <td>-2.298</td>\n",
       "      <td>...</td>\n",
       "      <td>-2.716</td>\n",
       "      <td>0.484</td>\n",
       "      <td>0.079</td>\n",
       "      <td>0.311</td>\n",
       "      <td>0.556</td>\n",
       "      <td>1.767e-01</td>\n",
       "      <td>0.363</td>\n",
       "      <td>1</td>\n",
       "      <td>-0.349</td>\n",
       "      <td>0.711</td>\n",
       "    </tr>\n",
       "    <tr>\n",
       "      <th>8</th>\n",
       "      <td>-0.918</td>\n",
       "      <td>0.680</td>\n",
       "      <td>-0.668</td>\n",
       "      <td>-2.329</td>\n",
       "      <td>1.017</td>\n",
       "      <td>-2.031</td>\n",
       "      <td>1.373</td>\n",
       "      <td>-2.337</td>\n",
       "      <td>0.508</td>\n",
       "      <td>-0.707</td>\n",
       "      <td>...</td>\n",
       "      <td>0.444</td>\n",
       "      <td>0.329</td>\n",
       "      <td>0.521</td>\n",
       "      <td>-0.259</td>\n",
       "      <td>0.511</td>\n",
       "      <td>3.461e-01</td>\n",
       "      <td>-0.013</td>\n",
       "      <td>0</td>\n",
       "      <td>-0.321</td>\n",
       "      <td>-0.163</td>\n",
       "    </tr>\n",
       "    <tr>\n",
       "      <th>9</th>\n",
       "      <td>1.214</td>\n",
       "      <td>0.370</td>\n",
       "      <td>0.296</td>\n",
       "      <td>0.635</td>\n",
       "      <td>-0.106</td>\n",
       "      <td>-0.582</td>\n",
       "      <td>0.069</td>\n",
       "      <td>-0.115</td>\n",
       "      <td>-0.105</td>\n",
       "      <td>-0.353</td>\n",
       "      <td>...</td>\n",
       "      <td>-0.643</td>\n",
       "      <td>0.148</td>\n",
       "      <td>0.058</td>\n",
       "      <td>0.173</td>\n",
       "      <td>0.121</td>\n",
       "      <td>-8.210e-04</td>\n",
       "      <td>0.029</td>\n",
       "      <td>0</td>\n",
       "      <td>-0.346</td>\n",
       "      <td>-1.208</td>\n",
       "    </tr>\n",
       "  </tbody>\n",
       "</table>\n",
       "<p>10 rows × 31 columns</p>\n",
       "</div>"
      ],
      "text/plain": [
       "      V1     V2     V3     V4     V5     V6     V7     V8     V9    V10  ...  \\\n",
       "0  2.194 -0.610 -1.613 -0.910 -0.101 -0.403 -0.620 -0.077 -0.166  0.207  ...   \n",
       "1 -1.040  3.107 -5.409  3.110 -0.887 -2.498 -2.073  0.640 -3.013 -5.955  ...   \n",
       "2  1.020 -0.038  0.362  1.325 -0.179  0.148  0.010  0.139  0.084  0.031  ...   \n",
       "3  0.168 -0.201  0.405 -2.109  0.241  0.031 -0.242  0.220  3.120 -1.692  ...   \n",
       "4 -0.890  1.497 -0.574  1.022  0.378 -0.750  1.407  0.038 -0.779  0.004  ...   \n",
       "5 -0.451  2.225 -4.953  4.342 -3.656 -0.020 -5.408 -0.748 -1.362 -4.171  ...   \n",
       "6 -0.138  0.422  0.723 -2.151  0.682 -0.908  1.135 -0.604 -1.672  0.121  ...   \n",
       "7 -5.314  2.664 -4.251  0.395 -0.391  0.684 -5.134 -7.908  0.215 -2.298  ...   \n",
       "8 -0.918  0.680 -0.668 -2.329  1.017 -2.031  1.373 -2.337  0.508 -0.707  ...   \n",
       "9  1.214  0.370  0.296  0.635 -0.106 -0.582  0.069 -0.115 -0.105 -0.353  ...   \n",
       "\n",
       "     V22    V23    V24    V25    V26        V27    V28  Class  scaled_amount  \\\n",
       "0 -1.177  0.406 -0.145 -0.450 -0.663 -1.039e-04 -0.016      0         -0.253   \n",
       "1  0.215 -0.184 -0.284  0.493  0.732  6.751e-01  0.337      1          0.026   \n",
       "2 -0.003 -0.117  0.018  0.601 -0.334  2.370e-02  0.014      0         -0.110   \n",
       "3  0.970  0.358  0.079 -2.005 -1.575  4.239e-01  0.375      0         -0.237   \n",
       "4  0.689 -0.229  0.032  0.132 -0.371  4.870e-01  0.186      0          0.034   \n",
       "5  0.496  1.154 -0.016 -2.080 -0.554  4.552e-01  0.001      1          0.102   \n",
       "6  0.734 -0.429 -0.387  0.287 -0.319 -8.426e-02 -0.108      0         -0.293   \n",
       "7 -2.716  0.484  0.079  0.311  0.556  1.767e-01  0.363      1         -0.349   \n",
       "8  0.444  0.329  0.521 -0.259  0.511  3.461e-01 -0.013      0         -0.321   \n",
       "9 -0.643  0.148  0.058  0.173  0.121 -8.210e-04  0.029      0         -0.346   \n",
       "\n",
       "   scaled_time  \n",
       "0        0.538  \n",
       "1        1.279  \n",
       "2       -1.311  \n",
       "3        0.230  \n",
       "4       -0.172  \n",
       "5       -0.762  \n",
       "6       -0.912  \n",
       "7        0.711  \n",
       "8       -0.163  \n",
       "9       -1.208  \n",
       "\n",
       "[10 rows x 31 columns]"
      ]
     },
     "execution_count": 31,
     "metadata": {},
     "output_type": "execute_result"
    }
   ],
   "source": [
    "#shuffling our data set\n",
    "subsample = subsample.sample(frac=1).reset_index(drop=True)\n",
    "subsample.head(10)"
   ]
  },
  {
   "cell_type": "markdown",
   "metadata": {},
   "source": [
    "### Visualizing New Dataset Called \"subsample''"
   ]
  },
  {
   "cell_type": "code",
   "execution_count": 32,
   "metadata": {},
   "outputs": [
    {
     "data": {
      "text/plain": [
       "Text(0.5, 0, 'Class (0:Non-Fraudulent, 1:Fraudulent)')"
      ]
     },
     "execution_count": 32,
     "metadata": {},
     "output_type": "execute_result"
    },
    {
     "data": {
      "image/png": "[encoded data removed]",
      "text/plain": [
       "<Figure size 576x432 with 1 Axes>"
      ]
     },
     "metadata": {
      "needs_background": "light"
     },
     "output_type": "display_data"
    }
   ],
   "source": [
    "new_counts = subsample.Class.value_counts()\n",
    "plt.figure(figsize=(8,6))\n",
    "sns.barplot(x=new_counts.index, y=new_counts)\n",
    "plt.title('Count of Fraudulent vs. Non-Fraudulent Transactions In Subsample')\n",
    "plt.ylabel('Count')\n",
    "plt.xlabel('Class (0:Non-Fraudulent, 1:Fraudulent)')"
   ]
  },
  {
   "cell_type": "markdown",
   "metadata": {},
   "source": [
    "## II.III Removing Outliers"
   ]
  },
  {
   "cell_type": "markdown",
   "metadata": {},
   "source": [
    "### Looking for Correlation between the Class Column and Other Columns"
   ]
  },
  {
   "cell_type": "code",
   "execution_count": 33,
   "metadata": {},
   "outputs": [
    {
     "data": {
      "text/html": [
       "<div>\n",
       "<style scoped>\n",
       "    .dataframe tbody tr th:only-of-type {\n",
       "        vertical-align: middle;\n",
       "    }\n",
       "\n",
       "    .dataframe tbody tr th {\n",
       "        vertical-align: top;\n",
       "    }\n",
       "\n",
       "    .dataframe thead th {\n",
       "        text-align: right;\n",
       "    }\n",
       "</style>\n",
       "<table border=\"1\" class=\"dataframe\">\n",
       "  <thead>\n",
       "    <tr style=\"text-align: right;\">\n",
       "      <th></th>\n",
       "      <th>Class</th>\n",
       "    </tr>\n",
       "  </thead>\n",
       "  <tbody>\n",
       "    <tr>\n",
       "      <th>V1</th>\n",
       "      <td>-0.426</td>\n",
       "    </tr>\n",
       "    <tr>\n",
       "      <th>V2</th>\n",
       "      <td>0.489</td>\n",
       "    </tr>\n",
       "    <tr>\n",
       "      <th>V3</th>\n",
       "      <td>-0.576</td>\n",
       "    </tr>\n",
       "    <tr>\n",
       "      <th>V4</th>\n",
       "      <td>0.715</td>\n",
       "    </tr>\n",
       "    <tr>\n",
       "      <th>V5</th>\n",
       "      <td>-0.382</td>\n",
       "    </tr>\n",
       "    <tr>\n",
       "      <th>V6</th>\n",
       "      <td>-0.377</td>\n",
       "    </tr>\n",
       "    <tr>\n",
       "      <th>V7</th>\n",
       "      <td>-0.474</td>\n",
       "    </tr>\n",
       "    <tr>\n",
       "      <th>V8</th>\n",
       "      <td>0.052</td>\n",
       "    </tr>\n",
       "    <tr>\n",
       "      <th>V9</th>\n",
       "      <td>-0.559</td>\n",
       "    </tr>\n",
       "    <tr>\n",
       "      <th>V10</th>\n",
       "      <td>-0.624</td>\n",
       "    </tr>\n",
       "    <tr>\n",
       "      <th>V11</th>\n",
       "      <td>0.685</td>\n",
       "    </tr>\n",
       "    <tr>\n",
       "      <th>V12</th>\n",
       "      <td>-0.674</td>\n",
       "    </tr>\n",
       "    <tr>\n",
       "      <th>V13</th>\n",
       "      <td>-0.049</td>\n",
       "    </tr>\n",
       "    <tr>\n",
       "      <th>V14</th>\n",
       "      <td>-0.749</td>\n",
       "    </tr>\n",
       "    <tr>\n",
       "      <th>V15</th>\n",
       "      <td>-0.019</td>\n",
       "    </tr>\n",
       "    <tr>\n",
       "      <th>V16</th>\n",
       "      <td>-0.589</td>\n",
       "    </tr>\n",
       "    <tr>\n",
       "      <th>V17</th>\n",
       "      <td>-0.555</td>\n",
       "    </tr>\n",
       "    <tr>\n",
       "      <th>V18</th>\n",
       "      <td>-0.452</td>\n",
       "    </tr>\n",
       "    <tr>\n",
       "      <th>V19</th>\n",
       "      <td>0.241</td>\n",
       "    </tr>\n",
       "    <tr>\n",
       "      <th>V20</th>\n",
       "      <td>0.155</td>\n",
       "    </tr>\n",
       "    <tr>\n",
       "      <th>V21</th>\n",
       "      <td>0.132</td>\n",
       "    </tr>\n",
       "    <tr>\n",
       "      <th>V22</th>\n",
       "      <td>0.030</td>\n",
       "    </tr>\n",
       "    <tr>\n",
       "      <th>V23</th>\n",
       "      <td>-0.013</td>\n",
       "    </tr>\n",
       "    <tr>\n",
       "      <th>V24</th>\n",
       "      <td>-0.023</td>\n",
       "    </tr>\n",
       "    <tr>\n",
       "      <th>V25</th>\n",
       "      <td>0.062</td>\n",
       "    </tr>\n",
       "    <tr>\n",
       "      <th>V26</th>\n",
       "      <td>0.059</td>\n",
       "    </tr>\n",
       "    <tr>\n",
       "      <th>V27</th>\n",
       "      <td>0.065</td>\n",
       "    </tr>\n",
       "    <tr>\n",
       "      <th>V28</th>\n",
       "      <td>0.106</td>\n",
       "    </tr>\n",
       "    <tr>\n",
       "      <th>Class</th>\n",
       "      <td>1.000</td>\n",
       "    </tr>\n",
       "    <tr>\n",
       "      <th>scaled_amount</th>\n",
       "      <td>0.077</td>\n",
       "    </tr>\n",
       "    <tr>\n",
       "      <th>scaled_time</th>\n",
       "      <td>-0.134</td>\n",
       "    </tr>\n",
       "  </tbody>\n",
       "</table>\n",
       "</div>"
      ],
      "text/plain": [
       "               Class\n",
       "V1            -0.426\n",
       "V2             0.489\n",
       "V3            -0.576\n",
       "V4             0.715\n",
       "V5            -0.382\n",
       "V6            -0.377\n",
       "V7            -0.474\n",
       "V8             0.052\n",
       "V9            -0.559\n",
       "V10           -0.624\n",
       "V11            0.685\n",
       "V12           -0.674\n",
       "V13           -0.049\n",
       "V14           -0.749\n",
       "V15           -0.019\n",
       "V16           -0.589\n",
       "V17           -0.555\n",
       "V18           -0.452\n",
       "V19            0.241\n",
       "V20            0.155\n",
       "V21            0.132\n",
       "V22            0.030\n",
       "V23           -0.013\n",
       "V24           -0.023\n",
       "V25            0.062\n",
       "V26            0.059\n",
       "V27            0.065\n",
       "V28            0.106\n",
       "Class          1.000\n",
       "scaled_amount  0.077\n",
       "scaled_time   -0.134"
      ]
     },
     "execution_count": 33,
     "metadata": {},
     "output_type": "execute_result"
    }
   ],
   "source": [
    "#taking a look at correlations once more\n",
    "corr = subsample.corr()\n",
    "corr = corr[['Class']]\n",
    "corr"
   ]
  },
  {
   "cell_type": "code",
   "execution_count": 34,
   "metadata": {},
   "outputs": [
    {
     "data": {
      "text/html": [
       "<div>\n",
       "<style scoped>\n",
       "    .dataframe tbody tr th:only-of-type {\n",
       "        vertical-align: middle;\n",
       "    }\n",
       "\n",
       "    .dataframe tbody tr th {\n",
       "        vertical-align: top;\n",
       "    }\n",
       "\n",
       "    .dataframe thead th {\n",
       "        text-align: right;\n",
       "    }\n",
       "</style>\n",
       "<table border=\"1\" class=\"dataframe\">\n",
       "  <thead>\n",
       "    <tr style=\"text-align: right;\">\n",
       "      <th></th>\n",
       "      <th>Class</th>\n",
       "    </tr>\n",
       "  </thead>\n",
       "  <tbody>\n",
       "    <tr>\n",
       "      <th>V3</th>\n",
       "      <td>-0.576</td>\n",
       "    </tr>\n",
       "    <tr>\n",
       "      <th>V9</th>\n",
       "      <td>-0.559</td>\n",
       "    </tr>\n",
       "    <tr>\n",
       "      <th>V10</th>\n",
       "      <td>-0.624</td>\n",
       "    </tr>\n",
       "    <tr>\n",
       "      <th>V12</th>\n",
       "      <td>-0.674</td>\n",
       "    </tr>\n",
       "    <tr>\n",
       "      <th>V14</th>\n",
       "      <td>-0.749</td>\n",
       "    </tr>\n",
       "    <tr>\n",
       "      <th>V16</th>\n",
       "      <td>-0.589</td>\n",
       "    </tr>\n",
       "    <tr>\n",
       "      <th>V17</th>\n",
       "      <td>-0.555</td>\n",
       "    </tr>\n",
       "  </tbody>\n",
       "</table>\n",
       "</div>"
      ],
      "text/plain": [
       "     Class\n",
       "V3  -0.576\n",
       "V9  -0.559\n",
       "V10 -0.624\n",
       "V12 -0.674\n",
       "V14 -0.749\n",
       "V16 -0.589\n",
       "V17 -0.555"
      ]
     },
     "execution_count": 34,
     "metadata": {},
     "output_type": "execute_result"
    }
   ],
   "source": [
    "#negative correlations smaller than -0.5\n",
    "corr[corr.Class < -0.5]"
   ]
  },
  {
   "cell_type": "code",
   "execution_count": 35,
   "metadata": {},
   "outputs": [
    {
     "data": {
      "text/html": [
       "<div>\n",
       "<style scoped>\n",
       "    .dataframe tbody tr th:only-of-type {\n",
       "        vertical-align: middle;\n",
       "    }\n",
       "\n",
       "    .dataframe tbody tr th {\n",
       "        vertical-align: top;\n",
       "    }\n",
       "\n",
       "    .dataframe thead th {\n",
       "        text-align: right;\n",
       "    }\n",
       "</style>\n",
       "<table border=\"1\" class=\"dataframe\">\n",
       "  <thead>\n",
       "    <tr style=\"text-align: right;\">\n",
       "      <th></th>\n",
       "      <th>Class</th>\n",
       "    </tr>\n",
       "  </thead>\n",
       "  <tbody>\n",
       "    <tr>\n",
       "      <th>V4</th>\n",
       "      <td>0.715</td>\n",
       "    </tr>\n",
       "    <tr>\n",
       "      <th>V11</th>\n",
       "      <td>0.685</td>\n",
       "    </tr>\n",
       "    <tr>\n",
       "      <th>Class</th>\n",
       "      <td>1.000</td>\n",
       "    </tr>\n",
       "  </tbody>\n",
       "</table>\n",
       "</div>"
      ],
      "text/plain": [
       "       Class\n",
       "V4     0.715\n",
       "V11    0.685\n",
       "Class  1.000"
      ]
     },
     "execution_count": 35,
     "metadata": {},
     "output_type": "execute_result"
    }
   ],
   "source": [
    "#positive correlations greater than 0.5\n",
    "corr[corr.Class > 0.5]"
   ]
  },
  {
   "cell_type": "markdown",
   "metadata": {},
   "source": [
    "### Visualizing Correlated Columns to See the Outliers"
   ]
  },
  {
   "cell_type": "code",
   "execution_count": 36,
   "metadata": {},
   "outputs": [
    {
     "data": {
      "image/png": "[encoded data removed]",
      "text/plain": [
       "<Figure size 1872x1152 with 7 Axes>"
      ]
     },
     "metadata": {
      "needs_background": "light"
     },
     "output_type": "display_data"
    }
   ],
   "source": [
    "#visualizing the features w high negative correlation\n",
    "f, axes = plt.subplots(nrows=2, ncols=4, figsize=(26,16))\n",
    "\n",
    "f.suptitle('Features With High Negative Correlation', size=35)\n",
    "sns.boxplot(x=\"Class\", y=\"V3\", data=subsample, ax=axes[0,0])\n",
    "sns.boxplot(x=\"Class\", y=\"V9\", data=subsample, ax=axes[0,1])\n",
    "sns.boxplot(x=\"Class\", y=\"V10\", data=subsample, ax=axes[0,2])\n",
    "sns.boxplot(x=\"Class\", y=\"V12\", data=subsample, ax=axes[0,3])\n",
    "sns.boxplot(x=\"Class\", y=\"V14\", data=subsample, ax=axes[1,0])\n",
    "sns.boxplot(x=\"Class\", y=\"V16\", data=subsample, ax=axes[1,1])\n",
    "sns.boxplot(x=\"Class\", y=\"V17\", data=subsample, ax=axes[1,2])\n",
    "f.delaxes(axes[1,3])"
   ]
  },
  {
   "cell_type": "code",
   "execution_count": 37,
   "metadata": {},
   "outputs": [
    {
     "data": {
      "text/plain": [
       "<matplotlib.axes._subplots.AxesSubplot at 0x7f93e53ed390>"
      ]
     },
     "execution_count": 37,
     "metadata": {},
     "output_type": "execute_result"
    },
    {
     "data": {
      "image/png": "[encoded data removed]",
      "text/plain": [
       "<Figure size 1296x648 with 2 Axes>"
      ]
     },
     "metadata": {
      "needs_background": "light"
     },
     "output_type": "display_data"
    }
   ],
   "source": [
    "\n",
    "#visualizing the features w high positive correlation\n",
    "f, axes = plt.subplots(nrows=1, ncols=2, figsize=(18,9))\n",
    "\n",
    "f.suptitle('Features With High Positive Correlation', size=20)\n",
    "sns.boxplot(x=\"Class\", y=\"V4\", data=subsample, ax=axes[0])\n",
    "sns.boxplot(x=\"Class\", y=\"V11\", data=subsample, ax=axes[1])"
   ]
  },
  {
   "cell_type": "markdown",
   "metadata": {},
   "source": [
    "### Removing Extreme Outliers by Using IQR Method"
   ]
  },
  {
   "cell_type": "code",
   "execution_count": 38,
   "metadata": {},
   "outputs": [],
   "source": [
    "#Only removing extreme outliers\n",
    "Q1 = subsample.quantile(0.25)\n",
    "Q3 = subsample.quantile(0.75)\n",
    "IQR = Q3 - Q1\n",
    "\n",
    "df2 = subsample[~((subsample < (Q1 - 2.5 * IQR)) |(subsample > (Q3 + 2.5 * IQR))).any(axis=1)]"
   ]
  },
  {
   "cell_type": "code",
   "execution_count": 40,
   "metadata": {},
   "outputs": [
    {
     "name": "stdout",
     "output_type": "stream",
     "text": [
      "We reduced our data size from 880 transactions by 248 transactions to 632 transactions.\n"
     ]
    }
   ],
   "source": [
    "len_after = len(df2)\n",
    "len_before = len(subsample)\n",
    "len_difference = len(subsample) - len(df2)\n",
    "print('We reduced our data size from {} transactions by {} transactions to {} transactions.'.format(len_before, len_difference, len_after))"
   ]
  },
  {
   "cell_type": "markdown",
   "metadata": {},
   "source": [
    "# III. MACHINE LEARNING ALGORITHMS "
   ]
  },
  {
   "cell_type": "markdown",
   "metadata": {},
   "source": [
    "## III.I CLUSTERING PROCESSING"
   ]
  },
  {
   "cell_type": "markdown",
   "metadata": {},
   "source": [
    "### t-SNE Processing"
   ]
  },
  {
   "cell_type": "code",
   "execution_count": 41,
   "metadata": {},
   "outputs": [],
   "source": [
    "from sklearn.manifold import TSNE\n",
    "\n",
    "X = df2.drop('Class', axis=1)\n",
    "y = df2['Class']"
   ]
  },
  {
   "cell_type": "code",
   "execution_count": 42,
   "metadata": {},
   "outputs": [],
   "source": [
    "#t-SNE\n",
    "X_reduced_tsne = TSNE(n_components=2, random_state=42).fit_transform(X.values)"
   ]
  },
  {
   "cell_type": "code",
   "execution_count": 43,
   "metadata": {},
   "outputs": [],
   "source": [
    "# Yeni bir değişken yaptık. BU değişken oop sayesinde tsne libin özelliklerini taşıyor. X.VALUES ile x içi \n",
    "# değerleri alıyoruz.\n",
    "# Değişkenler içeride 2 grup olacak."
   ]
  },
  {
   "cell_type": "code",
   "execution_count": 44,
   "metadata": {},
   "outputs": [
    {
     "data": {
      "text/plain": [
       "array([[  6.316921  ,   0.92456394],\n",
       "       [ 12.463666  ,  49.255695  ],\n",
       "       [ -4.071106  ,  -8.259756  ],\n",
       "       ...,\n",
       "       [ -3.2623448 , -29.594797  ],\n",
       "       [ 13.418752  ,  52.128605  ],\n",
       "       [ 15.5927105 ,  63.600483  ]], dtype=float32)"
      ]
     },
     "execution_count": 44,
     "metadata": {},
     "output_type": "execute_result"
    }
   ],
   "source": [
    "X_reduced_tsne"
   ]
  },
  {
   "cell_type": "markdown",
   "metadata": {},
   "source": [
    "### t-SNE Visualization"
   ]
  },
  {
   "cell_type": "code",
   "execution_count": 45,
   "metadata": {},
   "outputs": [
    {
     "data": {
      "text/plain": [
       "<matplotlib.legend.Legend at 0x7f93e56c9e48>"
      ]
     },
     "execution_count": 45,
     "metadata": {},
     "output_type": "execute_result"
    },
    {
     "data": {
      "image/png": "[encoded data removed]",
      "text/plain": [
       "<Figure size 1728x1152 with 1 Axes>"
      ]
     },
     "metadata": {
      "needs_background": "light"
     },
     "output_type": "display_data"
    }
   ],
   "source": [
    "import matplotlib.patches as mpatches\n",
    "\n",
    "f, ax = plt.subplots(figsize=(24,16))\n",
    "\n",
    "\n",
    "blue_patch = mpatches.Patch(color='#0A0AFF', label='No Fraud')\n",
    "red_patch = mpatches.Patch(color='#AF0000', label='Fraud')\n",
    "\n",
    "ax.scatter(X_reduced_tsne[:,0], X_reduced_tsne[:,1], c=(y == 0), cmap='coolwarm', label='No Fraud', linewidths=2)\n",
    "ax.scatter(X_reduced_tsne[:,0], X_reduced_tsne[:,1], c=(y == 1), cmap='coolwarm', label='Fraud', linewidths=2)\n",
    "ax.set_title('t-SNE', fontsize=14)\n",
    "\n",
    "ax.grid(True)\n",
    "\n",
    "ax.legend(handles=[blue_patch, red_patch])"
   ]
  },
  {
   "cell_type": "code",
   "execution_count": 46,
   "metadata": {},
   "outputs": [],
   "source": [
    "def warn(*args, **kwargs):\n",
    "    pass\n",
    "import warnings\n",
    "warnings.warn = warn\n",
    "\n",
    "# Error turu "
   ]
  },
  {
   "cell_type": "markdown",
   "metadata": {},
   "source": [
    "## III.II CLASSIFICATION PREPROCESSING"
   ]
  },
  {
   "cell_type": "markdown",
   "metadata": {},
   "source": [
    "### Import Libraries"
   ]
  },
  {
   "cell_type": "code",
   "execution_count": 47,
   "metadata": {},
   "outputs": [],
   "source": [
    "from sklearn.linear_model import LogisticRegression\n",
    "from sklearn.tree import DecisionTreeClassifier\n",
    "from sklearn.ensemble import RandomForestClassifier\n",
    "from sklearn.model_selection import KFold\n",
    "from sklearn.model_selection import cross_val_score\n",
    "from sklearn.metrics import roc_auc_score\n",
    "from sklearn.metrics import classification_report\n",
    "from sklearn.metrics import confusion_matrix\n"
   ]
  },
  {
   "cell_type": "markdown",
   "metadata": {},
   "source": [
    "### Train-Test Splitting"
   ]
  },
  {
   "cell_type": "code",
   "execution_count": 48,
   "metadata": {},
   "outputs": [],
   "source": [
    "# train test split\n",
    "from sklearn.model_selection import train_test_split\n",
    "\n",
    "X_train, X_test, y_train, y_test = train_test_split(X, y, test_size=0.2, random_state=42)"
   ]
  },
  {
   "cell_type": "code",
   "execution_count": 49,
   "metadata": {},
   "outputs": [],
   "source": [
    "X_train = X_train.values  \n",
    "\n",
    "# eskiden dataframedi artık matris oldu. values sayesinde dfden matris ve sayılar çekildi. \n",
    "\n",
    "X_validation = X_test.values\n",
    "y_train = y_train.values\n",
    "y_validation = y_test.values"
   ]
  },
  {
   "cell_type": "code",
   "execution_count": 50,
   "metadata": {},
   "outputs": [
    {
     "name": "stdout",
     "output_type": "stream",
     "text": [
      "X_shapes:\n",
      " X_train: X_validation:\n",
      " (505, 30) (127, 30) \n",
      "\n",
      "Y_shapes:\n",
      " Y_train: Y_validation:\n",
      " (505,) (127,)\n"
     ]
    }
   ],
   "source": [
    "print('X_shapes:\\n', 'X_train:', 'X_validation:\\n', X_train.shape, X_validation.shape, '\\n')\n",
    "print('Y_shapes:\\n', 'Y_train:', 'Y_validation:\\n', y_train.shape, y_validation.shape)"
   ]
  },
  {
   "cell_type": "markdown",
   "metadata": {},
   "source": [
    "### Model Visualization Algorithm"
   ]
  },
  {
   "cell_type": "code",
   "execution_count": 51,
   "metadata": {},
   "outputs": [],
   "source": [
    "import itertools\n",
    "from sklearn import svm, datasets\n",
    "\n",
    "def plot_confusion_matrix(title_plt,cm, classes,\n",
    "                          normalize=False,\n",
    "                          title='Confusion matrix',\n",
    "                          cmap=plt.cm.Blues):\n",
    "    \"\"\"\n",
    "    This function prints and plots the confusion matrix.\n",
    "    Normalization can be applied by setting `normalize=True`.\n",
    "    \"\"\"\n",
    "    if normalize:\n",
    "        cm = cm.astype('float') / cm.sum(axis=1)[:, np.newaxis]\n",
    "        print(\"Normalized confusion matrix\")\n",
    "    else:\n",
    "        print('Confusion matrix, without normalization')\n",
    "\n",
    "    print(cm)\n",
    "\n",
    "    plt.imshow(cm, interpolation='nearest', cmap=cmap)\n",
    "    plt.title(title)\n",
    "    plt.colorbar()\n",
    "    tick_marks = np.arange(len(classes))\n",
    "    plt.xticks(tick_marks, classes, rotation=45)\n",
    "    plt.yticks(tick_marks, classes)\n",
    "\n",
    "    fmt = '.2f' if normalize else 'd'\n",
    "    thresh = cm.max() / 2.\n",
    "    for i, j in itertools.product(range(cm.shape[0]), range(cm.shape[1])):\n",
    "        plt.text(j, i, format(cm[i, j], fmt),\n",
    "                 horizontalalignment=\"center\",\n",
    "                 color=\"white\" if cm[i, j] > thresh else \"black\")\n",
    "\n",
    "    plt.ylabel('True label')\n",
    "    plt.xlabel('Predicted label')\n",
    "    plt.grid(None)\n",
    "    plt.title(title_plt)\n",
    "    plt.tight_layout()"
   ]
  },
  {
   "cell_type": "markdown",
   "metadata": {},
   "source": [
    "### Pickle"
   ]
  },
  {
   "cell_type": "code",
   "execution_count": 52,
   "metadata": {},
   "outputs": [],
   "source": [
    "import pickle\n",
    "\n",
    "def model_kaydet(kernel,kernel_name,path='/home/cem/PycharmProjects/FraudDetection/models/'):\n",
    "    pickle.dump(kernel,open(path+kernel_name,'wb'))\n",
    "    \n",
    "    # kernel kaydedilecek algonun adı. \n",
    "    # path ve algonun adı ile birlikte pycharm models"
   ]
  },
  {
   "cell_type": "markdown",
   "metadata": {},
   "source": [
    "### F1 Algorithm"
   ]
  },
  {
   "cell_type": "code",
   "execution_count": 53,
   "metadata": {},
   "outputs": [],
   "source": [
    "def get_f1(cm):\n",
    "    recall = cm[0][0]/(cm[0][0]+cm[1][0])\n",
    "    precision=cm[0][0]/(cm[0][0]+cm[0][1])\n",
    "    return 2*precision*recall/(precision+recall),recall,precision"
   ]
  },
  {
   "cell_type": "markdown",
   "metadata": {},
   "source": [
    "# III.III CLASSIFICATION PROCESSING ALGORITHMS"
   ]
  },
  {
   "cell_type": "markdown",
   "metadata": {},
   "source": [
    "### Decision Trees"
   ]
  },
  {
   "cell_type": "code",
   "execution_count": 54,
   "metadata": {},
   "outputs": [],
   "source": [
    "decision_tree = DecisionTreeClassifier()"
   ]
  },
  {
   "cell_type": "code",
   "execution_count": 55,
   "metadata": {},
   "outputs": [
    {
     "data": {
      "text/plain": [
       "DecisionTreeClassifier(class_weight=None, criterion='gini', max_depth=None,\n",
       "                       max_features=None, max_leaf_nodes=None,\n",
       "                       min_impurity_decrease=0.0, min_impurity_split=None,\n",
       "                       min_samples_leaf=1, min_samples_split=2,\n",
       "                       min_weight_fraction_leaf=0.0, presort=False,\n",
       "                       random_state=None, splitter='best')"
      ]
     },
     "execution_count": 55,
     "metadata": {},
     "output_type": "execute_result"
    }
   ],
   "source": [
    "decision_tree.fit(X_train,y_train.ravel())"
   ]
  },
  {
   "cell_type": "code",
   "execution_count": 56,
   "metadata": {},
   "outputs": [],
   "source": [
    "y_pred = decision_tree.predict(X_validation)"
   ]
  },
  {
   "cell_type": "code",
   "execution_count": 57,
   "metadata": {},
   "outputs": [],
   "source": [
    "cnf_matrix_decision_tree = confusion_matrix(y_validation,y_pred)"
   ]
  },
  {
   "cell_type": "code",
   "execution_count": 58,
   "metadata": {},
   "outputs": [
    {
     "name": "stdout",
     "output_type": "stream",
     "text": [
      "Confusion matrix, without normalization\n",
      "[[66  7]\n",
      " [ 9 45]]\n"
     ]
    },
    {
     "data": {
      "image/png": "[encoded data removed]",
      "text/plain": [
       "<Figure size 432x288 with 2 Axes>"
      ]
     },
     "metadata": {
      "needs_background": "light"
     },
     "output_type": "display_data"
    }
   ],
   "source": [
    "plot_confusion_matrix(title_plt='Decision Tree Confusion Matrix', cm=cnf_matrix_decision_tree, classes=[0,1])\n",
    "plt.show()"
   ]
  },
  {
   "cell_type": "code",
   "execution_count": 59,
   "metadata": {},
   "outputs": [],
   "source": [
    "f1_score , recall,precision= get_f1(cm=cnf_matrix_decision_tree)"
   ]
  },
  {
   "cell_type": "code",
   "execution_count": 60,
   "metadata": {
    "scrolled": true
   },
   "outputs": [
    {
     "name": "stdout",
     "output_type": "stream",
     "text": [
      "f1_score =  0.8918918918918919 \n",
      "recall =  0.88 \n",
      "precision =  0.9041095890410958\n"
     ]
    }
   ],
   "source": [
    "print('f1_score = ' ,f1_score, '\\nrecall = ',recall,'\\nprecision = ',precision )"
   ]
  },
  {
   "cell_type": "code",
   "execution_count": 61,
   "metadata": {
    "scrolled": false
   },
   "outputs": [
    {
     "data": {
      "text/plain": [
       "0.8740157480314961"
      ]
     },
     "execution_count": 61,
     "metadata": {},
     "output_type": "execute_result"
    }
   ],
   "source": [
    "decision_tree.score(X_validation,y_validation)"
   ]
  },
  {
   "cell_type": "code",
   "execution_count": 62,
   "metadata": {},
   "outputs": [],
   "source": [
    "model_kaydet(kernel=decision_tree,kernel_name='decision_tree')"
   ]
  },
  {
   "cell_type": "code",
   "execution_count": 63,
   "metadata": {},
   "outputs": [
    {
     "data": {
      "text/plain": [
       "DecisionTreeClassifier(class_weight=None, criterion='gini', max_depth=None,\n",
       "                       max_features=None, max_leaf_nodes=None,\n",
       "                       min_impurity_decrease=0.0, min_impurity_split=None,\n",
       "                       min_samples_leaf=1, min_samples_split=2,\n",
       "                       min_weight_fraction_leaf=0.0, presort=False,\n",
       "                       random_state=None, splitter='best')"
      ]
     },
     "execution_count": 63,
     "metadata": {},
     "output_type": "execute_result"
    }
   ],
   "source": [
    "decision_tree"
   ]
  },
  {
   "cell_type": "markdown",
   "metadata": {},
   "source": [
    "### Logistic Regression"
   ]
  },
  {
   "cell_type": "code",
   "execution_count": 64,
   "metadata": {},
   "outputs": [
    {
     "data": {
      "text/plain": [
       "LogisticRegression(C=1.0, class_weight=None, dual=False, fit_intercept=True,\n",
       "                   intercept_scaling=1, l1_ratio=None, max_iter=100,\n",
       "                   multi_class='warn', n_jobs=None, penalty='l2',\n",
       "                   random_state=0, solver='warn', tol=0.0001, verbose=0,\n",
       "                   warm_start=False)"
      ]
     },
     "execution_count": 64,
     "metadata": {},
     "output_type": "execute_result"
    }
   ],
   "source": [
    "model_LR = LogisticRegression(random_state=0)\n",
    "model_LR.fit(X_train,y_train)"
   ]
  },
  {
   "cell_type": "code",
   "execution_count": 65,
   "metadata": {},
   "outputs": [
    {
     "data": {
      "text/plain": [
       "0.9212598425196851"
      ]
     },
     "execution_count": 65,
     "metadata": {},
     "output_type": "execute_result"
    }
   ],
   "source": [
    "model_LR.score(X_validation, y_validation)"
   ]
  },
  {
   "cell_type": "code",
   "execution_count": 66,
   "metadata": {},
   "outputs": [],
   "source": [
    "y_pred = model_LR.predict(X_validation)"
   ]
  },
  {
   "cell_type": "code",
   "execution_count": 67,
   "metadata": {},
   "outputs": [],
   "source": [
    "cnf_matrix_logistic_regression = confusion_matrix(y_validation,y_pred)"
   ]
  },
  {
   "cell_type": "code",
   "execution_count": 68,
   "metadata": {},
   "outputs": [],
   "source": [
    "f1_score , recall,precision= get_f1(cm=cnf_matrix_logistic_regression)"
   ]
  },
  {
   "cell_type": "code",
   "execution_count": 69,
   "metadata": {},
   "outputs": [
    {
     "name": "stdout",
     "output_type": "stream",
     "text": [
      "f1_score =  0.935064935064935 \n",
      "recall =  0.8888888888888888 \n",
      "precision =  0.9863013698630136\n"
     ]
    }
   ],
   "source": [
    "print('f1_score = ' ,f1_score, '\\nrecall = ',recall,'\\nprecision = ',precision )"
   ]
  },
  {
   "cell_type": "code",
   "execution_count": 70,
   "metadata": {},
   "outputs": [
    {
     "name": "stdout",
     "output_type": "stream",
     "text": [
      "Confusion matrix, without normalization\n",
      "[[72  1]\n",
      " [ 9 45]]\n"
     ]
    },
    {
     "data": {
      "image/png": "[encoded data removed]",
      "text/plain": [
       "<Figure size 432x288 with 2 Axes>"
      ]
     },
     "metadata": {
      "needs_background": "light"
     },
     "output_type": "display_data"
    }
   ],
   "source": [
    "plot_confusion_matrix(title_plt='Logistic Regression Confusion Matrix', cm=cnf_matrix_logistic_regression, classes=[0,1])\n",
    "plt.show()"
   ]
  },
  {
   "cell_type": "code",
   "execution_count": 71,
   "metadata": {},
   "outputs": [],
   "source": [
    "model_kaydet(kernel=model_LR,kernel_name='logistic_regression')"
   ]
  },
  {
   "cell_type": "markdown",
   "metadata": {},
   "source": [
    "### SVM - Linear"
   ]
  },
  {
   "cell_type": "code",
   "execution_count": 72,
   "metadata": {},
   "outputs": [],
   "source": [
    "from sklearn.svm import SVC"
   ]
  },
  {
   "cell_type": "code",
   "execution_count": 73,
   "metadata": {},
   "outputs": [],
   "source": [
    "svc = SVC(kernel='linear')\n",
    "svc.fit(X_train,y_train)\n",
    "y_pred = svc.predict(X_validation)\n",
    "cm_svc_linear = confusion_matrix(y_validation,y_pred)"
   ]
  },
  {
   "cell_type": "code",
   "execution_count": 74,
   "metadata": {},
   "outputs": [],
   "source": [
    "model_kaydet(kernel=svc,kernel_name='linear_svc')"
   ]
  },
  {
   "cell_type": "code",
   "execution_count": 75,
   "metadata": {},
   "outputs": [],
   "source": [
    "f1_score , recall,precision= get_f1(cm=cm_svc_linear)"
   ]
  },
  {
   "cell_type": "code",
   "execution_count": 76,
   "metadata": {},
   "outputs": [
    {
     "name": "stdout",
     "output_type": "stream",
     "text": [
      "f1_score =  0.935064935064935 \n",
      "recall =  0.8888888888888888 \n",
      "precision =  0.9863013698630136\n"
     ]
    }
   ],
   "source": [
    "print('f1_score = ' ,f1_score, '\\nrecall = ',recall,'\\nprecision = ',precision )"
   ]
  },
  {
   "cell_type": "code",
   "execution_count": 77,
   "metadata": {},
   "outputs": [
    {
     "name": "stdout",
     "output_type": "stream",
     "text": [
      "Confusion matrix, without normalization\n",
      "[[72  1]\n",
      " [ 9 45]]\n"
     ]
    },
    {
     "data": {
      "image/png": "[encoded data removed]",
      "text/plain": [
       "<Figure size 432x288 with 2 Axes>"
      ]
     },
     "metadata": {
      "needs_background": "light"
     },
     "output_type": "display_data"
    }
   ],
   "source": [
    "plot_confusion_matrix(title_plt='Svm Linear Confusion Matrix', cm=cm_svc_linear, classes=[0,1])\n",
    "plt.show()"
   ]
  },
  {
   "cell_type": "markdown",
   "metadata": {},
   "source": [
    "### SVC Kernel - Poly"
   ]
  },
  {
   "cell_type": "code",
   "execution_count": 78,
   "metadata": {},
   "outputs": [],
   "source": [
    "svc = SVC(kernel='poly')\n",
    "svc.fit(X_train,y_train)\n",
    "y_pred = svc.predict(X_validation)\n",
    "cm_svc_poly = confusion_matrix(y_validation,y_pred)\n"
   ]
  },
  {
   "cell_type": "code",
   "execution_count": 79,
   "metadata": {},
   "outputs": [],
   "source": [
    "model_kaydet(kernel=svc,kernel_name='poly_svc')"
   ]
  },
  {
   "cell_type": "code",
   "execution_count": 80,
   "metadata": {},
   "outputs": [
    {
     "name": "stdout",
     "output_type": "stream",
     "text": [
      "Confusion matrix, without normalization\n",
      "[[73  0]\n",
      " [ 9 45]]\n"
     ]
    },
    {
     "data": {
      "image/png": "[encoded data removed]",
      "text/plain": [
       "<Figure size 432x288 with 2 Axes>"
      ]
     },
     "metadata": {
      "needs_background": "light"
     },
     "output_type": "display_data"
    }
   ],
   "source": [
    "plot_confusion_matrix(title_plt='Svm Poly Confusion Matrix', cm=cm_svc_poly, classes=[0,1])\n",
    "plt.show()"
   ]
  },
  {
   "cell_type": "code",
   "execution_count": 81,
   "metadata": {},
   "outputs": [],
   "source": [
    "f1_score , recall,precision= get_f1(cm=cm_svc_poly)"
   ]
  },
  {
   "cell_type": "code",
   "execution_count": 82,
   "metadata": {},
   "outputs": [
    {
     "name": "stdout",
     "output_type": "stream",
     "text": [
      "f1_score =  0.9419354838709678 \n",
      "recall =  0.8902439024390244 \n",
      "precision =  1.0\n"
     ]
    }
   ],
   "source": [
    "print('f1_score = ' ,f1_score, '\\nrecall = ',recall,'\\nprecision = ',precision )"
   ]
  },
  {
   "cell_type": "markdown",
   "metadata": {},
   "source": [
    "### SVC Kernel  - Sigmoid"
   ]
  },
  {
   "cell_type": "code",
   "execution_count": 83,
   "metadata": {},
   "outputs": [],
   "source": [
    "svc = SVC(kernel='sigmoid')\n",
    "svc.fit(X_train,y_train)\n",
    "y_pred = svc.predict(X_validation)\n",
    "cm_svc_sigmoid = confusion_matrix(y_validation,y_pred)"
   ]
  },
  {
   "cell_type": "code",
   "execution_count": 84,
   "metadata": {},
   "outputs": [],
   "source": [
    "model_kaydet(kernel=svc,kernel_name='sigmoid_svc')"
   ]
  },
  {
   "cell_type": "code",
   "execution_count": 85,
   "metadata": {},
   "outputs": [],
   "source": [
    "f1_score , recall,precision= get_f1(cm=cm_svc_sigmoid)"
   ]
  },
  {
   "cell_type": "code",
   "execution_count": 86,
   "metadata": {},
   "outputs": [
    {
     "name": "stdout",
     "output_type": "stream",
     "text": [
      "f1_score =  0.8205128205128205 \n",
      "recall =  0.7710843373493976 \n",
      "precision =  0.8767123287671232\n"
     ]
    }
   ],
   "source": [
    "print('f1_score = ' ,f1_score, '\\nrecall = ',recall,'\\nprecision = ',precision )"
   ]
  },
  {
   "cell_type": "code",
   "execution_count": 87,
   "metadata": {},
   "outputs": [],
   "source": [
    "confusion_matrices_svm = [cm_svc_linear,cm_svc_poly,cm_svc_sigmoid]"
   ]
  },
  {
   "cell_type": "code",
   "execution_count": 88,
   "metadata": {},
   "outputs": [
    {
     "name": "stdout",
     "output_type": "stream",
     "text": [
      "Confusion matrix, without normalization\n",
      "[[64  9]\n",
      " [19 35]]\n"
     ]
    },
    {
     "data": {
      "image/png": "[encoded data removed]",
      "text/plain": [
       "<Figure size 432x288 with 2 Axes>"
      ]
     },
     "metadata": {
      "needs_background": "light"
     },
     "output_type": "display_data"
    }
   ],
   "source": [
    "plot_confusion_matrix(title_plt='Svm Sigmoid Confusion Matrix ', cm=cm_svc_sigmoid, classes=[0,1])\n",
    "plt.show()"
   ]
  },
  {
   "cell_type": "markdown",
   "metadata": {},
   "source": [
    "### Random Forest"
   ]
  },
  {
   "cell_type": "code",
   "execution_count": 89,
   "metadata": {},
   "outputs": [],
   "source": [
    "random_forest = RandomForestClassifier(n_estimators=100)"
   ]
  },
  {
   "cell_type": "code",
   "execution_count": 90,
   "metadata": {},
   "outputs": [
    {
     "data": {
      "text/plain": [
       "RandomForestClassifier(bootstrap=True, class_weight=None, criterion='gini',\n",
       "                       max_depth=None, max_features='auto', max_leaf_nodes=None,\n",
       "                       min_impurity_decrease=0.0, min_impurity_split=None,\n",
       "                       min_samples_leaf=1, min_samples_split=2,\n",
       "                       min_weight_fraction_leaf=0.0, n_estimators=100,\n",
       "                       n_jobs=None, oob_score=False, random_state=None,\n",
       "                       verbose=0, warm_start=False)"
      ]
     },
     "execution_count": 90,
     "metadata": {},
     "output_type": "execute_result"
    }
   ],
   "source": [
    "random_forest.fit(X_train,y_train.ravel())"
   ]
  },
  {
   "cell_type": "code",
   "execution_count": 91,
   "metadata": {},
   "outputs": [],
   "source": [
    "model_kaydet(kernel=random_forest,kernel_name='randomforest')"
   ]
  },
  {
   "cell_type": "code",
   "execution_count": 92,
   "metadata": {},
   "outputs": [],
   "source": [
    "y_pred = random_forest.predict(X_validation)"
   ]
  },
  {
   "cell_type": "code",
   "execution_count": 93,
   "metadata": {},
   "outputs": [],
   "source": [
    "confusion_matrices_random_forest = confusion_matrix(y_validation,y_pred)\n"
   ]
  },
  {
   "cell_type": "code",
   "execution_count": 94,
   "metadata": {},
   "outputs": [],
   "source": [
    "f1_score , recall,precision= get_f1(cm=confusion_matrices_random_forest)"
   ]
  },
  {
   "cell_type": "code",
   "execution_count": 95,
   "metadata": {},
   "outputs": [
    {
     "name": "stdout",
     "output_type": "stream",
     "text": [
      "f1_score =  0.9419354838709678 \n",
      "recall =  0.8902439024390244 \n",
      "precision =  1.0\n"
     ]
    }
   ],
   "source": [
    "print('f1_score = ' ,f1_score, '\\nrecall = ',recall,'\\nprecision = ',precision )"
   ]
  },
  {
   "cell_type": "code",
   "execution_count": 96,
   "metadata": {},
   "outputs": [
    {
     "name": "stdout",
     "output_type": "stream",
     "text": [
      "Confusion matrix, without normalization\n",
      "[[73  0]\n",
      " [ 9 45]]\n"
     ]
    },
    {
     "data": {
      "image/png": "[encoded data removed]",
      "text/plain": [
       "<Figure size 432x288 with 2 Axes>"
      ]
     },
     "metadata": {
      "needs_background": "light"
     },
     "output_type": "display_data"
    }
   ],
   "source": [
    "plot_confusion_matrix(title_plt='Random Forest Confusion Matrix', cm=confusion_matrices_random_forest, classes=[0,1])\n",
    "plt.show()"
   ]
  },
  {
   "cell_type": "code",
   "execution_count": 97,
   "metadata": {
    "scrolled": false
   },
   "outputs": [
    {
     "data": {
      "text/plain": [
       "0.9291338582677166"
      ]
     },
     "execution_count": 97,
     "metadata": {},
     "output_type": "execute_result"
    }
   ],
   "source": [
    "random_forest.score(X_validation,y_validation)"
   ]
  },
  {
   "cell_type": "markdown",
   "metadata": {},
   "source": [
    "# Random Forest Visualization"
   ]
  },
  {
   "cell_type": "code",
   "execution_count": 98,
   "metadata": {
    "scrolled": true
   },
   "outputs": [],
   "source": [
    "#visualizing RF\n",
    "#model = RandomForestClassifier(n_estimators=10)\n",
    "\n",
    "# Train\n",
    "#model.fit(X_train, y_train)\n",
    "#model_kaydet(kernel=model,kernel_name='randomforestviz')\n",
    "# Extract single tree\n",
    "#estimator = model.estimators_[5]\n",
    "\n",
    "#from sklearn.tree import export_graphviz\n",
    "# Export as dot file\n",
    "#export_graphviz(estimator, out_file='tree.dot', \n",
    "                #feature_names = X.columns.tolist(),\n",
    "                #class_names = ['0',' 1'],\n",
    "                #rounded = True, proportion = False, \n",
    "                #precision = 2, filled = True)\n"
   ]
  },
  {
   "cell_type": "code",
   "execution_count": 99,
   "metadata": {},
   "outputs": [],
   "source": [
    "# Convert to png using system command (requires Graphviz)\n",
    "#from subprocess import call\n",
    "#call(['dot', '-Tpng', 'tree.dot', '-o', 'tree.png', '-Gdpi=600'])\n",
    "\n",
    "# Display in jupyter notebook\n",
    "#from IPython.display import Image\n",
    "#Image(filename = 'tree.png')\n"
   ]
  },
  {
   "cell_type": "markdown",
   "metadata": {},
   "source": [
    "### After Pickle"
   ]
  },
  {
   "cell_type": "code",
   "execution_count": 100,
   "metadata": {},
   "outputs": [],
   "source": [
    "logistic_regression = pickle.load(open('/home/cem/PycharmProjects/FraudDetection/models/randomforest','rb'))\n",
    "decisiontree = pickle.load(open('/home/cem/PycharmProjects/FraudDetection/models/decision_tree','rb'))\n",
    "sigmoid_svc = pickle.load(open('/home/cem/PycharmProjects/FraudDetection/models/sigmoid_svc','rb'))\n",
    "poly_svc = pickle.load(open('/home/cem/PycharmProjects/FraudDetection/models/poly_svc','rb'))\n",
    "linear_svc = pickle.load(open('/home/cem/PycharmProjects/FraudDetection/models/linear_svc','rb'))\n",
    "random_forest = pickle.load(open('/home/cem/PycharmProjects/FraudDetection/models/randomforest','rb'))\n",
    "\n",
    "# Kaydettiklerimizi yüklüyoruz."
   ]
  },
  {
   "cell_type": "code",
   "execution_count": 101,
   "metadata": {},
   "outputs": [],
   "source": [
    "models = []\n",
    "\n",
    "models.append(('LR', logistic_regression))\n",
    "models.append(('decisiontree', decisiontree))\n",
    "models.append(('sigmoid_svc', sigmoid_svc))\n",
    "models.append(('linear_svc', sigmoid_svc))\n",
    "models.append(('poly_svc', sigmoid_svc))\n",
    "models.append(('random_forest', random_forest))\n",
    "\n",
    "# Models listesi içine ilgili oop classifierları ilgili isimleri ile birlikte tuple halinde ekleniyor. \n",
    "# printte loglara ilgili classifierların isimlerini yazabilmek için. "
   ]
  },
  {
   "cell_type": "code",
   "execution_count": 102,
   "metadata": {},
   "outputs": [
    {
     "data": {
      "text/plain": [
       "('LR',\n",
       " RandomForestClassifier(bootstrap=True, class_weight=None, criterion='gini',\n",
       "                        max_depth=None, max_features='auto', max_leaf_nodes=None,\n",
       "                        min_impurity_decrease=0.0, min_impurity_split=None,\n",
       "                        min_samples_leaf=1, min_samples_split=2,\n",
       "                        min_weight_fraction_leaf=0.0, n_estimators=100,\n",
       "                        n_jobs=None, oob_score=False, random_state=None,\n",
       "                        verbose=0, warm_start=False))"
      ]
     },
     "execution_count": 102,
     "metadata": {},
     "output_type": "execute_result"
    }
   ],
   "source": [
    "models[0]"
   ]
  },
  {
   "cell_type": "markdown",
   "metadata": {},
   "source": [
    "### All Confusion Matrices"
   ]
  },
  {
   "cell_type": "code",
   "execution_count": 103,
   "metadata": {},
   "outputs": [],
   "source": [
    "def confusion_matrix_yuzde(cm):\n",
    "    dogru=(cm[0][0]+cm[1][1])\n",
    "    total = np.sum(cm)\n",
    "    return(dogru/total)"
   ]
  },
  {
   "cell_type": "code",
   "execution_count": 104,
   "metadata": {},
   "outputs": [
    {
     "name": "stdout",
     "output_type": "stream",
     "text": [
      "LR -> \n",
      " [[73  0]\n",
      " [ 9 45]] \n",
      "\n",
      " 0.9291338582677166 \n",
      " f1_score :  0.9419354838709678 \n",
      "recall =  0.8902439024390244 \n",
      "precision =  1.0\n",
      "decisiontree -> \n",
      " [[66  7]\n",
      " [ 9 45]] \n",
      "\n",
      " 0.8740157480314961 \n",
      " f1_score :  0.8918918918918919 \n",
      "recall =  0.88 \n",
      "precision =  0.9041095890410958\n",
      "sigmoid_svc -> \n",
      " [[64  9]\n",
      " [19 35]] \n",
      "\n",
      " 0.7795275590551181 \n",
      " f1_score :  0.8205128205128205 \n",
      "recall =  0.7710843373493976 \n",
      "precision =  0.8767123287671232\n",
      "linear_svc -> \n",
      " [[64  9]\n",
      " [19 35]] \n",
      "\n",
      " 0.7795275590551181 \n",
      " f1_score :  0.8205128205128205 \n",
      "recall =  0.7710843373493976 \n",
      "precision =  0.8767123287671232\n",
      "poly_svc -> \n",
      " [[64  9]\n",
      " [19 35]] \n",
      "\n",
      " 0.7795275590551181 \n",
      " f1_score :  0.8205128205128205 \n",
      "recall =  0.7710843373493976 \n",
      "precision =  0.8767123287671232\n",
      "random_forest -> \n",
      " [[73  0]\n",
      " [ 9 45]] \n",
      "\n",
      " 0.9291338582677166 \n",
      " f1_score :  0.9419354838709678 \n",
      "recall =  0.8902439024390244 \n",
      "precision =  1.0\n"
     ]
    }
   ],
   "source": [
    "x = []\n",
    "for name,model in models:\n",
    "    predictions = model.predict(X_validation)\n",
    "    cnf = confusion_matrix(y_validation,predictions.round())\n",
    "    \n",
    "    yuzde = confusion_matrix_yuzde(cm=cnf)\n",
    "    f1_score , recall,precision= get_f1(cm=cnf)\n",
    "\n",
    "    print(name,'->','\\n',cnf,'\\n\\n',yuzde,'\\n','f1_score : ',f1_score,'\\nrecall = ',recall,'\\nprecision = ',precision)\n",
    "    x.append(predictions)\n",
    "\n",
    "    sumpredictions = [sum(elts) for elts in zip(*x)]"
   ]
  },
  {
   "cell_type": "markdown",
   "metadata": {},
   "source": [
    "### ML Algorithms wıth Model Selectıon Techniques"
   ]
  },
  {
   "cell_type": "code",
   "execution_count": 105,
   "metadata": {},
   "outputs": [
    {
     "name": "stdout",
     "output_type": "stream",
     "text": [
      "LR: 0.979269 (0.019367)\n",
      "CART: 0.899965 (0.057357)\n",
      "RF: 0.954633 (0.036642)\n",
      "SVC_linear: 0.983608 (0.015760)\n",
      "SVC_sigmoid: 0.941551 (0.025520)\n",
      "SVC_poly: 0.978246 (0.025919)\n"
     ]
    }
   ],
   "source": [
    "##Spot-Checking Algorithms\n",
    "\n",
    "models = []\n",
    "\n",
    "models.append(('LR', LogisticRegression()))\n",
    "models.append(('CART', DecisionTreeClassifier()))\n",
    "models.append(('RF', RandomForestClassifier()))\n",
    "models.append(('SVC_linear', SVC(kernel='linear')))\n",
    "models.append(('SVC_sigmoid',SVC(kernel='sigmoid')))\n",
    "models.append(('SVC_poly',SVC(kernel='poly')))\n",
    "\n",
    "#testing models\n",
    "\n",
    "results = []\n",
    "names = []\n",
    "\n",
    "for name, model in models:\n",
    "    kfold = KFold(n_splits=10, random_state=42)\n",
    "    cv_results = cross_val_score(model, X_train, y_train, cv=kfold, scoring='roc_auc')\n",
    "    results.append(cv_results)\n",
    "    names.append(name)\n",
    "    msg = '%s: %f (%f)' % (name, cv_results.mean(), cv_results.std())\n",
    "    print(msg)"
   ]
  },
  {
   "cell_type": "code",
   "execution_count": 106,
   "metadata": {},
   "outputs": [
    {
     "data": {
      "image/png": "[encoded data removed]",
      "text/plain": [
       "<Figure size 576x720 with 1 Axes>"
      ]
     },
     "metadata": {
      "needs_background": "light"
     },
     "output_type": "display_data"
    }
   ],
   "source": [
    "#Compare Algorithms\n",
    "\n",
    "fig = plt.figure(figsize=(8,10))\n",
    "plt.title('Comparison of Classification Algorithms')\n",
    "plt.xlabel('Algorithm')\n",
    "plt.ylabel('ROC-AUC Score')\n",
    "plt.boxplot(results)\n",
    "ax = fig.add_subplot(111)\n",
    "ax.set_xticklabels(names)\n",
    "plt.show()"
   ]
  },
  {
   "cell_type": "markdown",
   "metadata": {},
   "source": [
    "### Gridsearch for SVM"
   ]
  },
  {
   "cell_type": "code",
   "execution_count": 107,
   "metadata": {},
   "outputs": [],
   "source": [
    "# We decided to use gridsearch model selection technique after its performance was lower, compared to other algorithms"
   ]
  },
  {
   "cell_type": "code",
   "execution_count": 108,
   "metadata": {},
   "outputs": [
    {
     "data": {
      "text/plain": [
       "SVC(C=1.0, cache_size=200, class_weight=None, coef0=0.0,\n",
       "    decision_function_shape='ovr', degree=3, gamma='auto_deprecated',\n",
       "    kernel='rbf', max_iter=-1, probability=False, random_state=0,\n",
       "    shrinking=True, tol=0.001, verbose=False)"
      ]
     },
     "execution_count": 108,
     "metadata": {},
     "output_type": "execute_result"
    }
   ],
   "source": [
    "from sklearn.svm import SVC\n",
    "classifier = SVC(kernel = 'rbf', random_state = 0)\n",
    "classifier.fit(X_train, y_train)\n"
   ]
  },
  {
   "cell_type": "code",
   "execution_count": 109,
   "metadata": {},
   "outputs": [],
   "source": [
    "from sklearn.model_selection import GridSearchCV\n"
   ]
  },
  {
   "cell_type": "code",
   "execution_count": 110,
   "metadata": {},
   "outputs": [],
   "source": [
    "param_range = [0.0001, 0.001, 0.01, 0.1, 1.0, 10.0, 100.0, 1000.0]\n",
    "parameters = [{'C': param_range, 'kernel': ['linear']},\n",
    "              {'C': param_range, 'kernel': ['poly'],'degree':[2,3,4], 'gamma': [0.1, 0.2, 0.3, 0.4, 0.5, 0.6, 0.7, 0.8, 0.9]},\n",
    "              {'C': param_range, 'kernel': ['sigmoid'], 'gamma': [0.1, 0.2, 0.3, 0.4, 0.5, 0.6, 0.7, 0.8, 0.9]}]\n",
    "grid_search = GridSearchCV(estimator = classifier,\n",
    "                           param_grid = parameters,\n",
    "                           scoring = 'accuracy', #Puanlamayı doğruluğa göre yap\n",
    "                           cv = 10, #K fold değeri\n",
    "                           n_jobs = -1) # -1 bütün çekirdekleri kullan\n",
    "grid_search = grid_search.fit(X_train, y_train)\n",
    "best_accuracy = grid_search.best_score_\n",
    "best_parameters = grid_search.best_params_"
   ]
  },
  {
   "cell_type": "code",
   "execution_count": 111,
   "metadata": {},
   "outputs": [
    {
     "name": "stdout",
     "output_type": "stream",
     "text": [
      "En iyi tahmin oranı: % 95.25\n",
      "En iyi parametreler:  {'kernel': 'poly', 'C': 0.001, 'degree': 3, 'gamma': 0.7}\n"
     ]
    }
   ],
   "source": [
    "print('En iyi tahmin oranı: %',round(best_accuracy*100,2))\n",
    "print('En iyi parametreler: ',best_parameters)"
   ]
  },
  {
   "cell_type": "markdown",
   "metadata": {},
   "source": [
    "### Basic Hybrid ML Algorithm"
   ]
  },
  {
   "cell_type": "code",
   "execution_count": 112,
   "metadata": {},
   "outputs": [
    {
     "data": {
      "text/plain": [
       "[4,\n",
       " 6,\n",
       " 1,\n",
       " 0,\n",
       " 0,\n",
       " 3,\n",
       " 3,\n",
       " 0,\n",
       " 0,\n",
       " 0,\n",
       " 1,\n",
       " 3,\n",
       " 0,\n",
       " 3,\n",
       " 6,\n",
       " 0,\n",
       " 0,\n",
       " 6,\n",
       " 0,\n",
       " 0,\n",
       " 0,\n",
       " 6,\n",
       " 0,\n",
       " 0,\n",
       " 0,\n",
       " 0,\n",
       " 0,\n",
       " 4,\n",
       " 6,\n",
       " 3,\n",
       " 6,\n",
       " 0,\n",
       " 0,\n",
       " 6,\n",
       " 0,\n",
       " 0,\n",
       " 3,\n",
       " 3,\n",
       " 0,\n",
       " 3,\n",
       " 0,\n",
       " 0,\n",
       " 6,\n",
       " 0,\n",
       " 6,\n",
       " 0,\n",
       " 0,\n",
       " 3,\n",
       " 0,\n",
       " 6,\n",
       " 6,\n",
       " 6,\n",
       " 6,\n",
       " 3,\n",
       " 6,\n",
       " 6,\n",
       " 0,\n",
       " 0,\n",
       " 0,\n",
       " 0,\n",
       " 0,\n",
       " 0,\n",
       " 4,\n",
       " 0,\n",
       " 0,\n",
       " 0,\n",
       " 0,\n",
       " 0,\n",
       " 0,\n",
       " 6,\n",
       " 0,\n",
       " 6,\n",
       " 0,\n",
       " 0,\n",
       " 0,\n",
       " 3,\n",
       " 0,\n",
       " 0,\n",
       " 0,\n",
       " 6,\n",
       " 6,\n",
       " 6,\n",
       " 6,\n",
       " 0,\n",
       " 0,\n",
       " 4,\n",
       " 0,\n",
       " 0,\n",
       " 0,\n",
       " 4,\n",
       " 3,\n",
       " 6,\n",
       " 6,\n",
       " 0,\n",
       " 0,\n",
       " 0,\n",
       " 0,\n",
       " 3,\n",
       " 0,\n",
       " 3,\n",
       " 0,\n",
       " 0,\n",
       " 3,\n",
       " 6,\n",
       " 6,\n",
       " 3,\n",
       " 5,\n",
       " 0,\n",
       " 3,\n",
       " 0,\n",
       " 0,\n",
       " 0,\n",
       " 6,\n",
       " 6,\n",
       " 0,\n",
       " 6,\n",
       " 3,\n",
       " 4,\n",
       " 0,\n",
       " 0,\n",
       " 6,\n",
       " 0,\n",
       " 6,\n",
       " 0,\n",
       " 3,\n",
       " 0,\n",
       " 6]"
      ]
     },
     "execution_count": 112,
     "metadata": {},
     "output_type": "execute_result"
    }
   ],
   "source": [
    "sumpredictions"
   ]
  },
  {
   "cell_type": "code",
   "execution_count": 113,
   "metadata": {},
   "outputs": [],
   "source": [
    "predictions_greater_than_2 =[int(sumprediction>=2) for sumprediction in sumpredictions]\n",
    "predictions_greater_than_3 =[int(sumprediction>=3) for sumprediction in sumpredictions]"
   ]
  },
  {
   "cell_type": "code",
   "execution_count": 114,
   "metadata": {},
   "outputs": [],
   "source": [
    "cnf_hibrit_2 = confusion_matrix(y_validation,predictions_greater_than_2)\n",
    "cnf_hibrit_3 = confusion_matrix(y_validation,predictions_greater_than_3)"
   ]
  },
  {
   "cell_type": "markdown",
   "metadata": {},
   "source": [
    "### Report For cnf_hybrid_2"
   ]
  },
  {
   "cell_type": "code",
   "execution_count": 115,
   "metadata": {},
   "outputs": [
    {
     "data": {
      "text/plain": [
       "array([[64,  9],\n",
       "       [ 6, 48]])"
      ]
     },
     "execution_count": 115,
     "metadata": {},
     "output_type": "execute_result"
    }
   ],
   "source": [
    "cnf_hibrit_2"
   ]
  },
  {
   "cell_type": "code",
   "execution_count": 116,
   "metadata": {},
   "outputs": [
    {
     "data": {
      "text/plain": [
       "0.8818897637795275"
      ]
     },
     "execution_count": 116,
     "metadata": {},
     "output_type": "execute_result"
    }
   ],
   "source": [
    "confusion_matrix_yuzde(cm=cnf_hibrit_2)"
   ]
  },
  {
   "cell_type": "code",
   "execution_count": 117,
   "metadata": {},
   "outputs": [],
   "source": [
    "f1_score , recall,precision= get_f1(cm=cnf_hibrit_2)"
   ]
  },
  {
   "cell_type": "code",
   "execution_count": 118,
   "metadata": {},
   "outputs": [
    {
     "name": "stdout",
     "output_type": "stream",
     "text": [
      "f1_score =  0.8951048951048951 \n",
      "recall =  0.9142857142857143 \n",
      "precision =  0.8767123287671232\n"
     ]
    }
   ],
   "source": [
    "print('f1_score = ' ,f1_score, '\\nrecall = ',recall,'\\nprecision = ',precision )"
   ]
  },
  {
   "cell_type": "markdown",
   "metadata": {},
   "source": [
    "### Report For cnf_hybrid_3"
   ]
  },
  {
   "cell_type": "code",
   "execution_count": 119,
   "metadata": {
    "scrolled": true
   },
   "outputs": [
    {
     "data": {
      "text/plain": [
       "array([[64,  9],\n",
       "       [ 6, 48]])"
      ]
     },
     "execution_count": 119,
     "metadata": {},
     "output_type": "execute_result"
    }
   ],
   "source": [
    "cnf_hibrit_3"
   ]
  },
  {
   "cell_type": "code",
   "execution_count": 120,
   "metadata": {},
   "outputs": [
    {
     "data": {
      "text/plain": [
       "0.8818897637795275"
      ]
     },
     "execution_count": 120,
     "metadata": {},
     "output_type": "execute_result"
    }
   ],
   "source": [
    "confusion_matrix_yuzde(cm=cnf_hibrit_3)"
   ]
  },
  {
   "cell_type": "code",
   "execution_count": 121,
   "metadata": {},
   "outputs": [],
   "source": [
    "f1_score , recall,precision= get_f1(cm=cnf_hibrit_3)"
   ]
  },
  {
   "cell_type": "code",
   "execution_count": 122,
   "metadata": {},
   "outputs": [
    {
     "name": "stdout",
     "output_type": "stream",
     "text": [
      "f1_score =  0.8951048951048951 \n",
      "recall =  0.9142857142857143 \n",
      "precision =  0.8767123287671232\n"
     ]
    }
   ],
   "source": [
    "print('f1_score = ' ,f1_score, '\\nrecall = ',recall,'\\nprecision = ',precision )"
   ]
  },
  {
   "cell_type": "code",
   "execution_count": null,
   "metadata": {},
   "outputs": [],
   "source": []
  },
  {
   "cell_type": "code",
   "execution_count": 123,
   "metadata": {},
   "outputs": [],
   "source": [
    "#visualizing RF\n",
    "#model1 = RandomForestClassifier(n_estimators=10)\n",
    "\n",
    "# Train\n",
    "#model1.fit(X_train, y_train)\n",
    "#model_kaydet(kernel=model1,kernel_name='randomforestviz')\n",
    "# Extract single tree\n",
    "#estimator = model1.estimators_[5]\n",
    "\n",
    "#from sklearn.tree import export_graphviz\n",
    "# Export as dot file\n",
    "#export_graphviz(estimator, out_file='tree.dot', \n",
    " #               feature_names = X.columns.tolist(),\n",
    "  #              class_names = ['0',' 1'],\n",
    "   #             rounded = True, proportion = False, \n",
    "    #            precision = 2, filled = True)\n",
    "\n",
    "# Convert to png using system command (requires Graphviz)\n",
    "#from subprocess import call\n",
    "#call(['dot', '-Tpng', 'tree.dot', '-o', 'tree.png', '-Gdpi=600'])\n",
    "\n",
    "# Display in jupyter notebook\n",
    "#from IPython.display import Image\n",
    "#Image(filename = 'tree.png')"
   ]
  },
  {
   "cell_type": "markdown",
   "metadata": {},
   "source": [
    "# III.IV. DEEP LEARNING"
   ]
  },
  {
   "cell_type": "markdown",
   "metadata": {},
   "source": [
    "## Deep neural network - Preprocessing"
   ]
  },
  {
   "cell_type": "code",
   "execution_count": 124,
   "metadata": {},
   "outputs": [],
   "source": [
    "# X = data.iloc[:, data.columns != 'Class']\n",
    "# y = data.iloc[:, data.columns == 'Class']\n",
    "# X_train, X_test, y_train, y_test = train_test_split(X,y, test_size = 0.3, random_state=0)"
   ]
  },
  {
   "cell_type": "code",
   "execution_count": 125,
   "metadata": {},
   "outputs": [],
   "source": [
    "# X_train.shape "
   ]
  },
  {
   "cell_type": "code",
   "execution_count": 126,
   "metadata": {},
   "outputs": [],
   "source": [
    "# X_test.shape "
   ]
  },
  {
   "cell_type": "code",
   "execution_count": 127,
   "metadata": {},
   "outputs": [],
   "source": [
    "# X_train = np.array(X_train)\n",
    "# X_test = np.array(X_test)\n",
    "# y_train = np.array(y_train)\n",
    "# y_test = np.array(y_test) "
   ]
  },
  {
   "cell_type": "markdown",
   "metadata": {},
   "source": [
    "# Deep Neural Network - Processing"
   ]
  },
  {
   "cell_type": "code",
   "execution_count": 128,
   "metadata": {},
   "outputs": [],
   "source": [
    "# from keras.models import Sequential\n",
    "# from keras.layers import Dense\n",
    "# from keras.layers import Dropout "
   ]
  },
  {
   "cell_type": "code",
   "execution_count": 129,
   "metadata": {},
   "outputs": [],
   "source": [
    "# model = Sequential([\n",
    "#     Dense(units=16, input_dim = 30,activation='relu'),\n",
    "#     Dense(units=24,activation='relu'),\n",
    "#     Dropout(0.5),\n",
    "#     Dense(20,activation='relu'),\n",
    "#     Dense(24,activation='relu'),\n",
    "#     Dense(1,activation='sigmoid'),\n",
    "# ]) "
   ]
  },
  {
   "cell_type": "code",
   "execution_count": 130,
   "metadata": {},
   "outputs": [],
   "source": [
    "# model.summary() "
   ]
  },
  {
   "cell_type": "code",
   "execution_count": 131,
   "metadata": {},
   "outputs": [],
   "source": [
    "## Training"
   ]
  },
  {
   "cell_type": "code",
   "execution_count": 132,
   "metadata": {},
   "outputs": [],
   "source": [
    "# epochs_for_training = [1,5,10] "
   ]
  },
  {
   "cell_type": "code",
   "execution_count": 133,
   "metadata": {},
   "outputs": [],
   "source": [
    "# for epoch in epochs_for_training:\n",
    "#     model.compile(optimizer='adam',loss='binary_crossentropy',metrics=['accuracy'])\n",
    "#     model.fit(X_train,y_train,batch_size=15,epochs=epoch)\n",
    "#     score = model.evaluate(X_test, y_test)\n",
    "#     print(score,' for {} epoch'.format(epoch))\n",
    "#     model_kaydet(kernel=model,kernel_name='ann{}'.format(epoch))"
   ]
  },
  {
   "cell_type": "markdown",
   "metadata": {},
   "source": [
    "## Undersampling"
   ]
  },
  {
   "cell_type": "code",
   "execution_count": 134,
   "metadata": {},
   "outputs": [],
   "source": [
    "# fraud_indices = np.array(data[data.Class == 1].index)\n",
    "# number_records_fraud = len(fraud_indices)\n",
    "# print(number_records_fraud) "
   ]
  },
  {
   "cell_type": "code",
   "execution_count": 135,
   "metadata": {},
   "outputs": [],
   "source": [
    "# normal_indices = data[data.Class == 0].index "
   ]
  },
  {
   "cell_type": "code",
   "execution_count": 136,
   "metadata": {},
   "outputs": [],
   "source": [
    "# random_normal_indices = np.random.choice(normal_indices, number_records_fraud, replace=False)\n",
    "# random_normal_indices = np.array(random_normal_indices)\n",
    "# print(len(random_normal_indices))"
   ]
  },
  {
   "cell_type": "code",
   "execution_count": 137,
   "metadata": {},
   "outputs": [],
   "source": [
    "# under_sample_indices = np.concatenate([fraud_indices,random_normal_indices])\n",
    "# print(len(under_sample_indices))"
   ]
  },
  {
   "cell_type": "code",
   "execution_count": 138,
   "metadata": {},
   "outputs": [],
   "source": [
    "# under_sample_data = data.iloc[under_sample_indices,:]"
   ]
  },
  {
   "cell_type": "code",
   "execution_count": 139,
   "metadata": {},
   "outputs": [],
   "source": [
    "# X_undersample = under_sample_data.iloc[:,under_sample_data.columns != 'Class']\n",
    "# y_undersample = under_sample_data.iloc[:,under_sample_data.columns == 'Class']"
   ]
  },
  {
   "cell_type": "code",
   "execution_count": 140,
   "metadata": {},
   "outputs": [],
   "source": [
    "# X_train, X_test, y_train, y_test = train_test_split(X_undersample,y_undersample, test_size=0.3)"
   ]
  },
  {
   "cell_type": "code",
   "execution_count": 141,
   "metadata": {},
   "outputs": [],
   "source": [
    "# X_train = np.array(X_train)\n",
    "# X_test = np.array(X_test)\n",
    "# y_train = np.array(y_train)\n",
    "# y_test = np.array(y_test)"
   ]
  },
  {
   "cell_type": "code",
   "execution_count": 142,
   "metadata": {},
   "outputs": [],
   "source": [
    "# model.summary()"
   ]
  },
  {
   "cell_type": "code",
   "execution_count": 143,
   "metadata": {},
   "outputs": [],
   "source": [
    "# model.compile(optimizer='adam',loss='binary_crossentropy',metrics=['accuracy'])\n",
    "# model.fit(X_train,y_train,batch_size=15,epochs=5)"
   ]
  },
  {
   "cell_type": "code",
   "execution_count": 144,
   "metadata": {},
   "outputs": [],
   "source": [
    "# y_pred = model.predict(X_test)\n",
    "# y_expected = pd.DataFrame(y_test)\n",
    "# cnf_matrix = confusion_matrix(y_expected, y_pred.round())\n",
    "# plot_confusion_matrix(title_plt='Sampled NN', cm=cnf_matrix, classes=[0,1])\n",
    "# plt.show()"
   ]
  },
  {
   "cell_type": "code",
   "execution_count": 145,
   "metadata": {},
   "outputs": [],
   "source": [
    "# y_pred = model.predict(X)\n",
    "# y_expected = pd.DataFrame(y)\n",
    "# cnf_matrix = confusion_matrix(y_expected, y_pred.round())\n",
    "# plot_confusion_matrix(title_plt='Whole Dataframe', cm=cnf_matrix, classes=[0,1])\n",
    "# plt.show()"
   ]
  },
  {
   "cell_type": "markdown",
   "metadata": {},
   "source": [
    "## SMOTE"
   ]
  },
  {
   "cell_type": "code",
   "execution_count": 146,
   "metadata": {},
   "outputs": [],
   "source": [
    "# %%bash\n",
    "# pip install -U imbalanced-learn"
   ]
  },
  {
   "cell_type": "code",
   "execution_count": 147,
   "metadata": {},
   "outputs": [],
   "source": [
    "# from imblearn.over_sampling import SMOTE"
   ]
  },
  {
   "cell_type": "code",
   "execution_count": 148,
   "metadata": {},
   "outputs": [],
   "source": [
    "# X_resample, y_resample = SMOTE().fit_sample(X,y.values.ravel())"
   ]
  },
  {
   "cell_type": "code",
   "execution_count": 149,
   "metadata": {},
   "outputs": [],
   "source": [
    "# y_resample = pd.DataFrame(y_resample)\n",
    "# X_resample = pd.DataFrame(X_resample)"
   ]
  },
  {
   "cell_type": "code",
   "execution_count": 150,
   "metadata": {},
   "outputs": [],
   "source": [
    "# X_train, X_test, y_train, y_test = train_test_split(X_resample,y_resample,test_size=0.3)"
   ]
  },
  {
   "cell_type": "code",
   "execution_count": 151,
   "metadata": {},
   "outputs": [],
   "source": [
    "# X_train = np.array(X_train)\n",
    "# X_test = np.array(X_test)\n",
    "# y_train = np.array(y_train)\n",
    "# y_test = np.array(y_test)"
   ]
  },
  {
   "cell_type": "code",
   "execution_count": 152,
   "metadata": {},
   "outputs": [],
   "source": [
    "# model.compile(optimizer='adam',loss='binary_crossentropy',metrics=['accuracy'])\n",
    "# model.fit(X_train,y_train,batch_size=15,epochs=5)"
   ]
  },
  {
   "cell_type": "code",
   "execution_count": 153,
   "metadata": {},
   "outputs": [],
   "source": [
    "# y_pred = model.predict(X_test)\n",
    "# y_expected = pd.DataFrame(y_test)\n",
    "# cnf_matrix = confusion_matrix(y_expected, y_pred.round())\n",
    "# plot_confusion_matrix(title_plt='TEST DF SMOTE ',cm=cnf_matrix, classes=[0,1])\n",
    "# plt.show()"
   ]
  },
  {
   "cell_type": "code",
   "execution_count": 154,
   "metadata": {
    "scrolled": true
   },
   "outputs": [],
   "source": [
    "# y_pred = model.predict(X)\n",
    "# y_expected = pd.DataFrame(y)\n",
    "# cnf_matrix = confusion_matrix(y_expected, y_pred.round())\n",
    "# plot_confusion_matrix(title_plt='Whole DF SMOTE',cm=cnf_matrix, classes=[0,1])\n",
    "# plt.show()"
   ]
  },
  {
   "cell_type": "markdown",
   "metadata": {},
   "source": [
    "### After Pickle for Deep Learning"
   ]
  },
  {
   "cell_type": "code",
   "execution_count": 155,
   "metadata": {},
   "outputs": [
    {
     "name": "stderr",
     "output_type": "stream",
     "text": [
      "Using TensorFlow backend.\n",
      "/home/cem/PycharmProjects/FraudDetection/venv/lib/python3.5/site-packages/tensorflow/python/framework/dtypes.py:516: FutureWarning: Passing (type, 1) or '1type' as a synonym of type is deprecated; in a future version of numpy, it will be understood as (type, (1,)) / '(1,)type'.\n",
      "  _np_qint8 = np.dtype([(\"qint8\", np.int8, 1)])\n",
      "/home/cem/PycharmProjects/FraudDetection/venv/lib/python3.5/site-packages/tensorflow/python/framework/dtypes.py:517: FutureWarning: Passing (type, 1) or '1type' as a synonym of type is deprecated; in a future version of numpy, it will be understood as (type, (1,)) / '(1,)type'.\n",
      "  _np_quint8 = np.dtype([(\"quint8\", np.uint8, 1)])\n",
      "/home/cem/PycharmProjects/FraudDetection/venv/lib/python3.5/site-packages/tensorflow/python/framework/dtypes.py:518: FutureWarning: Passing (type, 1) or '1type' as a synonym of type is deprecated; in a future version of numpy, it will be understood as (type, (1,)) / '(1,)type'.\n",
      "  _np_qint16 = np.dtype([(\"qint16\", np.int16, 1)])\n",
      "/home/cem/PycharmProjects/FraudDetection/venv/lib/python3.5/site-packages/tensorflow/python/framework/dtypes.py:519: FutureWarning: Passing (type, 1) or '1type' as a synonym of type is deprecated; in a future version of numpy, it will be understood as (type, (1,)) / '(1,)type'.\n",
      "  _np_quint16 = np.dtype([(\"quint16\", np.uint16, 1)])\n",
      "/home/cem/PycharmProjects/FraudDetection/venv/lib/python3.5/site-packages/tensorflow/python/framework/dtypes.py:520: FutureWarning: Passing (type, 1) or '1type' as a synonym of type is deprecated; in a future version of numpy, it will be understood as (type, (1,)) / '(1,)type'.\n",
      "  _np_qint32 = np.dtype([(\"qint32\", np.int32, 1)])\n",
      "/home/cem/PycharmProjects/FraudDetection/venv/lib/python3.5/site-packages/tensorflow/python/framework/dtypes.py:525: FutureWarning: Passing (type, 1) or '1type' as a synonym of type is deprecated; in a future version of numpy, it will be understood as (type, (1,)) / '(1,)type'.\n",
      "  np_resource = np.dtype([(\"resource\", np.ubyte, 1)])\n",
      "/home/cem/PycharmProjects/FraudDetection/venv/lib/python3.5/site-packages/tensorboard/compat/tensorflow_stub/dtypes.py:541: FutureWarning: Passing (type, 1) or '1type' as a synonym of type is deprecated; in a future version of numpy, it will be understood as (type, (1,)) / '(1,)type'.\n",
      "  _np_qint8 = np.dtype([(\"qint8\", np.int8, 1)])\n",
      "/home/cem/PycharmProjects/FraudDetection/venv/lib/python3.5/site-packages/tensorboard/compat/tensorflow_stub/dtypes.py:542: FutureWarning: Passing (type, 1) or '1type' as a synonym of type is deprecated; in a future version of numpy, it will be understood as (type, (1,)) / '(1,)type'.\n",
      "  _np_quint8 = np.dtype([(\"quint8\", np.uint8, 1)])\n",
      "/home/cem/PycharmProjects/FraudDetection/venv/lib/python3.5/site-packages/tensorboard/compat/tensorflow_stub/dtypes.py:543: FutureWarning: Passing (type, 1) or '1type' as a synonym of type is deprecated; in a future version of numpy, it will be understood as (type, (1,)) / '(1,)type'.\n",
      "  _np_qint16 = np.dtype([(\"qint16\", np.int16, 1)])\n",
      "/home/cem/PycharmProjects/FraudDetection/venv/lib/python3.5/site-packages/tensorboard/compat/tensorflow_stub/dtypes.py:544: FutureWarning: Passing (type, 1) or '1type' as a synonym of type is deprecated; in a future version of numpy, it will be understood as (type, (1,)) / '(1,)type'.\n",
      "  _np_quint16 = np.dtype([(\"quint16\", np.uint16, 1)])\n",
      "/home/cem/PycharmProjects/FraudDetection/venv/lib/python3.5/site-packages/tensorboard/compat/tensorflow_stub/dtypes.py:545: FutureWarning: Passing (type, 1) or '1type' as a synonym of type is deprecated; in a future version of numpy, it will be understood as (type, (1,)) / '(1,)type'.\n",
      "  _np_qint32 = np.dtype([(\"qint32\", np.int32, 1)])\n",
      "/home/cem/PycharmProjects/FraudDetection/venv/lib/python3.5/site-packages/tensorboard/compat/tensorflow_stub/dtypes.py:550: FutureWarning: Passing (type, 1) or '1type' as a synonym of type is deprecated; in a future version of numpy, it will be understood as (type, (1,)) / '(1,)type'.\n",
      "  np_resource = np.dtype([(\"resource\", np.ubyte, 1)])\n",
      "WARNING: Logging before flag parsing goes to stderr.\n",
      "W0807 16:24:18.947562 140274371401472 deprecation_wrapper.py:119] From /home/cem/PycharmProjects/FraudDetection/venv/lib/python3.5/site-packages/keras/backend/tensorflow_backend.py:517: The name tf.placeholder is deprecated. Please use tf.compat.v1.placeholder instead.\n",
      "\n",
      "W0807 16:24:18.976002 140274371401472 deprecation_wrapper.py:119] From /home/cem/PycharmProjects/FraudDetection/venv/lib/python3.5/site-packages/keras/backend/tensorflow_backend.py:4138: The name tf.random_uniform is deprecated. Please use tf.random.uniform instead.\n",
      "\n",
      "W0807 16:24:19.012152 140274371401472 deprecation_wrapper.py:119] From /home/cem/PycharmProjects/FraudDetection/venv/lib/python3.5/site-packages/keras/backend/tensorflow_backend.py:131: The name tf.get_default_graph is deprecated. Please use tf.compat.v1.get_default_graph instead.\n",
      "\n",
      "W0807 16:24:19.013264 140274371401472 deprecation_wrapper.py:119] From /home/cem/PycharmProjects/FraudDetection/venv/lib/python3.5/site-packages/keras/backend/tensorflow_backend.py:133: The name tf.placeholder_with_default is deprecated. Please use tf.compat.v1.placeholder_with_default instead.\n",
      "\n",
      "W0807 16:24:19.024337 140274371401472 deprecation.py:506] From /home/cem/PycharmProjects/FraudDetection/venv/lib/python3.5/site-packages/keras/backend/tensorflow_backend.py:3445: calling dropout (from tensorflow.python.ops.nn_ops) with keep_prob is deprecated and will be removed in a future version.\n",
      "Instructions for updating:\n",
      "Please use `rate` instead of `keep_prob`. Rate should be set to `rate = 1 - keep_prob`.\n",
      "W0807 16:24:19.176132 140274371401472 deprecation_wrapper.py:119] From /home/cem/PycharmProjects/FraudDetection/venv/lib/python3.5/site-packages/keras/backend/tensorflow_backend.py:174: The name tf.get_default_session is deprecated. Please use tf.compat.v1.get_default_session instead.\n",
      "\n",
      "W0807 16:24:19.410925 140274371401472 deprecation_wrapper.py:119] From /home/cem/PycharmProjects/FraudDetection/venv/lib/python3.5/site-packages/keras/optimizers.py:790: The name tf.train.Optimizer is deprecated. Please use tf.compat.v1.train.Optimizer instead.\n",
      "\n",
      "W0807 16:24:19.421840 140274371401472 deprecation.py:323] From /home/cem/PycharmProjects/FraudDetection/venv/lib/python3.5/site-packages/tensorflow/python/ops/nn_impl.py:180: add_dispatch_support.<locals>.wrapper (from tensorflow.python.ops.array_ops) is deprecated and will be removed in a future version.\n",
      "Instructions for updating:\n",
      "Use tf.where in 2.0, which has the same broadcast rule as np.where\n"
     ]
    }
   ],
   "source": [
    "ann5 = pickle.load(open('/home/cem/PycharmProjects/FraudDetection/models/ann5','rb'))\n",
    "ann15 = pickle.load(open('/home/cem/PycharmProjects/FraudDetection/models/ann15','rb'))\n",
    "\n",
    "# Kaydettiklerimizi yüklüyoruz."
   ]
  },
  {
   "cell_type": "markdown",
   "metadata": {},
   "source": [
    "### Comparison of Classiffication Algorithms Including Deep Learning"
   ]
  },
  {
   "cell_type": "code",
   "execution_count": 156,
   "metadata": {},
   "outputs": [],
   "source": [
    "models = []\n",
    "\n",
    "models.append(('LR', logistic_regression))\n",
    "models.append(('decisiontree', decisiontree))\n",
    "models.append(('sigmoid_svc', sigmoid_svc))\n",
    "models.append(('poly_svc', sigmoid_svc))\n",
    "models.append(('linear_svc', sigmoid_svc))\n",
    "models.append(('random_forest', random_forest))\n",
    "models.append(('ann5',ann5))\n",
    "models.append(('ann15',ann15))\n",
    "\n",
    "# Models listesi içine ilgili oop classifierları ilgili isimleri ile birlikte tuple halinde ekleniyor. \n",
    "# printte loglara ilgili classifierların isimlerini yazabilmek için. "
   ]
  },
  {
   "cell_type": "code",
   "execution_count": 157,
   "metadata": {},
   "outputs": [
    {
     "data": {
      "text/plain": [
       "('LR',\n",
       " RandomForestClassifier(bootstrap=True, class_weight=None, criterion='gini',\n",
       "                        max_depth=None, max_features='auto', max_leaf_nodes=None,\n",
       "                        min_impurity_decrease=0.0, min_impurity_split=None,\n",
       "                        min_samples_leaf=1, min_samples_split=2,\n",
       "                        min_weight_fraction_leaf=0.0, n_estimators=100,\n",
       "                        n_jobs=None, oob_score=False, random_state=None,\n",
       "                        verbose=0, warm_start=False))"
      ]
     },
     "execution_count": 157,
     "metadata": {},
     "output_type": "execute_result"
    }
   ],
   "source": [
    "models[0]"
   ]
  },
  {
   "cell_type": "code",
   "execution_count": 158,
   "metadata": {},
   "outputs": [
    {
     "name": "stdout",
     "output_type": "stream",
     "text": [
      "LR -> \n",
      " [[73  0]\n",
      " [ 9 45]] \n",
      "\n",
      " 0.9291338582677166 \n",
      " f1_score :  0.9419354838709678 \n",
      "recall =  0.8902439024390244 \n",
      "precision =  1.0\n",
      "decisiontree -> \n",
      " [[66  7]\n",
      " [ 9 45]] \n",
      "\n",
      " 0.8740157480314961 \n",
      " f1_score :  0.8918918918918919 \n",
      "recall =  0.88 \n",
      "precision =  0.9041095890410958\n",
      "sigmoid_svc -> \n",
      " [[64  9]\n",
      " [19 35]] \n",
      "\n",
      " 0.7795275590551181 \n",
      " f1_score :  0.8205128205128205 \n",
      "recall =  0.7710843373493976 \n",
      "precision =  0.8767123287671232\n",
      "poly_svc -> \n",
      " [[64  9]\n",
      " [19 35]] \n",
      "\n",
      " 0.7795275590551181 \n",
      " f1_score :  0.8205128205128205 \n",
      "recall =  0.7710843373493976 \n",
      "precision =  0.8767123287671232\n",
      "linear_svc -> \n",
      " [[64  9]\n",
      " [19 35]] \n",
      "\n",
      " 0.7795275590551181 \n",
      " f1_score :  0.8205128205128205 \n",
      "recall =  0.7710843373493976 \n",
      "precision =  0.8767123287671232\n",
      "random_forest -> \n",
      " [[73  0]\n",
      " [ 9 45]] \n",
      "\n",
      " 0.9291338582677166 \n",
      " f1_score :  0.9419354838709678 \n",
      "recall =  0.8902439024390244 \n",
      "precision =  1.0\n",
      "ann5 -> \n",
      " [[73  0]\n",
      " [15 39]] \n",
      "\n",
      " 0.8818897637795275 \n",
      " f1_score :  0.906832298136646 \n",
      "recall =  0.8295454545454546 \n",
      "precision =  1.0\n",
      "ann15 -> \n",
      " [[73  0]\n",
      " [12 42]] \n",
      "\n",
      " 0.905511811023622 \n",
      " f1_score :  0.9240506329113923 \n",
      "recall =  0.8588235294117647 \n",
      "precision =  1.0\n"
     ]
    }
   ],
   "source": [
    "x = []\n",
    "confusion_matrices = []\n",
    "for name,model in models:\n",
    "    predictions = model.predict(X_validation)\n",
    "    cnf = confusion_matrix(y_validation,predictions.round())\n",
    "    \n",
    "    yuzde = confusion_matrix_yuzde(cm=cnf)\n",
    "    f1_score , recall,precision= get_f1(cm=cnf)\n",
    "    print(name,'->','\\n',cnf,'\\n\\n',yuzde,'\\n','f1_score : ',f1_score,'\\nrecall = ',recall,'\\nprecision = ',precision)\n",
    "    x.append(predictions)\n",
    "\n",
    "sumpredictions = [sum(elts) for elts in zip(*x)]"
   ]
  }
 ],
 "metadata": {
  "kernelspec": {
   "display_name": "Python 3",
   "language": "python",
   "name": "python3"
  },
  "language_info": {
   "codemirror_mode": {
    "name": "ipython",
    "version": 3
   },
   "file_extension": ".py",
   "mimetype": "text/x-python",
   "name": "python",
   "nbconvert_exporter": "python",
   "pygments_lexer": "ipython3",
   "version": "3.5.2"
  }
 },
 "nbformat": 4,
 "nbformat_minor": 2
}
